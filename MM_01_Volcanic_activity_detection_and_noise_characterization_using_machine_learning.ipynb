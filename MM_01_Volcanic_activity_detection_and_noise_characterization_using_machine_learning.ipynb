{
 "cells": [
  {
   "cell_type": "raw",
   "metadata": {},
   "source": [
    "# EC 01 Volcanic activity detection and noise characterization using machine learning"
   ]
  },
  {
   "cell_type": "markdown",
   "metadata": {},
   "source": [
    "Linear regression prediction of height point."
   ]
  },
  {
   "cell_type": "markdown",
   "metadata": {},
   "source": [
    "## Author(s)\n",
    "\n",
    "\n",
    "- Author1 = {\"name\": \"Myles Mason\", \"affiliation\": \"Virginia Tech\", \"email\": \"mylesm18@vt.edu\", \"orcid\": \"0000-0002-8811-8294\"}\n",
    "- Author2 = {\"name\": \"John Wenskovitch\", \"affiliation\": \"Virginia Tech\", \"email\": \"jw87@vt.edu\", \"orcid\": \"0000-0002-0573-6442\"}\n",
    "- Author3 = {\"name\": \"D. Sarah Stamps\", \"affiliation\": \"Virginia Tech\", \"email\": \"dstamps@vt.edu\",\"orcid\": \"0000-0002-3531-1752\"}\n",
    "- Author4 = {\"name\": \"Joshua Robert Jones\", \"affiliation\": \"Virginia Tech\", \"email\": \"joshj55@vt.edu\", \"orcid\": \"0000-0002-6078-4287\"}\n",
    "- Author5 = {\"name\": \"Mike Dye\", \"affiliation\": \"Unaffiliated\", \"email\": \"mike@mikedye.com\", \"orcid\": \" 0000-0003-2065-870X\"}\n",
    "\n",
    "\n",
    "    "
   ]
  },
  {
   "cell_type": "markdown",
   "metadata": {},
   "source": [
    "## Purpose\n",
    "\n",
    "This Jupyter notebook explores methods towards characterizing noise and eventually predicting volcanic activity for [Ol Doinyo Lengai](http://tzvolcano.chordsrt.com)\n",
    " (an active volcano in Tanzania) with machine learning. Machine learning is a powerful tool that enables the automatization of complex mathematical and analytical models. In this Jupyter notebook, the components are time, height, latitude, and longitude. The predicted component values are the following heights. This project uses Global Navigation Satellite System (GNSS) data from the EarthCube CHORDS portal TZVOLCANO (Stamps et al. 2016; Daniels et al., 2016; Kerkez et al., 2016), which is the online interface for obtaining open-access real-time positioning data collected around Ol Doinyo Lengai(http://tzvolcano.chordsrt.com). The bulk of the project is the exploration of the data and later prediction of height points. The station that this project analyzes is OLO1 for days 12/16/2020 and 04/16/2021.  \n",
    "\n",
    "## Technical contributions\n",
    "- The training of the models and analysis uses basic linear algebra and statistics \n",
    "- The main libraries used (NumPy and pandas) are both libraries for data manipulation and linear algebra \n",
    "- The CHORDS site linked above is the location of the data and the interface of [CHORDS](http://tzvolcano.chordsrt.com)\n",
    "- Implementation of Linear Regression for prediction on time-series data\n",
    "\n",
    "## Methodology\n",
    "The desired data was imported and selected. Pre-processing and cleaning of the data occurred. The information was then visualized for better analysis along with statistical metrics running. Finally, linear regression models were built and analyzed for the data.\n",
    "\n",
    "\n",
    "## Results\n",
    "This notebook explored predicting height data from the TZVOLCANO CHORDS portal using Linear Regression from different days. It also evaluates how much test data is needed to best predict height data. We find that having 10% test data yields the best results for predictions with the Mean Squared Error of 8.325e-5% . For predictions from data inputted and predicted from a single day we find the 75% test data yields the best results with an average error of -1.074e-4 meters.\n",
    "\n",
    "## Funding\n",
    "\n",
    "- Award1 = {\"agency\": \"National Science Foundation EarthCube Program\", \"award_code\": \"1639554\", \"award_URL\": https://www.nsf.gov/awardsearch/showAward?AWD_ID=1639554&HistoricalAwards=false }\n",
    "- Award2 = {\"agency\": \"Virginia Tech Academy of Integrated Sciences Hamlett Undergraduate Research Award\", \"award_code\": \"44672\", \"award_URL\": \"\"}\n",
    "\n",
    "## Keywords\n",
    "\n",
    "\n",
    "keywords=[\"tzDF\", \"Linear Regression\", \"Concat\", \"Transpose\",\"Mean Squared Error(MSE)\"]\n",
    "\n",
    "## Citation\n",
    "Mason, Myles, John Wenskovitch, D. Sarah Stamps, Joshua Robert Jones,  Mike Dye (2021), EC_01_Volcanic_activity_detection_and_noise_characterization_using_machine learning, EarthCube Annual Meeting.\n",
    "\n",
    "## Suggested next steps\n",
    "The next step for this notebook will be increasing the inputs for the prediction model. More analysis of the noise will be crucial in the next step for further volcanic activity prediction. They are explicitly generating synthetic data that will mimic volcanic activity.\n",
    "## Acknowledgements\n",
    "- Virginia Tech Department of Geosciences \n",
    "- Alice and Luther Hamlet"
   ]
  },
  {
   "cell_type": "markdown",
   "metadata": {},
   "source": [
    "# Setup\n",
    "\n",
    "## Library import\n"
   ]
  },
  {
   "cell_type": "code",
   "execution_count": 1,
   "metadata": {},
   "outputs": [],
   "source": [
    "# Data manipulation\n",
    "import pandas as pd\n",
    "import json\n",
    "import numpy as np\n",
    "import math\n",
    "from datetime import datetime as dt\n",
    "\n",
    "\n",
    "# Visualizations\n",
    "%matplotlib inline\n",
    "import matplotlib.pyplot as plt\n",
    "import seaborn as sns\n",
    "\n",
    "# Modeling\n",
    "from sklearn.linear_model import LinearRegression\n",
    "from sklearn.model_selection import train_test_split\n",
    "from sklearn.metrics import mean_squared_error\n",
    "\n",
    "\n"
   ]
  },
  {
   "cell_type": "markdown",
   "metadata": {},
   "source": [
    "# Parameter definitions\n",
    "- 'tzDF': intial dataframe contains 12/06/2020 data \n",
    "- 'tz2DF': secondary dataframe contains 04/16/2021 data\n",
    "- 'ONE_THROUGH_TWENTY': array of values in tzDF[\"measurements_height\"] used for prediction\n",
    "- 'TWO_THROUGH_TWENTY_ONE':array of values in tzDF[\"measurements_height\"] used for prediction\n",
    "- 'THREE_THROUGH_TWENTY_TWO': array of values in tzDF[\"measurements_height\"] used for prediction\n",
    "- 'FOUR_THROUGH_TWENTY_THREE': array of values in tzDF[\"measurements_height\"] used for prediction\n",
    "- 'DECEMBER_SERIES_X': inputted height for 12/16/2020 data for Linear Regression \n",
    "- 'DECEMBER_SERIES_Y': target height data for 12/16/2020\n",
    "- 'APRIL_SERIES_X': inputted height data for 04/16/2021\n",
    "- 'APRIL_SERIES_Y': target height data for 04/16/2021\n",
    "- 'APRIL_PREDICTION': Predicted values from the two days\n"
   ]
  },
  {
   "cell_type": "markdown",
   "metadata": {},
   "source": [
    "\n",
    "# Data import\n"
   ]
  },
  {
   "cell_type": "markdown",
   "metadata": {},
   "source": [
    "The CHORDS notebook portal is where the data is acessed."
   ]
  },
  {
   "cell_type": "code",
   "execution_count": 2,
   "metadata": {},
   "outputs": [],
   "source": [
    "#Import for JSON files for manipulation\n",
    "''' Both files are station one, but the first date is December 16,2020\n",
    "    while the second date is April 16 2021.\n",
    "'''\n",
    "with open('OLO1_12_16_20.geojson', 'r', encoding=\"utf-8\") as infile:\n",
    "    tzList = json.load(infile)\n",
    "\n",
    "with open('OLO1_4_16_21.geojson', 'r', encoding=\"utf-8\") as infile:\n",
    "    tz2List = json.load(infile)"
   ]
  },
  {
   "cell_type": "markdown",
   "metadata": {},
   "source": [
    "# Data processing and analysis\n"
   ]
  },
  {
   "cell_type": "code",
   "execution_count": 3,
   "metadata": {
    "scrolled": true
   },
   "outputs": [
    {
     "name": "stdout",
     "output_type": "stream",
     "text": [
      "       measurements_lat  measurements_height  measurements_lon\n",
      "count      5.990000e+03          5990.000000      5.990000e+03\n",
      "mean       2.734205e+00           988.153415      3.595022e+01\n",
      "std        2.869056e-13             0.020116      1.547341e-07\n",
      "min        2.734205e+00           988.095000      3.595022e+01\n",
      "25%        2.734205e+00           988.139000      3.595022e+01\n",
      "50%        2.734205e+00           988.152000      3.595022e+01\n",
      "75%        2.734205e+00           988.167000      3.595022e+01\n",
      "max        2.734205e+00           988.226000      3.595022e+01\n"
     ]
    },
    {
     "data": {
      "text/html": [
       "<div>\n",
       "<style scoped>\n",
       "    .dataframe tbody tr th:only-of-type {\n",
       "        vertical-align: middle;\n",
       "    }\n",
       "\n",
       "    .dataframe tbody tr th {\n",
       "        vertical-align: top;\n",
       "    }\n",
       "\n",
       "    .dataframe thead th {\n",
       "        text-align: right;\n",
       "    }\n",
       "</style>\n",
       "<table border=\"1\" class=\"dataframe\">\n",
       "  <thead>\n",
       "    <tr style=\"text-align: right;\">\n",
       "      <th></th>\n",
       "      <th>time</th>\n",
       "      <th>test</th>\n",
       "      <th>measurements_lat</th>\n",
       "      <th>measurements_height</th>\n",
       "      <th>measurements_lon</th>\n",
       "    </tr>\n",
       "  </thead>\n",
       "  <tbody>\n",
       "    <tr>\n",
       "      <th>0</th>\n",
       "      <td>2020-12-16T05:08:18Z</td>\n",
       "      <td>false</td>\n",
       "      <td>2.734205</td>\n",
       "      <td>988.203</td>\n",
       "      <td>35.950217</td>\n",
       "    </tr>\n",
       "    <tr>\n",
       "      <th>1</th>\n",
       "      <td>2020-12-16T05:08:19Z</td>\n",
       "      <td>false</td>\n",
       "      <td>2.734205</td>\n",
       "      <td>988.206</td>\n",
       "      <td>35.950217</td>\n",
       "    </tr>\n",
       "    <tr>\n",
       "      <th>2</th>\n",
       "      <td>2020-12-16T05:08:20Z</td>\n",
       "      <td>false</td>\n",
       "      <td>2.734205</td>\n",
       "      <td>988.214</td>\n",
       "      <td>35.950217</td>\n",
       "    </tr>\n",
       "    <tr>\n",
       "      <th>3</th>\n",
       "      <td>2020-12-16T05:08:21Z</td>\n",
       "      <td>false</td>\n",
       "      <td>2.734205</td>\n",
       "      <td>988.226</td>\n",
       "      <td>35.950217</td>\n",
       "    </tr>\n",
       "    <tr>\n",
       "      <th>4</th>\n",
       "      <td>2020-12-16T05:24:41Z</td>\n",
       "      <td>false</td>\n",
       "      <td>2.734205</td>\n",
       "      <td>988.199</td>\n",
       "      <td>35.950217</td>\n",
       "    </tr>\n",
       "    <tr>\n",
       "      <th>...</th>\n",
       "      <td>...</td>\n",
       "      <td>...</td>\n",
       "      <td>...</td>\n",
       "      <td>...</td>\n",
       "      <td>...</td>\n",
       "    </tr>\n",
       "    <tr>\n",
       "      <th>5985</th>\n",
       "      <td>2020-12-17T04:48:44Z</td>\n",
       "      <td>false</td>\n",
       "      <td>2.734205</td>\n",
       "      <td>988.139</td>\n",
       "      <td>35.950217</td>\n",
       "    </tr>\n",
       "    <tr>\n",
       "      <th>5986</th>\n",
       "      <td>2020-12-17T04:53:51Z</td>\n",
       "      <td>false</td>\n",
       "      <td>2.734205</td>\n",
       "      <td>988.147</td>\n",
       "      <td>35.950217</td>\n",
       "    </tr>\n",
       "    <tr>\n",
       "      <th>5987</th>\n",
       "      <td>2020-12-17T04:53:52Z</td>\n",
       "      <td>false</td>\n",
       "      <td>2.734205</td>\n",
       "      <td>988.132</td>\n",
       "      <td>35.950217</td>\n",
       "    </tr>\n",
       "    <tr>\n",
       "      <th>5988</th>\n",
       "      <td>2020-12-17T04:55:09Z</td>\n",
       "      <td>false</td>\n",
       "      <td>2.734205</td>\n",
       "      <td>988.137</td>\n",
       "      <td>35.950217</td>\n",
       "    </tr>\n",
       "    <tr>\n",
       "      <th>5989</th>\n",
       "      <td>2020-12-17T04:59:54Z</td>\n",
       "      <td>false</td>\n",
       "      <td>2.734205</td>\n",
       "      <td>988.147</td>\n",
       "      <td>35.950217</td>\n",
       "    </tr>\n",
       "  </tbody>\n",
       "</table>\n",
       "<p>5990 rows × 5 columns</p>\n",
       "</div>"
      ],
      "text/plain": [
       "                      time   test  measurements_lat  measurements_height  \\\n",
       "0     2020-12-16T05:08:18Z  false          2.734205              988.203   \n",
       "1     2020-12-16T05:08:19Z  false          2.734205              988.206   \n",
       "2     2020-12-16T05:08:20Z  false          2.734205              988.214   \n",
       "3     2020-12-16T05:08:21Z  false          2.734205              988.226   \n",
       "4     2020-12-16T05:24:41Z  false          2.734205              988.199   \n",
       "...                    ...    ...               ...                  ...   \n",
       "5985  2020-12-17T04:48:44Z  false          2.734205              988.139   \n",
       "5986  2020-12-17T04:53:51Z  false          2.734205              988.147   \n",
       "5987  2020-12-17T04:53:52Z  false          2.734205              988.132   \n",
       "5988  2020-12-17T04:55:09Z  false          2.734205              988.137   \n",
       "5989  2020-12-17T04:59:54Z  false          2.734205              988.147   \n",
       "\n",
       "      measurements_lon  \n",
       "0            35.950217  \n",
       "1            35.950217  \n",
       "2            35.950217  \n",
       "3            35.950217  \n",
       "4            35.950217  \n",
       "...                ...  \n",
       "5985         35.950217  \n",
       "5986         35.950217  \n",
       "5987         35.950217  \n",
       "5988         35.950217  \n",
       "5989         35.950217  \n",
       "\n",
       "[5990 rows x 5 columns]"
      ]
     },
     "execution_count": 3,
     "metadata": {},
     "output_type": "execute_result"
    }
   ],
   "source": [
    "#Convert both JSON's into  a partially-flattened pandas DataFrame   \n",
    "tzDF =  pd.json_normalize(tzList[\"features\"][0][\"properties\"][\"data\"], sep='_')\n",
    "tz2DF =  pd.json_normalize(tzList[\"features\"][0][\"properties\"][\"data\"], sep='_')\n",
    "#Overview of numerical elements of the data\n",
    "print(tzDF.describe())\n",
    "tzDF"
   ]
  },
  {
   "cell_type": "markdown",
   "metadata": {},
   "source": [
    "From the .describe call looking at our data frame, there does not seem to be much variation in columns measurements_lat and measurements_lon because the DataFrame is from a single day. The reason for choosing to explore the measurements_height column in this notebook is because of the hypothesis that the surface will uplift if there is magma reservoir inflation or the surface will subside if there is magma reservior deflation. From viewing the data frame, the time column is in a time series form with extra separator variables \"T\" and \"Z\" in the following two cells; we will convert the timestamp column into an integer form for easy manipulation."
   ]
  },
  {
   "cell_type": "markdown",
   "metadata": {},
   "source": [
    " Function to convert timestamp column of tzDF and tz2DF from time series to an integer for easy manipulation."
   ]
  },
  {
   "cell_type": "code",
   "execution_count": 4,
   "metadata": {},
   "outputs": [],
   "source": [
    "def timeconvertfunc(timestamp):\n",
    " #The format of tzDF[\"measurments_height] is in string form and timeseries so this method make it an integer\"\n",
    "  ts = pd.Timestamp(timestamp, tz=None).to_pydatetime()\n",
    "  ts = 3600*ts.hour + 60*ts.minute + ts.second\n",
    "\n",
    "  return ts\n",
    "#Applying above method to the two data frames\n",
    "tzDF[\"timeconvert\"] = tzDF[\"time\"].apply(timeconvertfunc)\n",
    "tz2DF[\"timeconvert\"] = tzDF[\"time\"].apply(timeconvertfunc)\n"
   ]
  },
  {
   "cell_type": "markdown",
   "metadata": {},
   "source": [
    "## Visualization of basic statistics from measurements_height and linear regression"
   ]
  },
  {
   "cell_type": "markdown",
   "metadata": {},
   "source": [
    "In the code block below the four series objects are partitions of the measurements_height column in the tzDF DataFrame. We create these partitions to feed into a linear regression model for predictions."
   ]
  },
  {
   "cell_type": "code",
   "execution_count": 5,
   "metadata": {},
   "outputs": [
    {
     "data": {
      "image/png": "[encoded data removed]",
      "text/plain": [
       "<Figure size 432x288 with 1 Axes>"
      ]
     },
     "metadata": {
      "needs_background": "light"
     },
     "output_type": "display_data"
    },
    {
     "name": "stdout",
     "output_type": "stream",
     "text": [
      "The b value is 0.8366\n",
      "The m value is 161.5\n",
      "The R^2 value is 0.7395\n"
     ]
    }
   ],
   "source": [
    "# Series from the first Data Frame\n",
    "\n",
    "ONE_THROUGH_TWENTY = tzDF[\"measurements_height\"].loc[1:21].values.reshape(-1,1)\n",
    "TWO_THROUGH_TWENTY_ONE = tzDF[\"measurements_height\"].loc[2:22].values.reshape(-1,1)\n",
    "THREE_THROUGH_TWENTY_TWO =tzDF[\"measurements_height\"].loc[3:23].values.reshape(-1,1)\n",
    "FOUR_THROUGH_TWENTY_FOUR = tzDF[\"measurements_height\"].loc[4:24].values.reshape(-1,1)\n",
    "\n",
    "#Linear Regression model on columns 1-20 and 2-21\n",
    "\n",
    "lm = LinearRegression()\n",
    "lm.fit(ONE_THROUGH_TWENTY ,TWO_THROUGH_TWENTY_ONE)\n",
    "y_pred = lm.predict(ONE_THROUGH_TWENTY)\n",
    "plt.xlabel(\"actual height(meters)\")\n",
    "plt.ylabel(\"predicted height(meters)\")\n",
    "plt.title(\"actual height vs predicted height\")\n",
    "plt.scatter(ONE_THROUGH_TWENTY,TWO_THROUGH_TWENTY_ONE)\n",
    "plt.plot(ONE_THROUGH_TWENTY,y_pred,color=\"red\")\n",
    "plt.show()\n",
    "\n",
    "#Method to round for sigfigs\n",
    "def to_precision(x,p):\n",
    "    x = float(x)\n",
    "    if x == 0.:\n",
    "        return \"0.\" + \"0\"*(p-1)\n",
    "    out = []\n",
    "    if x < 0:\n",
    "        out.append(\"-\")\n",
    "        x = -x\n",
    "    e = int(math.log10(x))\n",
    "    tens = math.pow(10, e - p + 1)\n",
    "    n = math.floor(x/tens)\n",
    "    if n < math.pow(10, p - 1):\n",
    "        e = e -1\n",
    "        tens = math.pow(10, e - p+1)\n",
    "        n = math.floor(x / tens)\n",
    "    if abs((n + 1.) * tens - x) <= abs(n * tens -x):\n",
    "        n = n + 1\n",
    "    if n >= math.pow(10,p):\n",
    "        n = n / 10.\n",
    "        e = e + 1\n",
    "    m = \"%.*g\" % (p, n)\n",
    "    if e < -2 or e >= p:\n",
    "        out.append(m[0])\n",
    "        if p > 1:\n",
    "            out.append(\".\")\n",
    "            out.extend(m[1:p])\n",
    "        out.append('e')\n",
    "        if e > 0:\n",
    "            out.append(\"+\")\n",
    "        out.append(str(e))\n",
    "    elif e == (p -1):\n",
    "        out.append(m)\n",
    "    elif e >= 0:\n",
    "        out.append(m[:e+1])\n",
    "        if e+1 < len(m):\n",
    "            out.append(\".\")\n",
    "            out.extend(m[e+1:])\n",
    "    else:\n",
    "        out.append(\"0.\")\n",
    "        out.extend([\"0\"]*-(e+1))\n",
    "        out.append(m)\n",
    "\n",
    "    return \"\".join(out)\n",
    "print(\"The b value is\",to_precision(lm.coef_[0][0],4))\n",
    "\n",
    "print(\"The m value is\",to_precision(lm.intercept_[0],4))\n",
    "\n",
    "\n",
    "print(\"The R^2 value is\",to_precision(lm.score(ONE_THROUGH_TWENTY,TWO_THROUGH_TWENTY_ONE),4),)\n",
    "\n"
   ]
  },
  {
   "cell_type": "markdown",
   "metadata": {},
   "source": [
    "From the above model using the first through the twentieth column and second, through the twenty-second column, we yield a Coefficient of Correlation (R^2) value of about 0.73, which shows a positive correlation between the two inputs. So about 37% of the variation is residing in the residual."
   ]
  },
  {
   "cell_type": "markdown",
   "metadata": {},
   "source": [
    "## TWO_THROUGH_TWENTY_ONE and THREE_THROUGH_TWENTY_TWO "
   ]
  },
  {
   "cell_type": "code",
   "execution_count": 6,
   "metadata": {},
   "outputs": [
    {
     "data": {
      "image/png": "[encoded data removed]",
      "text/plain": [
       "<Figure size 432x288 with 1 Axes>"
      ]
     },
     "metadata": {
      "needs_background": "light"
     },
     "output_type": "display_data"
    },
    {
     "name": "stdout",
     "output_type": "stream",
     "text": [
      "This is the b value 0.8102\n",
      "This is the m value 187.5\n",
      "This is the R^2 0.7257\n"
     ]
    }
   ],
   "source": [
    "\n",
    "lm = LinearRegression()\n",
    "lm.fit(TWO_THROUGH_TWENTY_ONE ,THREE_THROUGH_TWENTY_TWO)\n",
    "y_pred1 = lm.predict(TWO_THROUGH_TWENTY_ONE)\n",
    "plt.scatter(TWO_THROUGH_TWENTY_ONE,THREE_THROUGH_TWENTY_TWO)\n",
    "plt.plot(TWO_THROUGH_TWENTY_ONE,y_pred1,color=\"green\")\n",
    "plt.xlabel(\"actual height(meters)\")\n",
    "plt.ylabel(\"predicted height(meters)\")\n",
    "plt.title(\"actual height vs predicted height\")\n",
    "plt.show()\n",
    "\n",
    "\n",
    "print(\"This is the b value\",to_precision(lm.coef_[0][0],4))\n",
    "print(\"This is the m value\",to_precision(lm.intercept_[0],4))\n",
    "print(\"This is the R^2\",to_precision(lm.score(TWO_THROUGH_TWENTY_ONE,THREE_THROUGH_TWENTY_TWO),4))\n",
    "\n",
    "\n"
   ]
  },
  {
   "cell_type": "markdown",
   "metadata": {},
   "source": [
    "From the above model using the first through the twentieth column and the second through the twenty-second column, we yield a Coefficient of Correlation (R^2) value of about 0.72, which shows a positive correlation between the two inputs. So about 38% of the variation is residing in the residual."
   ]
  },
  {
   "cell_type": "markdown",
   "metadata": {},
   "source": [
    "## Linear Regression from single day"
   ]
  },
  {
   "cell_type": "markdown",
   "metadata": {},
   "source": [
    "The following code chunk uses  Linear Regression (specifically with rows of height measurement) for  one_Through_Twenty,two_Through_Twenty_One, and \n",
    "three_Through_Twenty_Two. The data frame used for the model is tzDF, and we display the predicted values versus actual values."
   ]
  },
  {
   "cell_type": "code",
   "execution_count": 7,
   "metadata": {},
   "outputs": [
    {
     "data": {
      "image/png": "[encoded data removed]",
      "text/plain": [
       "<Figure size 432x288 with 1 Axes>"
      ]
     },
     "metadata": {
      "needs_background": "light"
     },
     "output_type": "display_data"
    },
    {
     "name": "stdout",
     "output_type": "stream",
     "text": [
      "measurements_height    0.0\n",
      "measurements_height    0.0\n",
      "measurements_height    0.0\n",
      "measurements_height    0.0\n",
      "Name: 21, dtype: float64\n"
     ]
    }
   ],
   "source": [
    "#Set up series object for partions in the dataframe\n",
    "ONE_THROUGH_TWENTY = tzDF[\"measurements_height\"].loc[1:21]\n",
    "TWO_THROUGH_TWENTY_ONE= tzDF[\"measurements_height\"].loc[2:22]\n",
    "THREE_THROUGH_TWENTY_TWO =tzDF[\"measurements_height\"].loc[3:23]\n",
    "FOUR_THROUGH_TWENTY_THREE = tzDF[\"measurements_height\"].loc[4:24]\n",
    "\n",
    "#Renaming the series objects\n",
    "ONE_THROUGH_TWENTY.rename({\"measurements_height\":\"w\"},axis =1,inplace=True)\n",
    "TWO_THROUGH_TWENTY_ONE.rename({\"measurements_height\":\"x\"},axis =1,inplace=True)\n",
    "THREE_THROUGH_TWENTY_TWO.rename({\"measurements_height\":\"y\"},axis =1,inplace=True)\n",
    "FOUR_THROUGH_TWENTY_THREE.rename({\"measurements_height\":\"z\"},axis =1,inplace=True)\n",
    "\n",
    "#Concating the series objects to one dataframe, result_DF\n",
    "result_DF = pd.concat([ONE_THROUGH_TWENTY,TWO_THROUGH_TWENTY_ONE,THREE_THROUGH_TWENTY_TWO,FOUR_THROUGH_TWENTY_THREE],axis=1)\n",
    "result_DF\n",
    "\n",
    "#Modefying dataframe by shifting the coulmns up \n",
    "result_DF.iloc[:,1] = result_DF.iloc[:,1].shift(-1)\n",
    "result_DF.iloc[:,2] = result_DF.iloc[:,2].shift(-2)\n",
    "result_DF.iloc[:,3] = result_DF.iloc[:,3].shift(-3)\n",
    "\n",
    "#Aligning all coulmns of the data frame together\n",
    "result_DF = result_DF.dropna()\n",
    "result_DF = result_DF.transpose()\n",
    "result_DF\n",
    "\n",
    "#Linear Regression on all rows and 1-19 coulmns \n",
    "lm = LinearRegression()\n",
    "x = result_DF.iloc[:,0:20]\n",
    "y = result_DF.iloc[:,20]\n",
    "lm.fit(x,y)\n",
    "y_pred1 = lm.predict(x)\n",
    "plt.scatter(y,y_pred1)\n",
    "plt.xlabel(\"actual height(m)\")\n",
    "plt.ylabel(\"predicted height(m)\")\n",
    "plt.title(\"actual height vs predicted height\")\n",
    "plt.show()\n",
    "#REMOVE CODE\n",
    "#print(\"This is the b value\",lm.coef_,)\n",
    "#print(\"This is the m value\",lm.intercept_)\n",
    "#print(\"This is the R^2\",lm.score(x,y))\n",
    "print(y-y_pred1)\n"
   ]
  },
  {
   "cell_type": "markdown",
   "metadata": {},
   "source": [
    "From the above graph, all points are predicted as the values overlap graphically with a b value of 0.0194. The height difference is zero. We will now increase the sample size of the data."
   ]
  },
  {
   "cell_type": "markdown",
   "metadata": {},
   "source": [
    "## Method to increase sample size for the model"
   ]
  },
  {
   "cell_type": "markdown",
   "metadata": {},
   "source": [
    "The method below takes in a data frame, goes into measurement height, and gets the first through nineteenth values in the height data frame. The first and nineteenth values are increased by one thousand times. The Data frame is transposed into columns then added to an empty list to be concatenated into a data frame."
   ]
  },
  {
   "cell_type": "code",
   "execution_count": 8,
   "metadata": {},
   "outputs": [
    {
     "data": {
      "text/html": [
       "<div>\n",
       "<style scoped>\n",
       "    .dataframe tbody tr th:only-of-type {\n",
       "        vertical-align: middle;\n",
       "    }\n",
       "\n",
       "    .dataframe tbody tr th {\n",
       "        vertical-align: top;\n",
       "    }\n",
       "\n",
       "    .dataframe thead th {\n",
       "        text-align: right;\n",
       "    }\n",
       "</style>\n",
       "<table border=\"1\" class=\"dataframe\">\n",
       "  <thead>\n",
       "    <tr style=\"text-align: right;\">\n",
       "      <th></th>\n",
       "      <th>history_A</th>\n",
       "      <th>history_B</th>\n",
       "      <th>history_C</th>\n",
       "      <th>history_D</th>\n",
       "      <th>history_E</th>\n",
       "      <th>history_F</th>\n",
       "      <th>history_G</th>\n",
       "      <th>history_H</th>\n",
       "      <th>history_I</th>\n",
       "      <th>history_J</th>\n",
       "      <th>history_K</th>\n",
       "      <th>history_L</th>\n",
       "      <th>history_M</th>\n",
       "      <th>history_N</th>\n",
       "      <th>history_O</th>\n",
       "      <th>history_P</th>\n",
       "      <th>history_Q</th>\n",
       "      <th>history_R</th>\n",
       "      <th>history_S</th>\n",
       "      <th>history_T</th>\n",
       "    </tr>\n",
       "  </thead>\n",
       "  <tbody>\n",
       "    <tr>\n",
       "      <th>0</th>\n",
       "      <td>988.129</td>\n",
       "      <td>988.146</td>\n",
       "      <td>988.148</td>\n",
       "      <td>988.131</td>\n",
       "      <td>988.130</td>\n",
       "      <td>988.145</td>\n",
       "      <td>988.112</td>\n",
       "      <td>988.127</td>\n",
       "      <td>988.140</td>\n",
       "      <td>988.114</td>\n",
       "      <td>988.122</td>\n",
       "      <td>988.151</td>\n",
       "      <td>988.164</td>\n",
       "      <td>988.140</td>\n",
       "      <td>988.143</td>\n",
       "      <td>988.146</td>\n",
       "      <td>988.132</td>\n",
       "      <td>988.133</td>\n",
       "      <td>988.117</td>\n",
       "      <td>988.158</td>\n",
       "    </tr>\n",
       "    <tr>\n",
       "      <th>1</th>\n",
       "      <td>988.146</td>\n",
       "      <td>988.148</td>\n",
       "      <td>988.131</td>\n",
       "      <td>988.130</td>\n",
       "      <td>988.145</td>\n",
       "      <td>988.112</td>\n",
       "      <td>988.127</td>\n",
       "      <td>988.140</td>\n",
       "      <td>988.114</td>\n",
       "      <td>988.122</td>\n",
       "      <td>988.151</td>\n",
       "      <td>988.164</td>\n",
       "      <td>988.140</td>\n",
       "      <td>988.143</td>\n",
       "      <td>988.146</td>\n",
       "      <td>988.132</td>\n",
       "      <td>988.133</td>\n",
       "      <td>988.117</td>\n",
       "      <td>988.158</td>\n",
       "      <td>988.152</td>\n",
       "    </tr>\n",
       "    <tr>\n",
       "      <th>2</th>\n",
       "      <td>988.148</td>\n",
       "      <td>988.131</td>\n",
       "      <td>988.130</td>\n",
       "      <td>988.145</td>\n",
       "      <td>988.112</td>\n",
       "      <td>988.127</td>\n",
       "      <td>988.140</td>\n",
       "      <td>988.114</td>\n",
       "      <td>988.122</td>\n",
       "      <td>988.151</td>\n",
       "      <td>988.164</td>\n",
       "      <td>988.140</td>\n",
       "      <td>988.143</td>\n",
       "      <td>988.146</td>\n",
       "      <td>988.132</td>\n",
       "      <td>988.133</td>\n",
       "      <td>988.117</td>\n",
       "      <td>988.158</td>\n",
       "      <td>988.152</td>\n",
       "      <td>988.164</td>\n",
       "    </tr>\n",
       "    <tr>\n",
       "      <th>3</th>\n",
       "      <td>988.131</td>\n",
       "      <td>988.130</td>\n",
       "      <td>988.145</td>\n",
       "      <td>988.112</td>\n",
       "      <td>988.127</td>\n",
       "      <td>988.140</td>\n",
       "      <td>988.114</td>\n",
       "      <td>988.122</td>\n",
       "      <td>988.151</td>\n",
       "      <td>988.164</td>\n",
       "      <td>988.140</td>\n",
       "      <td>988.143</td>\n",
       "      <td>988.146</td>\n",
       "      <td>988.132</td>\n",
       "      <td>988.133</td>\n",
       "      <td>988.117</td>\n",
       "      <td>988.158</td>\n",
       "      <td>988.152</td>\n",
       "      <td>988.164</td>\n",
       "      <td>988.153</td>\n",
       "    </tr>\n",
       "    <tr>\n",
       "      <th>4</th>\n",
       "      <td>988.130</td>\n",
       "      <td>988.145</td>\n",
       "      <td>988.112</td>\n",
       "      <td>988.127</td>\n",
       "      <td>988.140</td>\n",
       "      <td>988.114</td>\n",
       "      <td>988.122</td>\n",
       "      <td>988.151</td>\n",
       "      <td>988.164</td>\n",
       "      <td>988.140</td>\n",
       "      <td>988.143</td>\n",
       "      <td>988.146</td>\n",
       "      <td>988.132</td>\n",
       "      <td>988.133</td>\n",
       "      <td>988.117</td>\n",
       "      <td>988.158</td>\n",
       "      <td>988.152</td>\n",
       "      <td>988.164</td>\n",
       "      <td>988.153</td>\n",
       "      <td>988.152</td>\n",
       "    </tr>\n",
       "    <tr>\n",
       "      <th>...</th>\n",
       "      <td>...</td>\n",
       "      <td>...</td>\n",
       "      <td>...</td>\n",
       "      <td>...</td>\n",
       "      <td>...</td>\n",
       "      <td>...</td>\n",
       "      <td>...</td>\n",
       "      <td>...</td>\n",
       "      <td>...</td>\n",
       "      <td>...</td>\n",
       "      <td>...</td>\n",
       "      <td>...</td>\n",
       "      <td>...</td>\n",
       "      <td>...</td>\n",
       "      <td>...</td>\n",
       "      <td>...</td>\n",
       "      <td>...</td>\n",
       "      <td>...</td>\n",
       "      <td>...</td>\n",
       "      <td>...</td>\n",
       "    </tr>\n",
       "    <tr>\n",
       "      <th>1995</th>\n",
       "      <td>988.123</td>\n",
       "      <td>988.129</td>\n",
       "      <td>988.139</td>\n",
       "      <td>988.126</td>\n",
       "      <td>988.139</td>\n",
       "      <td>988.149</td>\n",
       "      <td>988.140</td>\n",
       "      <td>988.144</td>\n",
       "      <td>988.138</td>\n",
       "      <td>988.135</td>\n",
       "      <td>988.135</td>\n",
       "      <td>988.147</td>\n",
       "      <td>988.152</td>\n",
       "      <td>988.157</td>\n",
       "      <td>988.127</td>\n",
       "      <td>988.125</td>\n",
       "      <td>988.143</td>\n",
       "      <td>988.133</td>\n",
       "      <td>988.133</td>\n",
       "      <td>988.149</td>\n",
       "    </tr>\n",
       "    <tr>\n",
       "      <th>1996</th>\n",
       "      <td>988.129</td>\n",
       "      <td>988.139</td>\n",
       "      <td>988.126</td>\n",
       "      <td>988.139</td>\n",
       "      <td>988.149</td>\n",
       "      <td>988.140</td>\n",
       "      <td>988.144</td>\n",
       "      <td>988.138</td>\n",
       "      <td>988.135</td>\n",
       "      <td>988.135</td>\n",
       "      <td>988.147</td>\n",
       "      <td>988.152</td>\n",
       "      <td>988.157</td>\n",
       "      <td>988.127</td>\n",
       "      <td>988.125</td>\n",
       "      <td>988.143</td>\n",
       "      <td>988.133</td>\n",
       "      <td>988.133</td>\n",
       "      <td>988.149</td>\n",
       "      <td>988.143</td>\n",
       "    </tr>\n",
       "    <tr>\n",
       "      <th>1997</th>\n",
       "      <td>988.139</td>\n",
       "      <td>988.126</td>\n",
       "      <td>988.139</td>\n",
       "      <td>988.149</td>\n",
       "      <td>988.140</td>\n",
       "      <td>988.144</td>\n",
       "      <td>988.138</td>\n",
       "      <td>988.135</td>\n",
       "      <td>988.135</td>\n",
       "      <td>988.147</td>\n",
       "      <td>988.152</td>\n",
       "      <td>988.157</td>\n",
       "      <td>988.127</td>\n",
       "      <td>988.125</td>\n",
       "      <td>988.143</td>\n",
       "      <td>988.133</td>\n",
       "      <td>988.133</td>\n",
       "      <td>988.149</td>\n",
       "      <td>988.143</td>\n",
       "      <td>988.131</td>\n",
       "    </tr>\n",
       "    <tr>\n",
       "      <th>1998</th>\n",
       "      <td>988.126</td>\n",
       "      <td>988.139</td>\n",
       "      <td>988.149</td>\n",
       "      <td>988.140</td>\n",
       "      <td>988.144</td>\n",
       "      <td>988.138</td>\n",
       "      <td>988.135</td>\n",
       "      <td>988.135</td>\n",
       "      <td>988.147</td>\n",
       "      <td>988.152</td>\n",
       "      <td>988.157</td>\n",
       "      <td>988.127</td>\n",
       "      <td>988.125</td>\n",
       "      <td>988.143</td>\n",
       "      <td>988.133</td>\n",
       "      <td>988.133</td>\n",
       "      <td>988.149</td>\n",
       "      <td>988.143</td>\n",
       "      <td>988.131</td>\n",
       "      <td>988.131</td>\n",
       "    </tr>\n",
       "    <tr>\n",
       "      <th>1999</th>\n",
       "      <td>988.139</td>\n",
       "      <td>988.149</td>\n",
       "      <td>988.140</td>\n",
       "      <td>988.144</td>\n",
       "      <td>988.138</td>\n",
       "      <td>988.135</td>\n",
       "      <td>988.135</td>\n",
       "      <td>988.147</td>\n",
       "      <td>988.152</td>\n",
       "      <td>988.157</td>\n",
       "      <td>988.127</td>\n",
       "      <td>988.125</td>\n",
       "      <td>988.143</td>\n",
       "      <td>988.133</td>\n",
       "      <td>988.133</td>\n",
       "      <td>988.149</td>\n",
       "      <td>988.143</td>\n",
       "      <td>988.131</td>\n",
       "      <td>988.131</td>\n",
       "      <td>988.134</td>\n",
       "    </tr>\n",
       "  </tbody>\n",
       "</table>\n",
       "<p>2000 rows × 20 columns</p>\n",
       "</div>"
      ],
      "text/plain": [
       "      history_A  history_B  history_C  history_D  history_E  history_F  \\\n",
       "0       988.129    988.146    988.148    988.131    988.130    988.145   \n",
       "1       988.146    988.148    988.131    988.130    988.145    988.112   \n",
       "2       988.148    988.131    988.130    988.145    988.112    988.127   \n",
       "3       988.131    988.130    988.145    988.112    988.127    988.140   \n",
       "4       988.130    988.145    988.112    988.127    988.140    988.114   \n",
       "...         ...        ...        ...        ...        ...        ...   \n",
       "1995    988.123    988.129    988.139    988.126    988.139    988.149   \n",
       "1996    988.129    988.139    988.126    988.139    988.149    988.140   \n",
       "1997    988.139    988.126    988.139    988.149    988.140    988.144   \n",
       "1998    988.126    988.139    988.149    988.140    988.144    988.138   \n",
       "1999    988.139    988.149    988.140    988.144    988.138    988.135   \n",
       "\n",
       "      history_G  history_H  history_I  history_J  history_K  history_L  \\\n",
       "0       988.112    988.127    988.140    988.114    988.122    988.151   \n",
       "1       988.127    988.140    988.114    988.122    988.151    988.164   \n",
       "2       988.140    988.114    988.122    988.151    988.164    988.140   \n",
       "3       988.114    988.122    988.151    988.164    988.140    988.143   \n",
       "4       988.122    988.151    988.164    988.140    988.143    988.146   \n",
       "...         ...        ...        ...        ...        ...        ...   \n",
       "1995    988.140    988.144    988.138    988.135    988.135    988.147   \n",
       "1996    988.144    988.138    988.135    988.135    988.147    988.152   \n",
       "1997    988.138    988.135    988.135    988.147    988.152    988.157   \n",
       "1998    988.135    988.135    988.147    988.152    988.157    988.127   \n",
       "1999    988.135    988.147    988.152    988.157    988.127    988.125   \n",
       "\n",
       "      history_M  history_N  history_O  history_P  history_Q  history_R  \\\n",
       "0       988.164    988.140    988.143    988.146    988.132    988.133   \n",
       "1       988.140    988.143    988.146    988.132    988.133    988.117   \n",
       "2       988.143    988.146    988.132    988.133    988.117    988.158   \n",
       "3       988.146    988.132    988.133    988.117    988.158    988.152   \n",
       "4       988.132    988.133    988.117    988.158    988.152    988.164   \n",
       "...         ...        ...        ...        ...        ...        ...   \n",
       "1995    988.152    988.157    988.127    988.125    988.143    988.133   \n",
       "1996    988.157    988.127    988.125    988.143    988.133    988.133   \n",
       "1997    988.127    988.125    988.143    988.133    988.133    988.149   \n",
       "1998    988.125    988.143    988.133    988.133    988.149    988.143   \n",
       "1999    988.143    988.133    988.133    988.149    988.143    988.131   \n",
       "\n",
       "      history_S  history_T  \n",
       "0       988.117    988.158  \n",
       "1       988.158    988.152  \n",
       "2       988.152    988.164  \n",
       "3       988.164    988.153  \n",
       "4       988.153    988.152  \n",
       "...         ...        ...  \n",
       "1995    988.133    988.149  \n",
       "1996    988.149    988.143  \n",
       "1997    988.143    988.131  \n",
       "1998    988.131    988.131  \n",
       "1999    988.131    988.134  \n",
       "\n",
       "[2000 rows x 20 columns]"
      ]
     },
     "execution_count": 8,
     "metadata": {},
     "output_type": "execute_result"
    }
   ],
   "source": [
    "#Making an empty list to store coulmn values\n",
    "empty_list = []\n",
    "def make_list(DataFrame):\n",
    "    i = 0\n",
    "    for i in range(1000):  \n",
    "        change = tzDF[\"measurements_height\"].iloc[i+1:i+21].to_frame().transpose()\n",
    "        #Names of the columns\n",
    "        change.columns = [\"history_1\",\"history_2\",\"history_3\",\"history_4\",\"history_5\",\n",
    "                          \"history_6\",\"history_7\",\"history_8\",\"history_9\",\"history_10\",\n",
    "                          \"history_11\",\"history_12\",\"history_13\",\"history_14\",\"history_15\",\n",
    "                          \"history_16\",\"history_17\",\"history_18\",\"history_19\",\"history_20\"]\n",
    "        change.index = [i]\n",
    "        empty_list.append(change)\n",
    "    return empty_list\n",
    "# List of all columns values \n",
    "tzDF_list = make_list(tzDF[\"measurements_height\"])\n",
    "tzDF_two_list = make_list(tz2DF[\"measurements_height\"])\n",
    "\n",
    "#List iteration to combine all elements in list\n",
    "finalDF = pd.concat([m for m in tzDF_list])\n",
    "finalDF_two =  pd.concat([m for m in tzDF_two_list])\n",
    "finalDF_two\n",
    "\n",
    "\n",
    "empty_list_two = []\n",
    "def make_list_two(DataFrame):\n",
    "    i = 0\n",
    "    for i in range(2000):  \n",
    "        change = tzDF[\"measurements_height\"].iloc[i+1001:i+1021].to_frame().transpose()\n",
    "        #Names of the columns\n",
    "        change.columns = [\"history_A\",\"history_B\",\"history_C\",\"history_D\",\"history_E\",\n",
    "                          \"history_F\",\"history_G\",\"history_H\",\"history_I\",\"history_J\",\n",
    "                          \"history_K\",\"history_L\",\"history_M\",\"history_N\",\"history_O\",\n",
    "                          \"history_P\",\"history_Q\",\"history_R\",\"history_S\",\"history_T\"]\n",
    "        change.index = [i]\n",
    "        empty_list_two.append(change)\n",
    "    return empty_list_two\n",
    "# List of all columns values \n",
    "tzDF_list_other = make_list_two(tzDF[\"measurements_height\"])\n",
    "other_final_DF = pd.concat([m for m in tzDF_list_other])\n",
    "other_final_DF"
   ]
  },
  {
   "cell_type": "markdown",
   "metadata": {},
   "source": [
    "## Increased data points for linear regression"
   ]
  },
  {
   "cell_type": "markdown",
   "metadata": {},
   "source": [
    "Below we will take the freshly made data frame finalDF with 200 rows x 20 columns, put the data into a linear regression utilizing the train test split module from the sci-kit library. The test sizes of 35, 55, and 75 are used for variability. The x is all of the rows in the new data frame and columns 1-19, while the or output is all of the rows and the 19th column that we are predicting."
   ]
  },
  {
   "cell_type": "markdown",
   "metadata": {},
   "source": [
    "## 35% Test Data demonstration"
   ]
  },
  {
   "cell_type": "code",
   "execution_count": 9,
   "metadata": {},
   "outputs": [
    {
     "name": "stdout",
     "output_type": "stream",
     "text": [
      "-2.296e-4\n"
     ]
    },
    {
     "data": {
      "image/png": "[encoded data removed]",
      "text/plain": [
       "<Figure size 432x288 with 1 Axes>"
      ]
     },
     "metadata": {
      "needs_background": "light"
     },
     "output_type": "display_data"
    }
   ],
   "source": [
    "\n",
    "def make_prediction(DataFrame,number): \n",
    "    input_Data = finalDF.iloc[:,0:19]\n",
    "    target_Data = finalDF.iloc[:,19]\n",
    "    lm = LinearRegression()\n",
    "    lm.fit(input_Data,target_Data)\n",
    "    y_pred1 = lm.predict(input_Data)\n",
    "    plt.scatter(target_Data,y_pred1)\n",
    "    plt.xlabel(\"target height(m)\")\n",
    "    plt.ylabel(\"predicted height(m)\")\n",
    "    plt.title(\"Target vs Predicted\")\n",
    "    plt.scatter\n",
    "    # x axis is actual height and y is what lm model is predicting in scatter\n",
    "    X_train, X_test, y_train, y_test = train_test_split(input_Data, target_Data,test_size = number, random_state=50)\n",
    "    model = lm.fit(X_train,y_train)\n",
    "    prediction = lm.predict(X_test)\n",
    "    #Series of the difference of the test the leng\n",
    "    error_Series = y_test-prediction\n",
    "    #average\n",
    "    average_Difference = sum(error_Series/len(error_Series))\n",
    "    #print(average_Difference)\n",
    "    print(to_precision(average_Difference,4))\n",
    "\n",
    "make_prediction(tzDF,0.35)"
   ]
  },
  {
   "cell_type": "markdown",
   "metadata": {},
   "source": [
    "When y_test-y_prediciton, we get an average difference of -0.0003 from the model's actual and predicted values in the above cell. From the outliers in the plot, we can view the noise graphically."
   ]
  },
  {
   "cell_type": "markdown",
   "metadata": {},
   "source": [
    "## 55% Test Data demonstration"
   ]
  },
  {
   "cell_type": "code",
   "execution_count": 10,
   "metadata": {},
   "outputs": [
    {
     "name": "stdout",
     "output_type": "stream",
     "text": [
      "-3.078e-4\n"
     ]
    },
    {
     "data": {
      "image/png": "[encoded data removed]",
      "text/plain": [
       "<Figure size 432x288 with 1 Axes>"
      ]
     },
     "metadata": {
      "needs_background": "light"
     },
     "output_type": "display_data"
    }
   ],
   "source": [
    "#Function Call for 55% test data dem\n",
    "make_prediction(tzDF,0.55)"
   ]
  },
  {
   "cell_type": "markdown",
   "metadata": {},
   "source": [
    "In the above cell, when y_test-y_prediciton, we get an average difference of -0.00030778063659289 from the model's actual and predicted values."
   ]
  },
  {
   "cell_type": "markdown",
   "metadata": {},
   "source": [
    "## 75% Test Data demonstration"
   ]
  },
  {
   "cell_type": "code",
   "execution_count": 11,
   "metadata": {},
   "outputs": [
    {
     "name": "stdout",
     "output_type": "stream",
     "text": [
      "-1.074e-4\n"
     ]
    },
    {
     "data": {
      "image/png": "[encoded data removed]",
      "text/plain": [
       "<Figure size 432x288 with 1 Axes>"
      ]
     },
     "metadata": {
      "needs_background": "light"
     },
     "output_type": "display_data"
    }
   ],
   "source": [
    "#Function Call for 75% test data dem\n",
    "make_prediction(tzDF,0.75)"
   ]
  },
  {
   "cell_type": "markdown",
   "metadata": {},
   "source": [
    "In the above cell when y_test-y_prediciton we get an average difference of -0.0001 from the model's actual and predicted values."
   ]
  },
  {
   "cell_type": "markdown",
   "metadata": {},
   "source": [
    "## Using one day's data to predict a different day's data"
   ]
  },
  {
   "cell_type": "markdown",
   "metadata": {},
   "source": [
    "The demonstrations below utilize the second data frame now named finalDF_two. The December 16, 2020 dates data will be trained to predict the April 16, 2020 dates data. The test size increases by ten percent in the range of 20-90 for variability. We will be using the Mean Squared value that shows the error for linear regression to view the model's accuracy."
   ]
  },
  {
   "cell_type": "markdown",
   "metadata": {},
   "source": [
    "## Prediction from 10% test size data"
   ]
  },
  {
   "cell_type": "code",
   "execution_count": 12,
   "metadata": {},
   "outputs": [
    {
     "data": {
      "image/png": "[encoded data removed]",
      "text/plain": [
       "<Figure size 432x288 with 1 Axes>"
      ]
     },
     "metadata": {
      "needs_background": "light"
     },
     "output_type": "display_data"
    },
    {
     "name": "stdout",
     "output_type": "stream",
     "text": [
      "The mean squared error for this model is 8.325e-5 %.\n"
     ]
    }
   ],
   "source": [
    "def different_Day_Prediction(DataFrame,number):\n",
    "    DECEMBER_SERIES_X  = finalDF.iloc[:,0:19]\n",
    "    DECEMBER_SERIES_Y = finalDF.iloc[:,19]\n",
    "    APRIL_SERIES_X = finalDF_two.iloc[:,0:19]\n",
    "    APRIL_SERIES_Y= finalDF_two.iloc[:,19]\n",
    "    lm.fit(DECEMBER_SERIES_X,DECEMBER_SERIES_Y)\n",
    "    y_pred1 = lm.predict(DECEMBER_SERIES_X)\n",
    "    #train_test_split_module\n",
    "    X_train, X_test, y_train, y_test = train_test_split(DECEMBER_SERIES_X, APRIL_SERIES_Y, test_size=number,random_state=50)\n",
    "    model = lm.fit(X_train,y_train)\n",
    "    model.intercept_\n",
    "    model.coef_\n",
    "    #setting the prediciton variable \n",
    "    APRIL_PREDICTION = model.predict(APRIL_SERIES_X)\n",
    "    #50 bins were picked for all of the models below\n",
    "    #Distrubution of Errors pred vs actual\n",
    "    plt.hist(APRIL_PREDICTION-APRIL_SERIES_Y,bins = 50,color =\"black\")\n",
    "    plt.xlabel(\"meters(m)\")\n",
    "    plt.ylabel(\"distribution\")\n",
    "    plt.title(\"Distrbution of predicted minus actual\")\n",
    "    plt.show()\n",
    "    #Displaying Mean Squared Error\n",
    "    twenty_MSE = mean_squared_error(APRIL_SERIES_Y,APRIL_PREDICTION)\n",
    "    print(\"The mean squared error for this model is\",to_precision(twenty_MSE,4),\"%.\")\n",
    "\n",
    "different_Day_Prediction(tzDF,.1)"
   ]
  },
  {
   "cell_type": "markdown",
   "metadata": {},
   "source": [
    "## Prediction from 20% test size data"
   ]
  },
  {
   "cell_type": "markdown",
   "metadata": {},
   "source": [
    "In the cell below, december_Series_X and decemeber_Series_Y will be the data that is used to train the model. April_Series_X and april_Series_Y will be the different days and data that we predict it points from. We will display a histogram to view the error distribution between the actual and predicted data as well as "
   ]
  },
  {
   "cell_type": "code",
   "execution_count": 13,
   "metadata": {},
   "outputs": [
    {
     "data": {
      "image/png": "[encoded data removed]",
      "text/plain": [
       "<Figure size 432x288 with 1 Axes>"
      ]
     },
     "metadata": {
      "needs_background": "light"
     },
     "output_type": "display_data"
    },
    {
     "name": "stdout",
     "output_type": "stream",
     "text": [
      "The mean squared error for this model is 8.344e-5 %.\n"
     ]
    }
   ],
   "source": [
    "different_Day_Prediction(tzDF,.2)"
   ]
  },
  {
   "cell_type": "markdown",
   "metadata": {},
   "source": [
    "In the above cell, the histogram displayed displays the error from the prediction minus the series. Most of the distribution of the data is centered around zero, indicating the performance of the model. The MSE is extremely low, showing the accuracy of the model."
   ]
  },
  {
   "cell_type": "markdown",
   "metadata": {},
   "source": [
    "## Prediction from 30% test size data"
   ]
  },
  {
   "cell_type": "markdown",
   "metadata": {},
   "source": [
    "In the cell below our we will be inputting in 30% test data."
   ]
  },
  {
   "cell_type": "code",
   "execution_count": 14,
   "metadata": {},
   "outputs": [
    {
     "data": {
      "image/png": "[encoded data removed]",
      "text/plain": [
       "<Figure size 432x288 with 1 Axes>"
      ]
     },
     "metadata": {
      "needs_background": "light"
     },
     "output_type": "display_data"
    },
    {
     "name": "stdout",
     "output_type": "stream",
     "text": [
      "The mean squared error for this model is 8.354e-5 %.\n"
     ]
    }
   ],
   "source": [
    "different_Day_Prediction(tzDF,.3)"
   ]
  },
  {
   "cell_type": "markdown",
   "metadata": {},
   "source": [
    "## Prediction from 40% test size data"
   ]
  },
  {
   "cell_type": "code",
   "execution_count": 15,
   "metadata": {
    "scrolled": true
   },
   "outputs": [
    {
     "data": {
      "image/png": "[encoded data removed]",
      "text/plain": [
       "<Figure size 432x288 with 1 Axes>"
      ]
     },
     "metadata": {
      "needs_background": "light"
     },
     "output_type": "display_data"
    },
    {
     "name": "stdout",
     "output_type": "stream",
     "text": [
      "The mean squared error for this model is 8.383e-5 %.\n"
     ]
    }
   ],
   "source": [
    "different_Day_Prediction(tzDF,.4)"
   ]
  },
  {
   "cell_type": "markdown",
   "metadata": {},
   "source": [
    "## Prediction from 50% test size data"
   ]
  },
  {
   "cell_type": "code",
   "execution_count": 16,
   "metadata": {},
   "outputs": [
    {
     "data": {
      "image/png": "[encoded data removed]",
      "text/plain": [
       "<Figure size 432x288 with 1 Axes>"
      ]
     },
     "metadata": {
      "needs_background": "light"
     },
     "output_type": "display_data"
    },
    {
     "name": "stdout",
     "output_type": "stream",
     "text": [
      "The mean squared error for this model is 8.383e-5 %.\n"
     ]
    }
   ],
   "source": [
    "different_Day_Prediction(tzDF,.5)"
   ]
  },
  {
   "cell_type": "markdown",
   "metadata": {},
   "source": [
    "## Prediction from 60% test size data"
   ]
  },
  {
   "cell_type": "code",
   "execution_count": 17,
   "metadata": {},
   "outputs": [
    {
     "data": {
      "image/png": "[encoded data removed]",
      "text/plain": [
       "<Figure size 432x288 with 1 Axes>"
      ]
     },
     "metadata": {
      "needs_background": "light"
     },
     "output_type": "display_data"
    },
    {
     "name": "stdout",
     "output_type": "stream",
     "text": [
      "The mean squared error for this model is 8.487e-5 %.\n"
     ]
    }
   ],
   "source": [
    "different_Day_Prediction(tzDF,.6)"
   ]
  },
  {
   "cell_type": "markdown",
   "metadata": {},
   "source": [
    "## Prediction from 70% test size data"
   ]
  },
  {
   "cell_type": "code",
   "execution_count": 18,
   "metadata": {},
   "outputs": [
    {
     "data": {
      "image/png": "[encoded data removed]",
      "text/plain": [
       "<Figure size 432x288 with 1 Axes>"
      ]
     },
     "metadata": {
      "needs_background": "light"
     },
     "output_type": "display_data"
    },
    {
     "name": "stdout",
     "output_type": "stream",
     "text": [
      "The mean squared error for this model is 8.563e-5 %.\n"
     ]
    }
   ],
   "source": [
    "different_Day_Prediction(tzDF,.7)"
   ]
  },
  {
   "cell_type": "markdown",
   "metadata": {},
   "source": [
    "## Prediction from 80% test size data"
   ]
  },
  {
   "cell_type": "code",
   "execution_count": 19,
   "metadata": {},
   "outputs": [
    {
     "data": {
      "image/png": "[encoded data removed]",
      "text/plain": [
       "<Figure size 432x288 with 1 Axes>"
      ]
     },
     "metadata": {
      "needs_background": "light"
     },
     "output_type": "display_data"
    },
    {
     "name": "stdout",
     "output_type": "stream",
     "text": [
      "The mean squared error for this model is 8.615e-5 %.\n"
     ]
    }
   ],
   "source": [
    "different_Day_Prediction(tzDF,.8)"
   ]
  },
  {
   "cell_type": "markdown",
   "metadata": {},
   "source": [
    "## Prediction from 90% test size data"
   ]
  },
  {
   "cell_type": "code",
   "execution_count": 20,
   "metadata": {},
   "outputs": [
    {
     "data": {
      "image/png": "[encoded data removed]",
      "text/plain": [
       "<Figure size 432x288 with 1 Axes>"
      ]
     },
     "metadata": {
      "needs_background": "light"
     },
     "output_type": "display_data"
    },
    {
     "name": "stdout",
     "output_type": "stream",
     "text": [
      "The mean squared error for this model is 8.956e-5 %.\n"
     ]
    }
   ],
   "source": [
    "different_Day_Prediction(tzDF,.9)"
   ]
  },
  {
   "cell_type": "markdown",
   "metadata": {},
   "source": [
    "The mean square error for the above models is deficient, showing the success of inputting in height data for one day and predicting height data from another day."
   ]
  },
  {
   "cell_type": "markdown",
   "metadata": {},
   "source": [
    "# Results"
   ]
  },
  {
   "cell_type": "markdown",
   "metadata": {},
   "source": [
    "With this notebook we explored the use of machine learning for predictive analytics applied to vertical surface motions at an active volcano in Tanzania, Ol Doinyo Lengai. When training a model on one day and using that model to predict height values from another day, our lowest error was 8.325e-5 %. The future implications for this project and data are important because Ol Doinyo Lengai future eruption could cause distress for not only Tanzania, but other countries surrounding Tanzania. The ability to predict volcanic activity will be a valuable contribution to volcanic hazards assessment."
   ]
  },
  {
   "cell_type": "markdown",
   "metadata": {},
   "source": [
    "# References\n",
    "\n"
   ]
  },
  {
   "cell_type": "markdown",
   "metadata": {},
   "source": [
    "Daniels, Mike, Branko Kerkez, V. Chandrasekar, Sara Graves, D. Sarah Stamps, Charles Martin, Aaron Botnick, Michael Dye, Ryan Gooch, Josh Jones, Ken Keiser, Matthew Bartos, Thaovy Nguyen, Robyn Collins, Sophia Chen, Terrie Yang, Abbi Devins-Suresh (2016). Cloud-Hosted Real-time Data Services for the Geosciences (CHORDS) software (Version 1.0.1). UCAR/NCAR - EarthCube. https://doi.org/10.5065/d6v1236q\n",
    "\n",
    "Kerkez, Branko, Michael Daniels, Sara Graves, V. Chandrasekar, Ken Keiser, Charlie Martin, Michael Dye, Manil Maskey, and Frank Vernon. \"Cloud Hosted Real‐time Data Services for the Geosciences (CHORDS).\" (2016), doi: 10.1002/gdj3.36. \n",
    "\n",
    "GeÌ ron, Aureì lien. 2019. Hands-on Machine Learning with Scikit-Learn, Keras and TensorFlow: Concepts, Tools, and Techniques to Build Intelligent Systems. 2nd ed. CA 95472: O’Reilly.\n",
    "\n",
    "Stamps, D. S., Saria, E., Ji, K. H., Jones, J. R., Ntambila, D., Daniels, M. D., &amp; Mencin, D. (2016). <i>Real-time data from the Tanzania Volcano Observatory at the Ol Doinyo Lengai volcano in Tanzania (TZVOLCANO).</i> UCAR/NCAR - EarthCube. https://doi.org/10.5065/D6P849BM"
   ]
  },
  {
   "cell_type": "markdown",
   "metadata": {},
   "source": [
    "# Different Day Observation"
   ]
  },
  {
   "cell_type": "code",
   "execution_count": 21,
   "metadata": {},
   "outputs": [],
   "source": [
    "def different_Day_Prediction(DataFrame,number):\n",
    "    DECEMBER_SERIES_X  = finalDF.iloc[:,0:19]\n",
    "    DECEMBER_SERIES_Y = finalDF.iloc[:,19]\n",
    "    APRIL_SERIES_X = finalDF_two.iloc[:,0:19]\n",
    "    APRIL_SERIES_Y= finalDF_two.iloc[:,19]\n",
    "    lm.fit(DECEMBER_SERIES_X,DECEMBER_SERIES_Y)\n",
    "    y_pred1 = lm.predict(DECEMBER_SERIES_X)\n",
    "    #train_test_split_module\n",
    "    X_train, X_test, y_train, y_test = train_test_split(DECEMBER_SERIES_X, APRIL_SERIES_Y, test_size=number,random_state=50)\n",
    "    model = lm.fit(X_train,y_train)\n",
    "    model.intercept_\n",
    "    model.coef_\n",
    "    #setting the prediciton variable \n",
    "    APRIL_PREDICTION = model.predict(APRIL_SERIES_X)\n",
    "    #50 bins were picked for all of the models below\n",
    "    #Distrubution of Errors pred vs actual\n",
    "    plt.hist(APRIL_PREDICTION-APRIL_SERIES_Y,bins = 50,color =\"black\")\n",
    "    plt.xlabel(\"meters(m)\")\n",
    "    plt.ylabel(\"distribution\")\n",
    "    plt.title(\"Distrbution of predicted minus actual\")\n",
    "    plt.show()\n",
    "    #Displaying Mean Squared Error\n",
    "    twenty_MSE = mean_squared_error(APRIL_SERIES_Y,APRIL_PREDICTION)\n",
    "    print(\"The mean squared error for this model is\",to_precision(twenty_MSE,4),\"%.\")\n"
   ]
  },
  {
   "cell_type": "code",
   "execution_count": 22,
   "metadata": {},
   "outputs": [
    {
     "ename": "NameError",
     "evalue": "name 'tzDF3' is not defined",
     "output_type": "error",
     "traceback": [
      "\u001b[0;31m---------------------------------------------------------------------------\u001b[0m",
      "\u001b[0;31mNameError\u001b[0m                                 Traceback (most recent call last)",
      "\u001b[0;32m<ipython-input-22-f6ffc62c1bf1>\u001b[0m in \u001b[0;36m<module>\u001b[0;34m\u001b[0m\n\u001b[0;32m----> 1\u001b[0;31m \u001b[0mdifferent_Day_Prediction\u001b[0m\u001b[0;34m(\u001b[0m\u001b[0mtzDF3\u001b[0m\u001b[0;34m,\u001b[0m\u001b[0;36m0.1\u001b[0m\u001b[0;34m)\u001b[0m\u001b[0;34m\u001b[0m\u001b[0;34m\u001b[0m\u001b[0m\n\u001b[0m",
      "\u001b[0;31mNameError\u001b[0m: name 'tzDF3' is not defined"
     ]
    }
   ],
   "source": [
    "different_Day_Prediction(tzDF3,0.1)"
   ]
  },
  {
   "cell_type": "code",
   "execution_count": null,
   "metadata": {},
   "outputs": [],
   "source": [
    "different_Day_Prediction(tzDF3,0.2)"
   ]
  },
  {
   "cell_type": "code",
   "execution_count": null,
   "metadata": {},
   "outputs": [],
   "source": [
    "different_Day_Prediction(tzDF3,0.4)"
   ]
  },
  {
   "cell_type": "code",
   "execution_count": null,
   "metadata": {},
   "outputs": [],
   "source": [
    "different_Day_Prediction(tzDF3,0.1)"
   ]
  },
  {
   "cell_type": "markdown",
   "metadata": {},
   "source": [
    "# Gaussian Mixture "
   ]
  },
  {
   "cell_type": "code",
   "execution_count": null,
   "metadata": {},
   "outputs": [],
   "source": [
    "DECEMBER_SERIES_X  = finalDF.iloc[:,19].values.reshape(-1, 1)\n",
    "DECEMBER_SERIES_Y = finalDF.iloc[:,1].values.reshape(-1, 1)\n",
    "\n",
    "from sklearn.mixture import GaussianMixture\n",
    "#from sklearn.mixture import GMM\n",
    "gmm = GaussianMixture(n_components=5).fit(DECEMBER_SERIES_X )\n",
    "labels = gmm.predict(DECEMBER_SERIES_X )\n",
    "plt.scatter(DECEMBER_SERIES_X ,DECEMBER_SERIES_Y, c=labels, s=40, cmap='viridis');\n",
    "#DECEMBER_SERIES_Y"
   ]
  },
  {
   "cell_type": "markdown",
   "metadata": {},
   "source": [
    "# DB Scan"
   ]
  },
  {
   "cell_type": "code",
   "execution_count": null,
   "metadata": {},
   "outputs": [],
   "source": [
    "import numpy as np\n",
    "import matplotlib.pyplot as plt\n",
    "from sklearn import metrics\n",
    "from sklearn.datasets import make_circles\n",
    "from sklearn.preprocessing import StandardScaler\n",
    "from sklearn.cluster import DBSCAN\n",
    "\n",
    "X = finalDF.iloc[:,0:19]\n",
    "X_2 = other_final_DF.iloc[:,0:19]\n",
    "'''\n",
    "clustering = DBSCAN(eps=3, min_samples=2).fit(X)\n",
    "clustering.labels_\n",
    "X = StandardScaler().fit_transform(X)\n",
    "plt.scatter(X, X_2, c=clustering)\n",
    "\n",
    "'''\n",
    "#df[\"weight\"].mean()\n",
    "#half of 5990 is 2995 \n",
    "#X\n",
    "tzDF\n",
    "#Setting up data for DB Scan of same size\n",
    "X.rename({\"measurements_height\":\"w\"},axis =1,inplace=True)\n",
    "X_2.rename({\"measurements_height\":\"z\"},axis =1,inplace=True)\n",
    "X = tzDF[\"timeconvert\"][0:2996]\n",
    "X_2=tzDF[\"timeconvert\"][2996:5990]\n",
    "\n",
    "test_Series = pd.concat([X,X_2],axis=1)\n",
    "test_Series.dropna()\n",
    "test_Series\n",
    "\n",
    "'''\n",
    "\n",
    "#Concating the series objects to one dataframe, result_DF\n",
    "result_DF = pd.concat([ONE_THROUGH_TWENTY,TWO_THROUGH_TWENTY_ONE,THREE_THROUGH_TWENTY_TWO,FOUR_THROUGH_TWENTY_THREE],axis=1)\n",
    "result_DF\n",
    "\n",
    "#Modefying dataframe by shifting the coulmns up \n",
    "result_DF.iloc[:,1] = result_DF.iloc[:,1].shift(-1)\n",
    "result_DF.iloc[:,2] = result_DF.iloc[:,2].shift(-2)\n",
    "result_DF.iloc[:,3] = result_DF.iloc[:,3].shift(-3)\n",
    "\n",
    "#Aligning all coulmns of the data frame together\n",
    "result_DF = result_DF.dropna()\n",
    "'''"
   ]
  },
  {
   "cell_type": "code",
   "execution_count": null,
   "metadata": {},
   "outputs": [],
   "source": [
    "import numpy as np\n",
    "import matplotlib.pyplot as plt\n",
    "import cv2\n",
    "from sklearn.cluster import DBSCAN\n",
    "\n",
    "\n",
    "# Define a function to generate clusters\n",
    "def cluster_gen(n_clusters, pts_minmax=(10, 100), x_mult=(1, 4), y_mult=(1, 3), \n",
    "                x_off=(0, 50), y_off=(0, 50)):\n",
    "    \n",
    "    # n_clusters = number of clusters to generate\n",
    "    # pts_minmax = range of number of points per cluster \n",
    "    # x_mult = range of multiplier to modify the size of cluster in the x-direction\n",
    "    # y_mult = range of multiplier to modify the size of cluster in the x-direction\n",
    "    # x_off = range of cluster position offset in the x-direction\n",
    "    # y_off = range of cluster position offset in the y-direction\n",
    "    \n",
    "    # Initialize some empty lists to receive cluster member positions\n",
    "    clusters_x = []\n",
    "    clusters_y = []\n",
    "    # Genereate random values given parameter ranges\n",
    "    n_points = np.random.randint(pts_minmax[0], pts_minmax[1], n_clusters)\n",
    "    x_multipliers = np.random.randint(x_mult[0], x_mult[1], n_clusters)\n",
    "    y_multipliers = np.random.randint(y_mult[0], y_mult[1], n_clusters)\n",
    "    x_offsets = np.random.randint(x_off[0], x_off[1], n_clusters)\n",
    "    y_offsets = np.random.randint(y_off[0], y_off[1], n_clusters)\n",
    "     \n",
    "    # Generate random clusters given parameter values\n",
    "    for idx, npts in enumerate(n_points):\n",
    "        \n",
    "        xpts = np.random.randn(npts) * x_multipliers[idx] + x_offsets[idx]\n",
    "        ypts = np.random.randn(npts) * y_multipliers[idx] + y_offsets[idx]\n",
    "        clusters_x.append(xpts)\n",
    "        clusters_y.append(ypts)\n",
    "    \n",
    "    # Return cluster positions\n",
    "    return clusters_x, clusters_y\n",
    "\n",
    "\n",
    "\n",
    "# Generate some clusters!\n",
    "n_clusters = 50\n",
    "clusters_x, clusters_y = cluster_gen(n_clusters)\n",
    "# Convert to a single dataset in OpenCV format\n",
    "data = np.float32((np.concatenate(clusters_x), np.concatenate(clusters_y))).transpose()\n",
    "# Define max_distance (eps parameter in DBSCAN())\n",
    "max_distance = 1\n",
    "db = DBSCAN(eps=max_distance, min_samples=10).fit(data)\n",
    "# Extract a mask of core cluster members\n",
    "core_samples_mask = np.zeros_like(db.labels_, dtype=bool)\n",
    "core_samples_mask[db.core_sample_indices_] = True\n",
    "# Extract labels (-1 is used for outliers)\n",
    "labels = db.labels_\n",
    "n_clusters = len(set(labels)) - (1 if -1 in labels else 0)\n",
    "unique_labels = set(labels)\n",
    "\n",
    "# Plot up the results!\n",
    "min_x = np.min(data[:, 0])\n",
    "max_x = np.max(data[:, 0])\n",
    "min_y = np.min(data[:, 1])\n",
    "max_y = np.max(data[:, 1])\n",
    "\n",
    "fig = plt.figure(figsize=(12,6))\n",
    "plt.subplot(121)\n",
    "plt.plot(data[:,0], data[:,1], 'ko')\n",
    "plt.xlim(min_x, max_x)\n",
    "plt.ylim(min_y, max_y)\n",
    "plt.title('Original Data', fontsize = 20)\n",
    "\n",
    "plt.subplot(122)\n",
    "# The following is just a fancy way of plotting core, edge and outliers\n",
    "# Credit to: http://scikit-learn.org/stable/auto_examples/cluster/plot_dbscan.html#sphx-glr-auto-examples-cluster-plot-dbscan-py\n",
    "colors = [plt.cm.Spectral(each) for each in np.linspace(0, 1, len(unique_labels))]\n",
    "for k, col in zip(unique_labels, colors):\n",
    "    if k == -1:\n",
    "        # Black used for noise.\n",
    "        col = [0, 0, 0, 1]\n",
    "\n",
    "    class_member_mask = (labels == k)\n",
    "\n",
    "    xy = data[class_member_mask & core_samples_mask]\n",
    "    plt.plot(xy[:, 0], xy[:, 1], 'o', markerfacecolor=tuple(col),\n",
    "             markeredgecolor='k', markersize=7)\n",
    "\n",
    "    xy = data[class_member_mask & ~core_samples_mask]\n",
    "    plt.plot(xy[:, 0], xy[:, 1], 'o', markerfacecolor=tuple(col),\n",
    "             markeredgecolor='k', markersize=3)\n",
    "plt.xlim(min_x, max_x)\n",
    "plt.ylim(min_y, max_y)\n",
    "plt.title('DBSCAN: %d clusters found' % n_clusters, fontsize = 20)\n",
    "fig.tight_layout()\n",
    "plt.subplots_adjust(left=0.03, right=0.98, top=0.9, bottom=0.05)"
   ]
  },
  {
   "cell_type": "code",
   "execution_count": null,
   "metadata": {},
   "outputs": [],
   "source": [
    "'''\n",
    "First calc average height, then the maximum height, find the minimum height, \n",
    "find difference between avg and max or avg and min pick whichever value seems best\n",
    "for the epsilon value; i.e don’t eyeball for the epsilon value do it programmatically. \n",
    "Find the shortest distance either from the max and min from the average.\n",
    "'''\n",
    "\n",
    "X, y = make_circles(n_samples=750, factor=0.3, noise=0.1)\n",
    "X = StandardScaler().fit_transform(X)\n",
    "y_pred = DBSCAN(eps=0.3, min_samples=10).fit_predict(X)\n",
    "plt.scatter(X[:,0], X[:,1], c=y_pred)\n",
    "#It is an array\n",
    "\n",
    "type(X[:,0])"
   ]
  },
  {
   "cell_type": "code",
   "execution_count": null,
   "metadata": {},
   "outputs": [],
   "source": [
    "'''\n",
    "import numpy as np\n",
    "from sklearn.cluster import DBSCAN\n",
    "from sklearn import metrics\n",
    "from sklearn.datasets import make_blobs\n",
    "from sklearn.preprocessing import StandardScaler\n",
    "\n",
    "# Generate sample data\n",
    "centers = [[1, 1], [-1, -1], [1, -1]]\n",
    "X, labels_true = make_blobs(n_samples=750, centers=centers, cluster_std=0.4,\n",
    "                            random_state=0)\n",
    "\n",
    "X = StandardScaler().fit_transform(X)\n",
    "\n",
    "# Compute DBSCAN\n",
    "db = DBSCAN(eps=0.3, min_samples=10).fit(X)\n",
    "core_samples_mask = np.zeros_like(db.labels_, dtype=bool)\n",
    "core_samples_mask[db.core_sample_indices_] = True\n",
    "labels = db.labels_\n",
    "\n",
    "# Number of clusters in labels, ignoring noise if present.\n",
    "n_clusters_ = len(set(labels)) - (1 if -1 in labels else 0)\n",
    "n_noise_ = list(labels).count(-1)\n",
    "\n",
    "\n",
    "# Plot result\n",
    "import matplotlib.pyplot as plt\n",
    "%matplotlib inline\n",
    "\n",
    "# Black removed and is used for noise instead.\n",
    "unique_labels = set(labels)\n",
    "colors = [plt.cm.Spectral(each)\n",
    "          for each in np.linspace(0, 1, len(unique_labels))]\n",
    "for k, col in zip(unique_labels, colors):\n",
    "    if k == -1:\n",
    "        # Black used for noise.\n",
    "        col = [0, 0, 0, 1]\n",
    "\n",
    "    class_member_mask = (labels == k)\n",
    "\n",
    "    xy = X[class_member_mask & core_samples_mask]\n",
    "    plt.plot(xy[:, 0], xy[:, 1], 'o', markerfacecolor=tuple(col),\n",
    "             markeredgecolor='k', markersize=14)\n",
    "\n",
    "    xy = X[class_member_mask & ~core_samples_mask]\n",
    "    plt.plot(xy[:, 0], xy[:, 1], 'o', markerfacecolor=tuple(col),\n",
    "             markeredgecolor='k', markersize=6)\n",
    "\n",
    "plt.title('Estimated number of clusters: %d' % n_clusters_)\n",
    "plt.show()\n",
    "'''"
   ]
  },
  {
   "cell_type": "code",
   "execution_count": null,
   "metadata": {},
   "outputs": [],
   "source": [
    "from sklearn.preprocessing import StandardScaler\n",
    "from sklearn.cluster import DBSCAN\n",
    "from collections import Counter\n",
    "\n",
    "plt.plot(tzDF[\"measurements_height\"],tzDF[\"timeconvert\"])\n",
    "tzData = tzDF[[\"measurements_height\",\"timeconvert\"]]\n",
    "tzData = tzData.values.astype(\"float32\",copy=False)\n",
    "tzData_scaler = StandardScaler().fit(tzData)\n",
    "tzData = tzData_scaler.transform(tzData)\n",
    "tzData\n",
    "\n",
    "model = DBSCAN(eps=0.3, min_samples=10).fit(tzData)\n",
    "outliers_df = tzData[model.labels_ == -1]\n",
    "clusters_df = tzData[model.labels_ != -1]\n",
    "model.labels_\n",
    "colors = model.labels_\n",
    "colors_clusters = colors[colors != -1]\n",
    "colors_outliers = \"black\"\n",
    "\n",
    "#cluster info \n",
    "clusters = Counter(model.labels_)\n",
    "print(clusters)\n",
    "#print(tzData[model.labels_==-1].head())\n",
    "print(\"Number of cluster = {}\".format(len(clusters)-1))\n",
    "\n",
    "#plot clusters and outliers\n",
    "fig = plt.figure()\n",
    "ax = fig.add_axes([.1,.1,1,1])\n",
    "\n",
    "ax.scatter(clusters_df[\"measurements_height\"],clusters_df[\"timeconvert\"],\n",
    "           c = colors_clusters, edgecolors = \"black\", s= 50)\n",
    "\n",
    "ax.scatter(outliers_df[\"measurements_height\"],outliers_df[\"timeconvert\"],\n",
    "           c = colors_clusters, edgecolors = \"black\", s= 50)\n",
    "ax.set_x_label(\"Height\",family= \"Arial\",fontsize = 9)\n",
    "ax.set_x_label(\"Time\",family= \"Arial\",fontsize = 9)\n",
    "plt.grid(which = \"major\",color=\"#cccccc\",alpha=0.45)\n",
    "plt.show()"
   ]
  },
  {
   "cell_type": "code",
   "execution_count": 99,
   "metadata": {},
   "outputs": [],
   "source": [
    "#Finding Optimal Episilon value \n",
    "from sklearn.neighbors import NearestNeighbors\n",
    "'''\n",
    "X = tzDF[\"measurements_height\"]\n",
    "X = X.values.reshape(1,-1)\n",
    "neigh = NearestNeighbors(n_neighbors=2)\n",
    "nbrs = neigh.fit(X)\n",
    "distances, indices = nbrs.kneighbors(X)\n",
    "\n",
    "#distances = np.sort(distances, axis=0)\n",
    "#distances = distances[:,1]\n",
    "#plt.plot(distances)\n",
    "distances\n",
    "'''\n",
    "#Scale the data before applying chunck below \n",
    "max_tzDF = max(tzDF[\"measurements_height\"])\n",
    "min_tzDF = min(tzDF[\"measurements_height\"])\n",
    "mean_tzDF = tzDF[\"measurements_height\"].mean()\n",
    "\n",
    "dif_Mean_Max = mean_tzDF - max_tzDF\n",
    "dif_Mean_Min = mean_tzDF - min_tzDF\n",
    "min_Mean_Differnces = min(dif_Mean_Max,dif_Mean_Min)\n",
    "\n",
    "#dif_Mean_Max is the optimal episllon value with this approach \n"
   ]
  },
  {
   "cell_type": "code",
   "execution_count": 98,
   "metadata": {},
   "outputs": [
    {
     "name": "stdout",
     "output_type": "stream",
     "text": [
      "5988\n"
     ]
    },
    {
     "ename": "IndexError",
     "evalue": "too many indices for array: array is 1-dimensional, but 2 were indexed",
     "output_type": "error",
     "traceback": [
      "\u001b[0;31m---------------------------------------------------------------------------\u001b[0m",
      "\u001b[0;31mIndexError\u001b[0m                                Traceback (most recent call last)",
      "\u001b[0;32m<ipython-input-98-d4ac1e9a1d4a>\u001b[0m in \u001b[0;36m<module>\u001b[0;34m\u001b[0m\n\u001b[1;32m     38\u001b[0m '''\n\u001b[1;32m     39\u001b[0m \u001b[0mdistances\u001b[0m \u001b[0;34m=\u001b[0m \u001b[0mnp\u001b[0m\u001b[0;34m.\u001b[0m\u001b[0msort\u001b[0m\u001b[0;34m(\u001b[0m\u001b[0mdistances\u001b[0m\u001b[0;34m,\u001b[0m \u001b[0maxis\u001b[0m\u001b[0;34m=\u001b[0m\u001b[0;36m0\u001b[0m\u001b[0;34m)\u001b[0m\u001b[0;34m\u001b[0m\u001b[0;34m\u001b[0m\u001b[0m\n\u001b[0;32m---> 40\u001b[0;31m \u001b[0mdistances\u001b[0m \u001b[0;34m=\u001b[0m \u001b[0mdistances\u001b[0m\u001b[0;34m[\u001b[0m\u001b[0mdistances\u001b[0m\u001b[0;34m[\u001b[0m\u001b[0;34m:\u001b[0m\u001b[0;34m,\u001b[0m\u001b[0;36m1\u001b[0m\u001b[0;34m]\u001b[0m\u001b[0;34m]\u001b[0m\u001b[0;34m\u001b[0m\u001b[0;34m\u001b[0m\u001b[0m\n\u001b[0m\u001b[1;32m     41\u001b[0m \u001b[0mplt\u001b[0m\u001b[0;34m.\u001b[0m\u001b[0mplot\u001b[0m\u001b[0;34m(\u001b[0m\u001b[0mdistances\u001b[0m\u001b[0;34m)\u001b[0m\u001b[0;34m\u001b[0m\u001b[0;34m\u001b[0m\u001b[0m\n\u001b[1;32m     42\u001b[0m \u001b[0mdistances\u001b[0m\u001b[0;34m.\u001b[0m\u001b[0mshape\u001b[0m\u001b[0;34m(\u001b[0m\u001b[0;34m)\u001b[0m\u001b[0;34m\u001b[0m\u001b[0;34m\u001b[0m\u001b[0m\n",
      "\u001b[0;31mIndexError\u001b[0m: too many indices for array: array is 1-dimensional, but 2 were indexed"
     ]
    },
    {
     "data": {
      "image/png": "[encoded data removed]",
      "text/plain": [
       "<Figure size 432x288 with 1 Axes>"
      ]
     },
     "metadata": {
      "needs_background": "light"
     },
     "output_type": "display_data"
    }
   ],
   "source": [
    "#Scale data\n",
    "from numpy import asarray\n",
    "from sklearn.preprocessing import MinMaxScaler\n",
    "from sklearn.cluster import DBSCAN\n",
    "from sklearn.neighbors import NearestNeighbors\n",
    "\n",
    "pre_Scale_Height = tzDF[\"measurements_height\"].values.reshape(-1,1)\n",
    "scaler = MinMaxScaler()\n",
    "scaled = scaler.fit_transform(pre_Scale_Height)\n",
    "scaled[0][0]\n",
    "\n",
    "\n",
    "\n",
    "neigh = NearestNeighbors(n_neighbors=2)\n",
    "nbrs = neigh.fit(scaled)\n",
    "distances, indices = nbrs.kneighbors(scaled) \n",
    "distances = np.sort(distances, axis=0)\n",
    "distances = distances[:,1]\n",
    "plt.plot(distances)\n",
    "max(distances)\n",
    "\n",
    "\n",
    "# Max occures when x = 5998\n",
    "\n",
    "print(np.argmax(distances,axis=0))\n",
    "distances\n",
    "\n",
    "#distances\n",
    "#np.argmax(a, axis=1)\n",
    "'''\n",
    "max_tzDF = max(scaled)\n",
    "min_tzDF = min(scaled)\n",
    "mean_tzDF = scaled.mean()\n",
    "dif_Mean_Max = mean_tzDF - max_tzDF\n",
    "dif_Mean_Min = mean_tzDF - min_tzDF\n",
    "min_Mean_Differnces = min(dif_Mean_Max,dif_Mean_Min)\n",
    "print(min_Mean_Differnces)\n",
    "'''\n",
    "distances = np.sort(distances, axis=0)\n",
    "distances = distances[distances[:,1]]\n",
    "plt.plot(distances)\n",
    "\n",
    "distances.shape()\n",
    "\n",
    "\n"
   ]
  },
  {
   "cell_type": "code",
   "execution_count": 59,
   "metadata": {},
   "outputs": [
    {
     "data": {
      "text/plain": [
       "<matplotlib.collections.PathCollection at 0x7fe9ee175490>"
      ]
     },
     "execution_count": 59,
     "metadata": {},
     "output_type": "execute_result"
    },
    {
     "data": {
      "image/png": "[encoded data removed]",
      "text/plain": [
       "<Figure size 432x288 with 1 Axes>"
      ]
     },
     "metadata": {
      "needs_background": "light"
     },
     "output_type": "display_data"
    }
   ],
   "source": [
    "#scale time convert \n",
    "pre_Scale_time = tzDF[\"timeconvert\"].values.reshape(-1,1)\n",
    "\n",
    "scaled_Two = scaler.fit_transform(pre_Scale_time)\n",
    "\n",
    "plt.scatter(scaled,scaled_Two)\n",
    "\n",
    "m = DBSCAN(eps=0.55408633, min_samples=5)\n",
    "m.fit(scaled)\n",
    "\n",
    "clusters = m.labels_\n",
    "plt.scatter(scaled[:,0],scaled_Two[:,0],c=clusters)"
   ]
  },
  {
   "cell_type": "code",
   "execution_count": 50,
   "metadata": {},
   "outputs": [
    {
     "name": "stdout",
     "output_type": "stream",
     "text": [
      "[-0.55408633]\n"
     ]
    }
   ],
   "source": [
    "max_tzDF = max(scaled)\n",
    "min_tzDF = min(scaled)\n",
    "mean_tzDF = scaled.mean()\n",
    "dif_Mean_Max = mean_tzDF - max_tzDF\n",
    "dif_Mean_Min = mean_tzDF - min_tzDF\n",
    "min_Mean_Differnces = min(dif_Mean_Max,dif_Mean_Min)\n",
    "print(min_Mean_Differnces)"
   ]
  },
  {
   "cell_type": "code",
   "execution_count": 60,
   "metadata": {},
   "outputs": [
    {
     "ename": "NameError",
     "evalue": "name 'go' is not defined",
     "output_type": "error",
     "traceback": [
      "\u001b[0;31m---------------------------------------------------------------------------\u001b[0m",
      "\u001b[0;31mNameError\u001b[0m                                 Traceback (most recent call last)",
      "\u001b[0;32m<ipython-input-60-d4def6c6907f>\u001b[0m in \u001b[0;36m<module>\u001b[0;34m\u001b[0m\n\u001b[1;32m      1\u001b[0m \u001b[0mScene\u001b[0m \u001b[0;34m=\u001b[0m \u001b[0mdict\u001b[0m\u001b[0;34m(\u001b[0m\u001b[0mxaxis\u001b[0m \u001b[0;34m=\u001b[0m \u001b[0mdict\u001b[0m\u001b[0;34m(\u001b[0m\u001b[0mtitle\u001b[0m  \u001b[0;34m=\u001b[0m \u001b[0;34m'PC1'\u001b[0m\u001b[0;34m)\u001b[0m\u001b[0;34m,\u001b[0m\u001b[0myaxis\u001b[0m \u001b[0;34m=\u001b[0m \u001b[0mdict\u001b[0m\u001b[0;34m(\u001b[0m\u001b[0mtitle\u001b[0m  \u001b[0;34m=\u001b[0m \u001b[0;34m'PC2'\u001b[0m\u001b[0;34m)\u001b[0m\u001b[0;34m,\u001b[0m\u001b[0mzaxis\u001b[0m \u001b[0;34m=\u001b[0m \u001b[0mdict\u001b[0m\u001b[0;34m(\u001b[0m\u001b[0mtitle\u001b[0m  \u001b[0;34m=\u001b[0m \u001b[0;34m'PC3'\u001b[0m\u001b[0;34m)\u001b[0m\u001b[0;34m)\u001b[0m\u001b[0;34m\u001b[0m\u001b[0;34m\u001b[0m\u001b[0m\n\u001b[0;32m----> 2\u001b[0;31m \u001b[0mtrace\u001b[0m \u001b[0;34m=\u001b[0m \u001b[0mgo\u001b[0m\u001b[0;34m.\u001b[0m\u001b[0mScatter3d\u001b[0m\u001b[0;34m(\u001b[0m\u001b[0mx\u001b[0m\u001b[0;34m=\u001b[0m\u001b[0mpca_df\u001b[0m\u001b[0;34m.\u001b[0m\u001b[0miloc\u001b[0m\u001b[0;34m[\u001b[0m\u001b[0;34m:\u001b[0m\u001b[0;34m,\u001b[0m\u001b[0;36m0\u001b[0m\u001b[0;34m]\u001b[0m\u001b[0;34m,\u001b[0m \u001b[0my\u001b[0m\u001b[0;34m=\u001b[0m\u001b[0mpca_df\u001b[0m\u001b[0;34m.\u001b[0m\u001b[0miloc\u001b[0m\u001b[0;34m[\u001b[0m\u001b[0;34m:\u001b[0m\u001b[0;34m,\u001b[0m\u001b[0;36m1\u001b[0m\u001b[0;34m]\u001b[0m\u001b[0;34m,\u001b[0m \u001b[0mz\u001b[0m\u001b[0;34m=\u001b[0m\u001b[0mpca_df\u001b[0m\u001b[0;34m.\u001b[0m\u001b[0miloc\u001b[0m\u001b[0;34m[\u001b[0m\u001b[0;34m:\u001b[0m\u001b[0;34m,\u001b[0m\u001b[0;36m2\u001b[0m\u001b[0;34m]\u001b[0m\u001b[0;34m,\u001b[0m \u001b[0mmode\u001b[0m\u001b[0;34m=\u001b[0m\u001b[0;34m'markers'\u001b[0m\u001b[0;34m,\u001b[0m\u001b[0mmarker\u001b[0m\u001b[0;34m=\u001b[0m\u001b[0mdict\u001b[0m\u001b[0;34m(\u001b[0m\u001b[0mcolorscale\u001b[0m\u001b[0;34m=\u001b[0m\u001b[0;34m'Greys'\u001b[0m\u001b[0;34m,\u001b[0m \u001b[0mopacity\u001b[0m\u001b[0;34m=\u001b[0m\u001b[0;36m0.3\u001b[0m\u001b[0;34m,\u001b[0m \u001b[0msize\u001b[0m \u001b[0;34m=\u001b[0m \u001b[0;36m10\u001b[0m\u001b[0;34m,\u001b[0m \u001b[0;34m)\u001b[0m\u001b[0;34m)\u001b[0m\u001b[0;34m\u001b[0m\u001b[0;34m\u001b[0m\u001b[0m\n\u001b[0m\u001b[1;32m      3\u001b[0m \u001b[0mlayout\u001b[0m \u001b[0;34m=\u001b[0m \u001b[0mgo\u001b[0m\u001b[0;34m.\u001b[0m\u001b[0mLayout\u001b[0m\u001b[0;34m(\u001b[0m\u001b[0mmargin\u001b[0m\u001b[0;34m=\u001b[0m\u001b[0mdict\u001b[0m\u001b[0;34m(\u001b[0m\u001b[0ml\u001b[0m\u001b[0;34m=\u001b[0m\u001b[0;36m0\u001b[0m\u001b[0;34m,\u001b[0m\u001b[0mr\u001b[0m\u001b[0;34m=\u001b[0m\u001b[0;36m0\u001b[0m\u001b[0;34m)\u001b[0m\u001b[0;34m,\u001b[0m\u001b[0mscene\u001b[0m \u001b[0;34m=\u001b[0m \u001b[0mScene\u001b[0m\u001b[0;34m,\u001b[0m \u001b[0mheight\u001b[0m \u001b[0;34m=\u001b[0m \u001b[0;36m1000\u001b[0m\u001b[0;34m,\u001b[0m\u001b[0mwidth\u001b[0m \u001b[0;34m=\u001b[0m \u001b[0;36m1000\u001b[0m\u001b[0;34m)\u001b[0m\u001b[0;34m\u001b[0m\u001b[0;34m\u001b[0m\u001b[0m\n\u001b[1;32m      4\u001b[0m \u001b[0mdata\u001b[0m \u001b[0;34m=\u001b[0m \u001b[0;34m[\u001b[0m\u001b[0mtrace\u001b[0m\u001b[0;34m]\u001b[0m\u001b[0;34m\u001b[0m\u001b[0;34m\u001b[0m\u001b[0m\n\u001b[1;32m      5\u001b[0m \u001b[0mfig\u001b[0m \u001b[0;34m=\u001b[0m \u001b[0mgo\u001b[0m\u001b[0;34m.\u001b[0m\u001b[0mFigure\u001b[0m\u001b[0;34m(\u001b[0m\u001b[0mdata\u001b[0m \u001b[0;34m=\u001b[0m \u001b[0mdata\u001b[0m\u001b[0;34m,\u001b[0m \u001b[0mlayout\u001b[0m \u001b[0;34m=\u001b[0m \u001b[0mlayout\u001b[0m\u001b[0;34m)\u001b[0m\u001b[0;34m\u001b[0m\u001b[0;34m\u001b[0m\u001b[0m\n",
      "\u001b[0;31mNameError\u001b[0m: name 'go' is not defined"
     ]
    }
   ],
   "source": [
    "Scene = dict(xaxis = dict(title  = 'PC1'),yaxis = dict(title  = 'PC2'),zaxis = dict(title  = 'PC3'))\n",
    "trace = go.Scatter3d(x=pca_df.iloc[:,0], y=pca_df.iloc[:,1], z=pca_df.iloc[:,2], mode='markers',marker=dict(colorscale='Greys', opacity=0.3, size = 10, ))\n",
    "layout = go.Layout(margin=dict(l=0,r=0),scene = Scene, height = 1000,width = 1000)\n",
    "data = [trace]\n",
    "fig = go.Figure(data = data, layout = layout)\n",
    "fig.show()"
   ]
  },
  {
   "cell_type": "code",
   "execution_count": 85,
   "metadata": {},
   "outputs": [
    {
     "ename": "IndexError",
     "evalue": "index 1 is out of bounds for axis 1 with size 1",
     "output_type": "error",
     "traceback": [
      "\u001b[0;31m---------------------------------------------------------------------------\u001b[0m",
      "\u001b[0;31mIndexError\u001b[0m                                Traceback (most recent call last)",
      "\u001b[0;32m<ipython-input-85-db4553a0e0f4>\u001b[0m in \u001b[0;36m<module>\u001b[0;34m\u001b[0m\n\u001b[1;32m      9\u001b[0m     \u001b[0mplt\u001b[0m\u001b[0;34m.\u001b[0m\u001b[0mscatter\u001b[0m\u001b[0;34m(\u001b[0m\u001b[0mX\u001b[0m\u001b[0;34m[\u001b[0m\u001b[0;34m:\u001b[0m\u001b[0;34m,\u001b[0m\u001b[0;36m0\u001b[0m\u001b[0;34m]\u001b[0m\u001b[0;34m,\u001b[0m \u001b[0mX\u001b[0m\u001b[0;34m[\u001b[0m\u001b[0;34m:\u001b[0m\u001b[0;34m,\u001b[0m\u001b[0;36m1\u001b[0m\u001b[0;34m]\u001b[0m\u001b[0;34m,\u001b[0m\u001b[0mc\u001b[0m\u001b[0;34m=\u001b[0m\u001b[0my_pred\u001b[0m\u001b[0;34m,\u001b[0m \u001b[0mcmap\u001b[0m\u001b[0;34m=\u001b[0m\u001b[0;34m'Paired'\u001b[0m\u001b[0;34m)\u001b[0m\u001b[0;34m\u001b[0m\u001b[0;34m\u001b[0m\u001b[0m\n\u001b[1;32m     10\u001b[0m     \u001b[0mplt\u001b[0m\u001b[0;34m.\u001b[0m\u001b[0mtitle\u001b[0m\u001b[0;34m(\u001b[0m\u001b[0;34m\"DBSCAN\"\u001b[0m\u001b[0;34m)\u001b[0m\u001b[0;34m\u001b[0m\u001b[0;34m\u001b[0m\u001b[0m\n\u001b[0;32m---> 11\u001b[0;31m \u001b[0mdbscan\u001b[0m\u001b[0;34m(\u001b[0m\u001b[0mscaled\u001b[0m\u001b[0;34m,\u001b[0m\u001b[0;36m0.55\u001b[0m\u001b[0;34m,\u001b[0m\u001b[0;36m6\u001b[0m\u001b[0;34m)\u001b[0m\u001b[0;34m\u001b[0m\u001b[0;34m\u001b[0m\u001b[0m\n\u001b[0m",
      "\u001b[0;32m<ipython-input-85-db4553a0e0f4>\u001b[0m in \u001b[0;36mdbscan\u001b[0;34m(X, eps, min_samples)\u001b[0m\n\u001b[1;32m      7\u001b[0m     \u001b[0mdb\u001b[0m\u001b[0;34m.\u001b[0m\u001b[0mfit\u001b[0m\u001b[0;34m(\u001b[0m\u001b[0mscaled\u001b[0m\u001b[0;34m)\u001b[0m\u001b[0;34m\u001b[0m\u001b[0;34m\u001b[0m\u001b[0m\n\u001b[1;32m      8\u001b[0m     \u001b[0my_pred\u001b[0m \u001b[0;34m=\u001b[0m \u001b[0mdb\u001b[0m\u001b[0;34m.\u001b[0m\u001b[0mfit_predict\u001b[0m\u001b[0;34m(\u001b[0m\u001b[0mX\u001b[0m\u001b[0;34m)\u001b[0m\u001b[0;34m\u001b[0m\u001b[0;34m\u001b[0m\u001b[0m\n\u001b[0;32m----> 9\u001b[0;31m     \u001b[0mplt\u001b[0m\u001b[0;34m.\u001b[0m\u001b[0mscatter\u001b[0m\u001b[0;34m(\u001b[0m\u001b[0mX\u001b[0m\u001b[0;34m[\u001b[0m\u001b[0;34m:\u001b[0m\u001b[0;34m,\u001b[0m\u001b[0;36m0\u001b[0m\u001b[0;34m]\u001b[0m\u001b[0;34m,\u001b[0m \u001b[0mX\u001b[0m\u001b[0;34m[\u001b[0m\u001b[0;34m:\u001b[0m\u001b[0;34m,\u001b[0m\u001b[0;36m1\u001b[0m\u001b[0;34m]\u001b[0m\u001b[0;34m,\u001b[0m\u001b[0mc\u001b[0m\u001b[0;34m=\u001b[0m\u001b[0my_pred\u001b[0m\u001b[0;34m,\u001b[0m \u001b[0mcmap\u001b[0m\u001b[0;34m=\u001b[0m\u001b[0;34m'Paired'\u001b[0m\u001b[0;34m)\u001b[0m\u001b[0;34m\u001b[0m\u001b[0;34m\u001b[0m\u001b[0m\n\u001b[0m\u001b[1;32m     10\u001b[0m     \u001b[0mplt\u001b[0m\u001b[0;34m.\u001b[0m\u001b[0mtitle\u001b[0m\u001b[0;34m(\u001b[0m\u001b[0;34m\"DBSCAN\"\u001b[0m\u001b[0;34m)\u001b[0m\u001b[0;34m\u001b[0m\u001b[0;34m\u001b[0m\u001b[0m\n\u001b[1;32m     11\u001b[0m \u001b[0mdbscan\u001b[0m\u001b[0;34m(\u001b[0m\u001b[0mscaled\u001b[0m\u001b[0;34m,\u001b[0m\u001b[0;36m0.55\u001b[0m\u001b[0;34m,\u001b[0m\u001b[0;36m6\u001b[0m\u001b[0;34m)\u001b[0m\u001b[0;34m\u001b[0m\u001b[0;34m\u001b[0m\u001b[0m\n",
      "\u001b[0;31mIndexError\u001b[0m: index 1 is out of bounds for axis 1 with size 1"
     ]
    }
   ],
   "source": [
    "#0.55408633\n",
    "#5988\n",
    "from sklearn.preprocessing import StandardScaler\n",
    "X = StandardScaler().fit_transform(scaled)\n",
    "Y = StandardScaler().fit_transform(scaled_Two)\n",
    "def dbscan(X, eps, min_samples):\n",
    "    db = DBSCAN(eps=eps, min_samples=min_samples)\n",
    "    db.fit(scaled)\n",
    "    y_pred = db.fit_predict(X)\n",
    "    plt.scatter(X[:,0], X[:,0],c=y_pred, cmap='Paired')\n",
    "    plt.title(\"DBSCAN\")\n",
    "dbscan(scaled,0.55,6)\n"
   ]
  },
  {
   "cell_type": "code",
   "execution_count": 108,
   "metadata": {},
   "outputs": [
    {
     "data": {
      "text/plain": [
       "numpy.ndarray"
      ]
     },
     "execution_count": 108,
     "metadata": {},
     "output_type": "execute_result"
    }
   ],
   "source": [
    "pre_Scale_Height = tzDF[\"measurements_height\"].values.reshape(-1,1)\n",
    "scaler = MinMaxScaler()\n",
    "scaled = scaler.fit_transform(pre_Scale_Height)\n",
    "\n",
    "#Find max of scaled amount\n",
    "#\n",
    "\n",
    "\n",
    "type(scaled)"
   ]
  },
  {
   "cell_type": "code",
   "execution_count": null,
   "metadata": {},
   "outputs": [],
   "source": [
    "\"\"\"\n",
    "\"\"\"\n",
    "max_tzDF = max(scaled)\n",
    "min_tzDF = min(scaled)\n",
    "mean_tzDF = scaled.mean()\n",
    "dif_Mean_Max = mean_tzDF - max_tzDF\n",
    "dif_Mean_Min = mean_tzDF - min_tzDF\n",
    "min_Mean_Differnces = min(dif_Mean_Max,dif_Mean_Min)\n",
    "print(min_Mean_Differnces)\n",
    "\"\"\"\""
   ]
  },
  {
   "cell_type": "code",
   "execution_count": 119,
   "metadata": {},
   "outputs": [
    {
     "name": "stdout",
     "output_type": "stream",
     "text": [
      "Estimated number of clusters: 1\n",
      "Estimated number of noise points: 0\n"
     ]
    },
    {
     "ename": "IndexError",
     "evalue": "index 1 is out of bounds for axis 1 with size 1",
     "output_type": "error",
     "traceback": [
      "\u001b[0;31m---------------------------------------------------------------------------\u001b[0m",
      "\u001b[0;31mIndexError\u001b[0m                                Traceback (most recent call last)",
      "\u001b[0;32m<ipython-input-119-bf1954a312d2>\u001b[0m in \u001b[0;36m<module>\u001b[0;34m\u001b[0m\n\u001b[1;32m     54\u001b[0m \u001b[0;34m\u001b[0m\u001b[0m\n\u001b[1;32m     55\u001b[0m     \u001b[0mxy\u001b[0m \u001b[0;34m=\u001b[0m \u001b[0mX\u001b[0m\u001b[0;34m[\u001b[0m\u001b[0mclass_member_mask\u001b[0m \u001b[0;34m&\u001b[0m \u001b[0mcore_samples_mask\u001b[0m\u001b[0;34m]\u001b[0m\u001b[0;34m\u001b[0m\u001b[0;34m\u001b[0m\u001b[0m\n\u001b[0;32m---> 56\u001b[0;31m     plt.plot(xy[:, 0], xy[:, 1], 'o', markerfacecolor=tuple(col),\n\u001b[0m\u001b[1;32m     57\u001b[0m              markeredgecolor='k', markersize=14)\n\u001b[1;32m     58\u001b[0m \u001b[0;34m\u001b[0m\u001b[0m\n",
      "\u001b[0;31mIndexError\u001b[0m: index 1 is out of bounds for axis 1 with size 1"
     ]
    }
   ],
   "source": [
    "import numpy as np\n",
    "\n",
    "from sklearn.cluster import DBSCAN\n",
    "from sklearn import metrics\n",
    "from sklearn.datasets import make_blobs\n",
    "from sklearn.preprocessing import StandardScaler\n",
    "\n",
    "\n",
    "# #############################################################################\n",
    "# Generate sample data\n",
    "centers = [[1, 1], [-1, -1], [1, -1]]\n",
    "\n",
    "X = scaled\n",
    "\n",
    "X = StandardScaler().fit_transform(X)\n",
    "\n",
    "# #############################################################################\n",
    "# Compute DBSCAN\n",
    "db = DBSCAN(eps=0.3, min_samples=10).fit(X)\n",
    "core_samples_mask = np.zeros_like(db.labels_, dtype=bool)\n",
    "core_samples_mask[db.core_sample_indices_] = True\n",
    "labels = db.labels_\n",
    "\n",
    "# Number of clusters in labels, ignoring noise if present.\n",
    "n_clusters_ = len(set(labels)) - (1 if -1 in labels else 0)\n",
    "n_noise_ = list(labels).count(-1)\n",
    "\n",
    "print('Estimated number of clusters: %d' % n_clusters_)\n",
    "print('Estimated number of noise points: %d' % n_noise_)\n",
    "#print(\"Homogeneity: %0.3f\" % metrics.homogeneity_score(labels_true, labels))\n",
    "#print(\"Completeness: %0.3f\" % metrics.completeness_score(labels_true, labels))\n",
    "#print(\"V-measure: %0.3f\" % metrics.v_measure_score(labels_true, labels))\n",
    "#print(\"Adjusted Rand Index: %0.3f\"\n",
    " #     % metrics.adjusted_rand_score(labels_true, labels))\n",
    "#print(\"Adjusted Mutual Information: %0.3f\"\n",
    "  #    % metrics.adjusted_mutual_info_score(labels_true, labels))\n",
    "#print(\"Silhouette Coefficient: %0.3f\"\n",
    "   #   % metrics.silhouette_score(X, labels))\n",
    "\n",
    "# #############################################################################\n",
    "# Plot result\n",
    "import matplotlib.pyplot as plt\n",
    "\n",
    "# Black removed and is used for noise instead.\n",
    "unique_labels = set(labels)\n",
    "colors = [plt.cm.Spectral(each)\n",
    "          for each in np.linspace(0, 1, len(unique_labels))]\n",
    "for k, col in zip(unique_labels, colors):\n",
    "    if k == -1:\n",
    "        # Black used for noise.\n",
    "        col = [0, 0, 0, 1]\n",
    "\n",
    "    class_member_mask = (labels == k)\n",
    "\n",
    "    xy = X[class_member_mask & core_samples_mask]\n",
    "    plt.plot(xy[:, 0], xy[:, 1], 'o', markerfacecolor=tuple(col),\n",
    "             markeredgecolor='k', markersize=14)\n",
    "\n",
    "    xy = X[class_member_mask & ~core_samples_mask]\n",
    "    plt.plot(xy[0][:, 0], xy[0][:, 1], 'o', markerfacecolor=tuple(col),\n",
    "             markeredgecolor='k', markersize=6)\n",
    "\n",
    "plt.title('Estimated number of clusters: %d' % n_clusters_)\n",
    "plt.show()\n"
   ]
  },
  {
   "cell_type": "code",
   "execution_count": 1,
   "metadata": {},
   "outputs": [
    {
     "ename": "NameError",
     "evalue": "name 'StandardScaler' is not defined",
     "output_type": "error",
     "traceback": [
      "\u001b[0;31m---------------------------------------------------------------------------\u001b[0m",
      "\u001b[0;31mNameError\u001b[0m                                 Traceback (most recent call last)",
      "\u001b[0;32m<ipython-input-1-5d37c58d79cf>\u001b[0m in \u001b[0;36m<module>\u001b[0;34m\u001b[0m\n\u001b[1;32m      9\u001b[0m \u001b[0;31m#dbscan(tzDF[\"measurements_height\"].values.reshape(1,-1),0.2,1)\u001b[0m\u001b[0;34m\u001b[0m\u001b[0;34m\u001b[0m\u001b[0;34m\u001b[0m\u001b[0m\n\u001b[1;32m     10\u001b[0m \u001b[0;34m\u001b[0m\u001b[0m\n\u001b[0;32m---> 11\u001b[0;31m \u001b[0mss\u001b[0m \u001b[0;34m=\u001b[0m \u001b[0mStandardScaler\u001b[0m\u001b[0;34m(\u001b[0m\u001b[0;34m)\u001b[0m\u001b[0;34m\u001b[0m\u001b[0;34m\u001b[0m\u001b[0m\n\u001b[0m\u001b[1;32m     12\u001b[0m \u001b[0mX\u001b[0m \u001b[0;34m=\u001b[0m \u001b[0mss\u001b[0m\u001b[0;34m.\u001b[0m\u001b[0mfit_transform\u001b[0m\u001b[0;34m(\u001b[0m\u001b[0mtzDF\u001b[0m\u001b[0;34m[\u001b[0m\u001b[0;34m\"measurements_height\"\u001b[0m\u001b[0;34m]\u001b[0m\u001b[0;34m.\u001b[0m\u001b[0mvalues\u001b[0m\u001b[0;34m.\u001b[0m\u001b[0mreshape\u001b[0m\u001b[0;34m(\u001b[0m\u001b[0;36m1\u001b[0m\u001b[0;34m,\u001b[0m\u001b[0;34m-\u001b[0m\u001b[0;36m1\u001b[0m\u001b[0;34m)\u001b[0m\u001b[0;34m)\u001b[0m\u001b[0;34m\u001b[0m\u001b[0;34m\u001b[0m\u001b[0m\n\u001b[1;32m     13\u001b[0m \u001b[0mdb\u001b[0m \u001b[0;34m=\u001b[0m \u001b[0mDBSCAN\u001b[0m\u001b[0;34m(\u001b[0m\u001b[0meps\u001b[0m\u001b[0;34m=\u001b[0m\u001b[0;36m0.55\u001b[0m\u001b[0;34m,\u001b[0m \u001b[0mmin_samples\u001b[0m\u001b[0;34m=\u001b[0m\u001b[0;36m8\u001b[0m\u001b[0;34m)\u001b[0m\u001b[0;34m\u001b[0m\u001b[0;34m\u001b[0m\u001b[0m\n",
      "\u001b[0;31mNameError\u001b[0m: name 'StandardScaler' is not defined"
     ]
    }
   ],
   "source": [
    "\n",
    "def dbscan(X, eps, min_samples):\n",
    "    ss = StandardScaler()\n",
    "    X = ss.fit_transform(X)\n",
    "    db = DBSCAN(eps=eps, min_samples=min_samples)\n",
    "    db.fit(X)\n",
    "    y_pred = db.fit_predict(X)\n",
    "    plt.scatter(X[:,0], X[:,1],c=y_pred, cmap='Paired')\n",
    "    plt.title(\"DBSCAN\")\n",
    "#dbscan(tzDF[\"measurements_height\"].values.reshape(1,-1),0.2,1)\n",
    "\n",
    "ss = StandardScaler()\n",
    "X = ss.fit_transform(tzDF[\"measurements_height\"].values.reshape(1,-1))\n",
    "db = DBSCAN(eps=0.55, min_samples=8)\n",
    "db.fit(X)\n",
    "y_pred = db.fit_predict(X)\n",
    "plt.scatter(X[:,0].flatten(), X[:,1].flatten(),c=y_pred, cmap='Paired')\n",
    "plt.title(\"DBSCAN\")\n",
    "X.flatten()[:,1]\n"
   ]
  },
  {
   "cell_type": "code",
   "execution_count": 159,
   "metadata": {},
   "outputs": [
    {
     "data": {
      "text/plain": [
       "<matplotlib.collections.PathCollection at 0x7fe9ee167dc0>"
      ]
     },
     "execution_count": 159,
     "metadata": {},
     "output_type": "execute_result"
    },
    {
     "data": {
      "image/png": "[encoded data removed]",
      "text/plain": [
       "<Figure size 432x288 with 1 Axes>"
      ]
     },
     "metadata": {
      "needs_background": "light"
     },
     "output_type": "display_data"
    }
   ],
   "source": [
    "plt.scatter(scaled,scaled_Two,c=clusters)"
   ]
  },
  {
   "cell_type": "code",
   "execution_count": null,
   "metadata": {},
   "outputs": [],
   "source": []
  }
 ],
 "metadata": {
  "kernelspec": {
   "display_name": "Python 3",
   "language": "python",
   "name": "python3"
  },
  "language_info": {
   "codemirror_mode": {
    "name": "ipython",
    "version": 3
   },
   "file_extension": ".py",
   "mimetype": "text/x-python",
   "name": "python",
   "nbconvert_exporter": "python",
   "pygments_lexer": "ipython3",
   "version": "3.8.5"
  },
  "toc": {
   "base_numbering": 1,
   "nav_menu": {},
   "number_sections": true,
   "sideBar": true,
   "skip_h1_title": false,
   "title_cell": "Table of Contents",
   "title_sidebar": "Contents",
   "toc_cell": false,
   "toc_position": {
    "height": "calc(100% - 180px)",
    "left": "10px",
    "top": "150px",
    "width": "248.172px"
   },
   "toc_section_display": true,
   "toc_window_display": true
  }
 },
 "nbformat": 4,
 "nbformat_minor": 4
}
