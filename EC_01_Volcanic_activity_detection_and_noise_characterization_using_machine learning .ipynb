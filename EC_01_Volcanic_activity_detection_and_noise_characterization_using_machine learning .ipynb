{
 "cells": [
  {
   "cell_type": "markdown",
   "metadata": {},
   "source": [
    "# EC_01_Volcanic_activity_detection_and_noise_characterization_using_machine learning \n"
   ]
  },
  {
   "cell_type": "markdown",
   "metadata": {},
   "source": [
    "## Author(s)\n",
    "\n",
    "\n",
    "- Author1 = {\"name\": \"Myles Mason\", \"affiliation\": \"Virginia Tech\", \"email\": \"mylesm18@vt.edu\", \"orcid\": \"0000-0002-8811-8294\"}\n",
    "- Author2 = {\"name\": \"John Wenskovitch\", \"affiliation\": \"Virginia Tech\", \"email\": \"jw87@vt.edu\", \"orcid\": \"0000-0002-0573-6442\"}\n",
    "- Author3 = {\"name\": \"D. Sarah Stamps\", \"affiliation\": \"Virginia Tech\", \"email\": \"dstamps@vt.edu\",\"orcid\": \"0000-0002-3531-1752\"}\n",
    "- Author4 = {\"name\": \"Joshua Robert Jones\", \"affiliation\": \"Virginia Tech\", \"email\": \"joshj55@vt.edu\", \"orcid\": \"0000-0002-6078-4287\"}\n",
    "- Author5 = {\"name\": \"Mike Dye\", \"affiliation\": \"University of Colorado Boulder\", \"email\": \"mike@mikedye.com\", \"orcid\": \" 0000-0003-2065-870X\"}\n",
    "\n",
    "\n",
    "    "
   ]
  },
  {
   "cell_type": "markdown",
   "metadata": {},
   "source": [
    "## Purpose\n",
    "\n",
    "This Jupyter notebook aims to explore methods towards characterizing noise and eventually predicting volcanic activity for Ol Doinyo Lengai (a volcano in Tanzania) with machine learning. Machine learning is a powerful tool that enables the automatization of complex mathematical and analytical models. In the case of this Jupyter notebook, the components are height, latitude, and longitude. The predicted component values are the next heights. This project uses Global Navigation Satellite System  (GNSS) data from the EarthCube CHORDS portal TZVOLCANO (Stamps et al. 2016), which is the online interface for obtaining open-access real-time positioning data collected around Ol Doinyo Lengai (http://tzvolcano.chordsrt.com).\n",
    "\n",
    "## Technical contributions\n",
    "- The training of the models and anaylze uses basic Linear Albera and stastics \n",
    "- The main libraries used (numpy and pandas) are both libraries for data manipulation and linear algebra \n",
    "- The CHORDS site linked above is the location of the data and the interface of CHORDS \n",
    "- Implementation of Linear Regression for prediction on time series data\n",
    "\n",
    "## Methodology\n",
    "- Data collection\n",
    "- Data pre processing\n",
    "- Input data for Linear Regression model\n",
    "- Increase sample size of inputs for the model\n",
    "- Compare predictions to actual data\n",
    "\n",
    "\n",
    "\n",
    "\n",
    "## Results\n",
    "Describe and comment on the most important results. Include images and URLs as necessary. \n",
    "\n",
    "## Funding\n",
    "\n",
    "- Award1 = {\"agency\": \"National Science Foundation EarthCube Program\", \"award_code\": \"1639554\", \"award_URL\": \"https://www.nsf.gov/awardsearch/showAward?AWD_ID=1639554&HistoricalAwards=false\"}\n",
    "- Award2 = {\"agency\": \"Virginia Tech Academy of Integrated Sciences Hamlett Undergraduate Research Award\", \"award_code\": \"44672\", \"award_URL\": \"award_URL\"}\n",
    "\n",
    "## Keywords\n",
    "Include up to 5 keywords, using the template below.\n",
    "\n",
    "keywords=[\"tzDF\", \"LinearRegression\", \"Concat\", \"Transpose\",\"Mean Squared Error\"(MSE)]\n",
    "\n",
    "## Citation\n",
    "GeÌ ron, Aureì lien. 2019. Hands-on Machine Learning with Scikit-Learn, Keras and TensorFlow: Concepts, Tools, and Techniques to Build Intelligent Systems. 2nd ed. CA 95472: O’Reilly.\n",
    "\n",
    "## Suggested next steps\n",
    "Next steps for this notebook will be increasing the inputs for the prediction model. More anaylsis on the noise will be a crucial point in the next step for further volcanic activity prediciton. Specifically generating sysnthetic data that will mimic volcanic activity.\n",
    "## Acknowledgements \n",
    "- Virginia Tech Department of Geosciences \n",
    "- Alice and Luther Hamlet"
   ]
  },
  {
   "cell_type": "markdown",
   "metadata": {},
   "source": [
    "# Setup\n",
    "\n",
    "## Library import\n"
   ]
  },
  {
   "cell_type": "code",
   "execution_count": 1,
   "metadata": {},
   "outputs": [],
   "source": [
    "# Data manipulation\n",
    "import pandas as pd\n",
    "import json\n",
    "import numpy as np\n",
    "from datetime import datetime as dt\n",
    "\n",
    "# Visualizations\n",
    "%matplotlib inline\n",
    "import matplotlib.pyplot as plt\n",
    "import seaborn as sns\n",
    "\n",
    "# Modeling\n",
    "from sklearn.linear_model import LinearRegression\n",
    "from sklearn.model_selection import train_test_split\n",
    "from sklearn.metrics import mean_squared_error\n",
    "\n"
   ]
  },
  {
   "cell_type": "markdown",
   "metadata": {},
   "source": [
    "## Local library import\n",
    "Import all the required local libraries.\n"
   ]
  },
  {
   "cell_type": "code",
   "execution_count": 2,
   "metadata": {},
   "outputs": [],
   "source": [
    "# Include local library paths\n",
    "import sys\n",
    "# sys.path.append('path/to/local/lib') # uncomment and fill to import local libraries\n",
    "\n",
    "# Import local libraries"
   ]
  },
  {
   "cell_type": "markdown",
   "metadata": {},
   "source": [
    "# Parameter definitions\n",
    "-tzDF: intial dataframe contains 12/06/2020 data \n",
    "-tzDF_two: secondary dataframe contains 04/16/2021 data\n",
    "-one_Through_Twenty: array of values in tzDF[\"measuremnts_height\"] used for prediction\n",
    "-two_Through_Twenty_One:array of values in tzDF[\"measuremnts_height\"] used for prediction\n",
    "-three_Through_Twenty_Two: array of values in tzDF[\"measuremnts_height\"] used for prediction\n",
    "-four_Through_Twenty_Four: array of values in tzDF[\"measuremnts_height\"] used for prediction\n",
    "-result_DF: data frame of all of the above arrays combined \n",
    "-december_Series_X: inputed height for 12/16/2020 data for Linear Regression  \n",
    "-december_Series_Y: target height data for 12/16/2020\n",
    "-april_Series_X: inputed height data for 04/16/2021\n",
    "-april_Series_Y: target height data for 04/16/2021\n",
    "april_Prediction: Predicted values from the two days\n",
    "\n",
    "\n"
   ]
  },
  {
   "cell_type": "markdown",
   "metadata": {},
   "source": [
    "\n",
    "# Data import\n"
   ]
  },
  {
   "cell_type": "markdown",
   "metadata": {},
   "source": [
    "The CHORDS notebook portal is where the data is acessed."
   ]
  },
  {
   "cell_type": "code",
   "execution_count": 3,
   "metadata": {},
   "outputs": [],
   "source": [
    "#Import for JSON files for manipulation\n",
    "''' Both files are station one, but the first date is December 16,2020\n",
    "    while the second date is April 16 2021.\n",
    "'''\n",
    "with open('OLO1_12_16_20.geojson', 'r', encoding=\"utf-8\") as infile:\n",
    "    tzList = json.load(infile)\n",
    "\n",
    "with open('OLO1_4_16_21.geojson', 'r', encoding=\"utf-8\") as infile:\n",
    "    tz2List = json.load(infile)"
   ]
  },
  {
   "cell_type": "markdown",
   "metadata": {},
   "source": [
    "# Data processing and analysis\n"
   ]
  },
  {
   "cell_type": "code",
   "execution_count": 4,
   "metadata": {
    "scrolled": true
   },
   "outputs": [
    {
     "name": "stdout",
     "output_type": "stream",
     "text": [
      "       measurements_lat  measurements_height  measurements_lon\n",
      "count      5.990000e+03          5990.000000      5.990000e+03\n",
      "mean       2.734205e+00           988.153415      3.595022e+01\n",
      "std        2.869056e-13             0.020116      1.547341e-07\n",
      "min        2.734205e+00           988.095000      3.595022e+01\n",
      "25%        2.734205e+00           988.139000      3.595022e+01\n",
      "50%        2.734205e+00           988.152000      3.595022e+01\n",
      "75%        2.734205e+00           988.167000      3.595022e+01\n",
      "max        2.734205e+00           988.226000      3.595022e+01\n"
     ]
    },
    {
     "data": {
      "text/html": [
       "<div>\n",
       "<style scoped>\n",
       "    .dataframe tbody tr th:only-of-type {\n",
       "        vertical-align: middle;\n",
       "    }\n",
       "\n",
       "    .dataframe tbody tr th {\n",
       "        vertical-align: top;\n",
       "    }\n",
       "\n",
       "    .dataframe thead th {\n",
       "        text-align: right;\n",
       "    }\n",
       "</style>\n",
       "<table border=\"1\" class=\"dataframe\">\n",
       "  <thead>\n",
       "    <tr style=\"text-align: right;\">\n",
       "      <th></th>\n",
       "      <th>time</th>\n",
       "      <th>test</th>\n",
       "      <th>measurements_lat</th>\n",
       "      <th>measurements_height</th>\n",
       "      <th>measurements_lon</th>\n",
       "    </tr>\n",
       "  </thead>\n",
       "  <tbody>\n",
       "    <tr>\n",
       "      <th>0</th>\n",
       "      <td>2020-12-16T05:08:18Z</td>\n",
       "      <td>false</td>\n",
       "      <td>2.734205</td>\n",
       "      <td>988.203</td>\n",
       "      <td>35.950217</td>\n",
       "    </tr>\n",
       "    <tr>\n",
       "      <th>1</th>\n",
       "      <td>2020-12-16T05:08:19Z</td>\n",
       "      <td>false</td>\n",
       "      <td>2.734205</td>\n",
       "      <td>988.206</td>\n",
       "      <td>35.950217</td>\n",
       "    </tr>\n",
       "    <tr>\n",
       "      <th>2</th>\n",
       "      <td>2020-12-16T05:08:20Z</td>\n",
       "      <td>false</td>\n",
       "      <td>2.734205</td>\n",
       "      <td>988.214</td>\n",
       "      <td>35.950217</td>\n",
       "    </tr>\n",
       "    <tr>\n",
       "      <th>3</th>\n",
       "      <td>2020-12-16T05:08:21Z</td>\n",
       "      <td>false</td>\n",
       "      <td>2.734205</td>\n",
       "      <td>988.226</td>\n",
       "      <td>35.950217</td>\n",
       "    </tr>\n",
       "    <tr>\n",
       "      <th>4</th>\n",
       "      <td>2020-12-16T05:24:41Z</td>\n",
       "      <td>false</td>\n",
       "      <td>2.734205</td>\n",
       "      <td>988.199</td>\n",
       "      <td>35.950217</td>\n",
       "    </tr>\n",
       "    <tr>\n",
       "      <th>...</th>\n",
       "      <td>...</td>\n",
       "      <td>...</td>\n",
       "      <td>...</td>\n",
       "      <td>...</td>\n",
       "      <td>...</td>\n",
       "    </tr>\n",
       "    <tr>\n",
       "      <th>5985</th>\n",
       "      <td>2020-12-17T04:48:44Z</td>\n",
       "      <td>false</td>\n",
       "      <td>2.734205</td>\n",
       "      <td>988.139</td>\n",
       "      <td>35.950217</td>\n",
       "    </tr>\n",
       "    <tr>\n",
       "      <th>5986</th>\n",
       "      <td>2020-12-17T04:53:51Z</td>\n",
       "      <td>false</td>\n",
       "      <td>2.734205</td>\n",
       "      <td>988.147</td>\n",
       "      <td>35.950217</td>\n",
       "    </tr>\n",
       "    <tr>\n",
       "      <th>5987</th>\n",
       "      <td>2020-12-17T04:53:52Z</td>\n",
       "      <td>false</td>\n",
       "      <td>2.734205</td>\n",
       "      <td>988.132</td>\n",
       "      <td>35.950217</td>\n",
       "    </tr>\n",
       "    <tr>\n",
       "      <th>5988</th>\n",
       "      <td>2020-12-17T04:55:09Z</td>\n",
       "      <td>false</td>\n",
       "      <td>2.734205</td>\n",
       "      <td>988.137</td>\n",
       "      <td>35.950217</td>\n",
       "    </tr>\n",
       "    <tr>\n",
       "      <th>5989</th>\n",
       "      <td>2020-12-17T04:59:54Z</td>\n",
       "      <td>false</td>\n",
       "      <td>2.734205</td>\n",
       "      <td>988.147</td>\n",
       "      <td>35.950217</td>\n",
       "    </tr>\n",
       "  </tbody>\n",
       "</table>\n",
       "<p>5990 rows × 5 columns</p>\n",
       "</div>"
      ],
      "text/plain": [
       "                      time   test  measurements_lat  measurements_height  \\\n",
       "0     2020-12-16T05:08:18Z  false          2.734205              988.203   \n",
       "1     2020-12-16T05:08:19Z  false          2.734205              988.206   \n",
       "2     2020-12-16T05:08:20Z  false          2.734205              988.214   \n",
       "3     2020-12-16T05:08:21Z  false          2.734205              988.226   \n",
       "4     2020-12-16T05:24:41Z  false          2.734205              988.199   \n",
       "...                    ...    ...               ...                  ...   \n",
       "5985  2020-12-17T04:48:44Z  false          2.734205              988.139   \n",
       "5986  2020-12-17T04:53:51Z  false          2.734205              988.147   \n",
       "5987  2020-12-17T04:53:52Z  false          2.734205              988.132   \n",
       "5988  2020-12-17T04:55:09Z  false          2.734205              988.137   \n",
       "5989  2020-12-17T04:59:54Z  false          2.734205              988.147   \n",
       "\n",
       "      measurements_lon  \n",
       "0            35.950217  \n",
       "1            35.950217  \n",
       "2            35.950217  \n",
       "3            35.950217  \n",
       "4            35.950217  \n",
       "...                ...  \n",
       "5985         35.950217  \n",
       "5986         35.950217  \n",
       "5987         35.950217  \n",
       "5988         35.950217  \n",
       "5989         35.950217  \n",
       "\n",
       "[5990 rows x 5 columns]"
      ]
     },
     "execution_count": 4,
     "metadata": {},
     "output_type": "execute_result"
    }
   ],
   "source": [
    "#Convert both JSON's into  a partially-flattened pandas DataFrame   \n",
    "tzDF =  pd.json_normalize(tzList[\"features\"][0][\"properties\"][\"data\"], sep='_')\n",
    "tz2DF =  pd.json_normalize(tzList[\"features\"][0][\"properties\"][\"data\"], sep='_')\n",
    "#Overview of numerical elements of the data\n",
    "print(tzDF.describe())\n",
    "tzDF"
   ]
  },
  {
   "cell_type": "markdown",
   "metadata": {},
   "source": [
    "From the .describe call looking at our data frame there does not seem to be a lot of varaition in columns measurements_lat and measurements_lon. The reasoning of choosing to explore the measurements_height column in this notebook is beacause of its variation. From viewing the dataframe the time column is in a time series form with extra seperator varibles \"T\" and \"Z\" in the next two cells we will convert the timestamp column into an integer form for easy manipulation."
   ]
  },
  {
   "cell_type": "markdown",
   "metadata": {},
   "source": [
    " Function to convert timestamp coulmn of tzDF and tz2DF from timeseries to an integer for easy manipulation."
   ]
  },
  {
   "cell_type": "code",
   "execution_count": 5,
   "metadata": {},
   "outputs": [],
   "source": [
    "def timeconvertfunc(timestamp):\n",
    " #The format of tzDF[\"measurments_height] is in string form and timeseries so this method make it an integer\"\n",
    "  ts = pd.Timestamp(timestamp, tz=None).to_pydatetime()\n",
    "  ts = 3600*ts.hour + 60*ts.minute + ts.second\n",
    "\n",
    "  return ts\n",
    "#Applying above method to the two data frames\n",
    "tzDF[\"timeconvert\"] = tzDF[\"time\"].apply(timeconvertfunc)\n",
    "tz2DF[\"timeconvert\"] = tzDF[\"time\"].apply(timeconvertfunc)"
   ]
  },
  {
   "cell_type": "markdown",
   "metadata": {},
   "source": [
    "# Visulization of basic stastics from measurements_height and linear regression"
   ]
  },
  {
   "cell_type": "markdown",
   "metadata": {},
   "source": [
    "In the code block below the four series objects are partions of the measurments_height column in the tzDF dataframe. We create these partions to feed into a Linear Regression model for predictions."
   ]
  },
  {
   "cell_type": "code",
   "execution_count": 6,
   "metadata": {},
   "outputs": [
    {
     "data": {
      "image/png": "[encoded data removed]",
      "text/plain": [
       "<Figure size 432x288 with 1 Axes>"
      ]
     },
     "metadata": {
      "needs_background": "light"
     },
     "output_type": "display_data"
    },
    {
     "name": "stdout",
     "output_type": "stream",
     "text": [
      "This is the b value [[0.83655979]]\n",
      "This is the m value [161.50298089]\n",
      "This is the R^2 0.7395011512205776\n"
     ]
    }
   ],
   "source": [
    "#From the first\n",
    "one_Through_Twenty = tzDF[\"measurements_height\"].loc[1:21].values.reshape(-1,1)\n",
    "two_Through_Twenty_One= tzDF[\"measurements_height\"].loc[2:22].values.reshape(-1,1)\n",
    "three_Through_Twenty_Two =tzDF[\"measurements_height\"].loc[3:23].values.reshape(-1,1)\n",
    "four_Through_Twenty_Four = tzDF[\"measurements_height\"].loc[4:24].values.reshape(-1,1)\n",
    "\n",
    "#Linear Regression model on columns 1-20 and 2-21\n",
    "\n",
    "lm = LinearRegression()\n",
    "lm.fit(one_Through_Twenty ,two_Through_Twenty_One)\n",
    "y_pred = lm.predict(one_Through_Twenty)\n",
    "plt.xlabel(\"actual height\")\n",
    "plt.ylabel(\"predicted height\")\n",
    "plt.title(\"actual height(meters) vs predicted height(meters)\")\n",
    "plt.scatter(one_Through_Twenty,two_Through_Twenty_One)\n",
    "plt.plot(one_Through_Twenty,y_pred,color=\"red\")\n",
    "plt.show()\n",
    "\n",
    "print(\"This is the b value\",lm.coef_,)\n",
    "\n",
    "print(\"This is the m value\",lm.intercept_)\n",
    "print(\"This is the R^2\",lm.score(one_Through_Twenty,two_Through_Twenty_One))\n",
    "\n"
   ]
  },
  {
   "cell_type": "markdown",
   "metadata": {},
   "source": [
    "From the above model with using the first through twentith column and second through twenty second column we yeild a Coefficent of Correlation (R^2) value of about 0.73 which shows positive correlation between the two inputs. So about 37% of varition is residing in the residual."
   ]
  },
  {
   "cell_type": "markdown",
   "metadata": {},
   "source": [
    "## two_through_Twenty_One and three_through_Twenty_Two"
   ]
  },
  {
   "cell_type": "code",
   "execution_count": 7,
   "metadata": {},
   "outputs": [
    {
     "data": {
      "image/png": "[encoded data removed]",
      "text/plain": [
       "<Figure size 432x288 with 1 Axes>"
      ]
     },
     "metadata": {
      "needs_background": "light"
     },
     "output_type": "display_data"
    },
    {
     "name": "stdout",
     "output_type": "stream",
     "text": [
      "This is the b value [[0.81020583]]\n",
      "This is the m value [187.5439221]\n",
      "This is the R^2 0.7256865812125708\n"
     ]
    }
   ],
   "source": [
    "\n",
    "lm = LinearRegression()\n",
    "lm.fit(two_Through_Twenty_One ,three_Through_Twenty_Two)\n",
    "y_pred1 = lm.predict(two_Through_Twenty_One)\n",
    "plt.scatter(two_Through_Twenty_One,three_Through_Twenty_Two)\n",
    "plt.plot(two_Through_Twenty_One,y_pred1,color=\"green\")\n",
    "plt.xlabel(\"actual height\")\n",
    "plt.ylabel(\"predicted height\")\n",
    "plt.title(\"actual height(meters) vs predicted height(meters)\")\n",
    "plt.show()\n",
    "print(\"This is the b value\",lm.coef_,)\n",
    "print(\"This is the m value\",lm.intercept_)\n",
    "print(\"This is the R^2\",lm.score(two_Through_Twenty_One,three_Through_Twenty_Two))"
   ]
  },
  {
   "cell_type": "markdown",
   "metadata": {},
   "source": [
    "From the above model with using the first through twentith column and second through twenty second column we yeild a Coefficent of Correlation (R^2) value of about 0.72 which shows positive correlation between the two inputs. So about 38% of varition is residing in the residual."
   ]
  },
  {
   "cell_type": "markdown",
   "metadata": {},
   "source": [
    "# Linear Regression from single day"
   ]
  },
  {
   "cell_type": "markdown",
   "metadata": {},
   "source": [
    "The following code chunk uses  Linear Regression( specifically with rows of height measurmet one_Through_Twenty,two_Through_Twenty_One, and \n",
    "three_Through_Twenty_Two. The dataframe used for the model is tzDF and we display the predicted values versus actual values."
   ]
  },
  {
   "cell_type": "code",
   "execution_count": 8,
   "metadata": {},
   "outputs": [
    {
     "data": {
      "image/png": "[encoded data removed]",
      "text/plain": [
       "<Figure size 432x288 with 1 Axes>"
      ]
     },
     "metadata": {
      "needs_background": "light"
     },
     "output_type": "display_data"
    },
    {
     "name": "stdout",
     "output_type": "stream",
     "text": [
      "measurements_height    0.0\n",
      "measurements_height    0.0\n",
      "measurements_height    0.0\n",
      "measurements_height    0.0\n",
      "Name: 21, dtype: float64\n"
     ]
    }
   ],
   "source": [
    "#Set up series object for partions in the dataframe\n",
    "one_Through_Twenty = tzDF[\"measurements_height\"].loc[1:21]\n",
    "two_Through_Twenty_One= tzDF[\"measurements_height\"].loc[2:22]\n",
    "three_Through_Twenty_Two =tzDF[\"measurements_height\"].loc[3:23]\n",
    "four_Through_Twenty_Four = tzDF[\"measurements_height\"].loc[4:24]\n",
    "\n",
    "#Renaming the series objects\n",
    "one_Through_Twenty.rename({\"measurements_height\":\"w\"},axis =1,inplace=True)\n",
    "two_Through_Twenty_One.rename({\"measurements_height\":\"x\"},axis =1,inplace=True)\n",
    "three_Through_Twenty_Two.rename({\"measurements_height\":\"y\"},axis =1,inplace=True)\n",
    "four_Through_Twenty_Four.rename({\"measurements_height\":\"z\"},axis =1,inplace=True)\n",
    "\n",
    "#Concating the series objects to one dataframe, result_DF\n",
    "result_DF = pd.concat([one_Through_Twenty,two_Through_Twenty_One,three_Through_Twenty_Two,four_Through_Twenty_Four],axis=1)\n",
    "result_DF\n",
    "\n",
    "#Modefying dataframe by shifting the coulmns up \n",
    "result_DF.iloc[:,1] = result_DF.iloc[:,1].shift(-1)\n",
    "result_DF.iloc[:,2] = result_DF.iloc[:,2].shift(-2)\n",
    "result_DF.iloc[:,3] = result_DF.iloc[:,3].shift(-3)\n",
    "\n",
    "#Aligning all coulmns of the data frame together\n",
    "result_DF = result_DF.dropna()\n",
    "result_DF = result_DF.transpose()\n",
    "result_DF\n",
    "\n",
    "#Linear Regression on all rows and 1-19 coulmns \n",
    "lm = LinearRegression()\n",
    "x = result_DF.iloc[:,0:20]\n",
    "y = result_DF.iloc[:,20]\n",
    "lm.fit(x,y)\n",
    "y_pred1 = lm.predict(x)\n",
    "plt.scatter(y,y_pred1)\n",
    "plt.xlabel(\"actual height\")\n",
    "plt.ylabel(\"predicted height\")\n",
    "plt.title(\"actual height(meters) vs predicted height(meters)\")\n",
    "plt.show()\n",
    "#print(\"This is the b value\",lm.coef_,)\n",
    "#print(\"This is the m value\",lm.intercept_)\n",
    "#print(\"This is the R^2\",lm.score(x,y))\n",
    "print(y-y_pred1)\n"
   ]
  },
  {
   "cell_type": "markdown",
   "metadata": {},
   "source": [
    "From viewing the above graph all points are prefectly predicted as the values overlap graphically and the difference in height is zero. From viewing our results we are gaining perfect accuracy of prediciton we will now increase the sample size of the data."
   ]
  },
  {
   "cell_type": "markdown",
   "metadata": {},
   "source": [
    "## Prediction of one point"
   ]
  },
  {
   "cell_type": "markdown",
   "metadata": {},
   "source": [
    "We "
   ]
  },
  {
   "cell_type": "code",
   "execution_count": 9,
   "metadata": {},
   "outputs": [
    {
     "name": "stdout",
     "output_type": "stream",
     "text": [
      "Error of model is [-0.01270647]\n"
     ]
    },
    {
     "data": {
      "image/png": "[encoded data removed]",
      "text/plain": [
       "<Figure size 432x288 with 1 Axes>"
      ]
     },
     "metadata": {
      "needs_background": "light"
     },
     "output_type": "display_data"
    }
   ],
   "source": [
    "#Training the first through third rows and all columns\n",
    "train_x = x.iloc[0:3,:]\n",
    "train_y = y.iloc[0:3]\n",
    "\n",
    "#Set up for test data\n",
    "test_x = x.iloc[3,:]\n",
    "test_y = y.iloc[3]\n",
    "test_x = test_x.values.reshape(1,-1)\n",
    "\n",
    "#Fitting the model \n",
    "lm.fit(train_x,train_y)\n",
    "y_pred2 = lm.predict(test_x)\n",
    "plt.scatter(test_y,y_pred2)\n",
    "\n",
    "print(\"Error of model is\",test_y-y_pred2)"
   ]
  },
  {
   "cell_type": "markdown",
   "metadata": {},
   "source": [
    "# Method to increase sample size for model"
   ]
  },
  {
   "cell_type": "markdown",
   "metadata": {},
   "source": [
    "Method below takes in a dataframe goes into measurment height and get the first through nintenth values in the height dataframe. The first and nintenth value are increased by one a thousand times. The Data frame is transposed made into coulmns then added to an empty list so that it can be concated into a dataframe."
   ]
  },
  {
   "cell_type": "code",
   "execution_count": 10,
   "metadata": {},
   "outputs": [
    {
     "data": {
      "text/html": [
       "<div>\n",
       "<style scoped>\n",
       "    .dataframe tbody tr th:only-of-type {\n",
       "        vertical-align: middle;\n",
       "    }\n",
       "\n",
       "    .dataframe tbody tr th {\n",
       "        vertical-align: top;\n",
       "    }\n",
       "\n",
       "    .dataframe thead th {\n",
       "        text-align: right;\n",
       "    }\n",
       "</style>\n",
       "<table border=\"1\" class=\"dataframe\">\n",
       "  <thead>\n",
       "    <tr style=\"text-align: right;\">\n",
       "      <th></th>\n",
       "      <th>history_1</th>\n",
       "      <th>history_2</th>\n",
       "      <th>history_3</th>\n",
       "      <th>history_4</th>\n",
       "      <th>history_5</th>\n",
       "      <th>history_6</th>\n",
       "      <th>history_7</th>\n",
       "      <th>history_8</th>\n",
       "      <th>history_9</th>\n",
       "      <th>history_10</th>\n",
       "      <th>history_11</th>\n",
       "      <th>history_12</th>\n",
       "      <th>history_13</th>\n",
       "      <th>history_14</th>\n",
       "      <th>history_15</th>\n",
       "      <th>history_16</th>\n",
       "      <th>history_17</th>\n",
       "      <th>history_18</th>\n",
       "      <th>history_19</th>\n",
       "      <th>history_20</th>\n",
       "    </tr>\n",
       "  </thead>\n",
       "  <tbody>\n",
       "    <tr>\n",
       "      <th>0</th>\n",
       "      <td>988.206</td>\n",
       "      <td>988.214</td>\n",
       "      <td>988.226</td>\n",
       "      <td>988.199</td>\n",
       "      <td>988.220</td>\n",
       "      <td>988.212</td>\n",
       "      <td>988.202</td>\n",
       "      <td>988.167</td>\n",
       "      <td>988.167</td>\n",
       "      <td>988.126</td>\n",
       "      <td>988.129</td>\n",
       "      <td>988.132</td>\n",
       "      <td>988.151</td>\n",
       "      <td>988.135</td>\n",
       "      <td>988.108</td>\n",
       "      <td>988.114</td>\n",
       "      <td>988.129</td>\n",
       "      <td>988.169</td>\n",
       "      <td>988.162</td>\n",
       "      <td>988.147</td>\n",
       "    </tr>\n",
       "    <tr>\n",
       "      <th>1</th>\n",
       "      <td>988.214</td>\n",
       "      <td>988.226</td>\n",
       "      <td>988.199</td>\n",
       "      <td>988.220</td>\n",
       "      <td>988.212</td>\n",
       "      <td>988.202</td>\n",
       "      <td>988.167</td>\n",
       "      <td>988.167</td>\n",
       "      <td>988.126</td>\n",
       "      <td>988.129</td>\n",
       "      <td>988.132</td>\n",
       "      <td>988.151</td>\n",
       "      <td>988.135</td>\n",
       "      <td>988.108</td>\n",
       "      <td>988.114</td>\n",
       "      <td>988.129</td>\n",
       "      <td>988.169</td>\n",
       "      <td>988.162</td>\n",
       "      <td>988.147</td>\n",
       "      <td>988.143</td>\n",
       "    </tr>\n",
       "    <tr>\n",
       "      <th>2</th>\n",
       "      <td>988.226</td>\n",
       "      <td>988.199</td>\n",
       "      <td>988.220</td>\n",
       "      <td>988.212</td>\n",
       "      <td>988.202</td>\n",
       "      <td>988.167</td>\n",
       "      <td>988.167</td>\n",
       "      <td>988.126</td>\n",
       "      <td>988.129</td>\n",
       "      <td>988.132</td>\n",
       "      <td>988.151</td>\n",
       "      <td>988.135</td>\n",
       "      <td>988.108</td>\n",
       "      <td>988.114</td>\n",
       "      <td>988.129</td>\n",
       "      <td>988.169</td>\n",
       "      <td>988.162</td>\n",
       "      <td>988.147</td>\n",
       "      <td>988.143</td>\n",
       "      <td>988.146</td>\n",
       "    </tr>\n",
       "    <tr>\n",
       "      <th>3</th>\n",
       "      <td>988.199</td>\n",
       "      <td>988.220</td>\n",
       "      <td>988.212</td>\n",
       "      <td>988.202</td>\n",
       "      <td>988.167</td>\n",
       "      <td>988.167</td>\n",
       "      <td>988.126</td>\n",
       "      <td>988.129</td>\n",
       "      <td>988.132</td>\n",
       "      <td>988.151</td>\n",
       "      <td>988.135</td>\n",
       "      <td>988.108</td>\n",
       "      <td>988.114</td>\n",
       "      <td>988.129</td>\n",
       "      <td>988.169</td>\n",
       "      <td>988.162</td>\n",
       "      <td>988.147</td>\n",
       "      <td>988.143</td>\n",
       "      <td>988.146</td>\n",
       "      <td>988.142</td>\n",
       "    </tr>\n",
       "    <tr>\n",
       "      <th>4</th>\n",
       "      <td>988.220</td>\n",
       "      <td>988.212</td>\n",
       "      <td>988.202</td>\n",
       "      <td>988.167</td>\n",
       "      <td>988.167</td>\n",
       "      <td>988.126</td>\n",
       "      <td>988.129</td>\n",
       "      <td>988.132</td>\n",
       "      <td>988.151</td>\n",
       "      <td>988.135</td>\n",
       "      <td>988.108</td>\n",
       "      <td>988.114</td>\n",
       "      <td>988.129</td>\n",
       "      <td>988.169</td>\n",
       "      <td>988.162</td>\n",
       "      <td>988.147</td>\n",
       "      <td>988.143</td>\n",
       "      <td>988.146</td>\n",
       "      <td>988.142</td>\n",
       "      <td>988.136</td>\n",
       "    </tr>\n",
       "    <tr>\n",
       "      <th>...</th>\n",
       "      <td>...</td>\n",
       "      <td>...</td>\n",
       "      <td>...</td>\n",
       "      <td>...</td>\n",
       "      <td>...</td>\n",
       "      <td>...</td>\n",
       "      <td>...</td>\n",
       "      <td>...</td>\n",
       "      <td>...</td>\n",
       "      <td>...</td>\n",
       "      <td>...</td>\n",
       "      <td>...</td>\n",
       "      <td>...</td>\n",
       "      <td>...</td>\n",
       "      <td>...</td>\n",
       "      <td>...</td>\n",
       "      <td>...</td>\n",
       "      <td>...</td>\n",
       "      <td>...</td>\n",
       "      <td>...</td>\n",
       "    </tr>\n",
       "    <tr>\n",
       "      <th>995</th>\n",
       "      <td>988.100</td>\n",
       "      <td>988.106</td>\n",
       "      <td>988.131</td>\n",
       "      <td>988.121</td>\n",
       "      <td>988.129</td>\n",
       "      <td>988.129</td>\n",
       "      <td>988.146</td>\n",
       "      <td>988.148</td>\n",
       "      <td>988.131</td>\n",
       "      <td>988.130</td>\n",
       "      <td>988.145</td>\n",
       "      <td>988.112</td>\n",
       "      <td>988.127</td>\n",
       "      <td>988.140</td>\n",
       "      <td>988.114</td>\n",
       "      <td>988.122</td>\n",
       "      <td>988.151</td>\n",
       "      <td>988.164</td>\n",
       "      <td>988.140</td>\n",
       "      <td>988.143</td>\n",
       "    </tr>\n",
       "    <tr>\n",
       "      <th>996</th>\n",
       "      <td>988.106</td>\n",
       "      <td>988.131</td>\n",
       "      <td>988.121</td>\n",
       "      <td>988.129</td>\n",
       "      <td>988.129</td>\n",
       "      <td>988.146</td>\n",
       "      <td>988.148</td>\n",
       "      <td>988.131</td>\n",
       "      <td>988.130</td>\n",
       "      <td>988.145</td>\n",
       "      <td>988.112</td>\n",
       "      <td>988.127</td>\n",
       "      <td>988.140</td>\n",
       "      <td>988.114</td>\n",
       "      <td>988.122</td>\n",
       "      <td>988.151</td>\n",
       "      <td>988.164</td>\n",
       "      <td>988.140</td>\n",
       "      <td>988.143</td>\n",
       "      <td>988.146</td>\n",
       "    </tr>\n",
       "    <tr>\n",
       "      <th>997</th>\n",
       "      <td>988.131</td>\n",
       "      <td>988.121</td>\n",
       "      <td>988.129</td>\n",
       "      <td>988.129</td>\n",
       "      <td>988.146</td>\n",
       "      <td>988.148</td>\n",
       "      <td>988.131</td>\n",
       "      <td>988.130</td>\n",
       "      <td>988.145</td>\n",
       "      <td>988.112</td>\n",
       "      <td>988.127</td>\n",
       "      <td>988.140</td>\n",
       "      <td>988.114</td>\n",
       "      <td>988.122</td>\n",
       "      <td>988.151</td>\n",
       "      <td>988.164</td>\n",
       "      <td>988.140</td>\n",
       "      <td>988.143</td>\n",
       "      <td>988.146</td>\n",
       "      <td>988.132</td>\n",
       "    </tr>\n",
       "    <tr>\n",
       "      <th>998</th>\n",
       "      <td>988.121</td>\n",
       "      <td>988.129</td>\n",
       "      <td>988.129</td>\n",
       "      <td>988.146</td>\n",
       "      <td>988.148</td>\n",
       "      <td>988.131</td>\n",
       "      <td>988.130</td>\n",
       "      <td>988.145</td>\n",
       "      <td>988.112</td>\n",
       "      <td>988.127</td>\n",
       "      <td>988.140</td>\n",
       "      <td>988.114</td>\n",
       "      <td>988.122</td>\n",
       "      <td>988.151</td>\n",
       "      <td>988.164</td>\n",
       "      <td>988.140</td>\n",
       "      <td>988.143</td>\n",
       "      <td>988.146</td>\n",
       "      <td>988.132</td>\n",
       "      <td>988.133</td>\n",
       "    </tr>\n",
       "    <tr>\n",
       "      <th>999</th>\n",
       "      <td>988.129</td>\n",
       "      <td>988.129</td>\n",
       "      <td>988.146</td>\n",
       "      <td>988.148</td>\n",
       "      <td>988.131</td>\n",
       "      <td>988.130</td>\n",
       "      <td>988.145</td>\n",
       "      <td>988.112</td>\n",
       "      <td>988.127</td>\n",
       "      <td>988.140</td>\n",
       "      <td>988.114</td>\n",
       "      <td>988.122</td>\n",
       "      <td>988.151</td>\n",
       "      <td>988.164</td>\n",
       "      <td>988.140</td>\n",
       "      <td>988.143</td>\n",
       "      <td>988.146</td>\n",
       "      <td>988.132</td>\n",
       "      <td>988.133</td>\n",
       "      <td>988.117</td>\n",
       "    </tr>\n",
       "  </tbody>\n",
       "</table>\n",
       "<p>2000 rows × 20 columns</p>\n",
       "</div>"
      ],
      "text/plain": [
       "     history_1  history_2  history_3  history_4  history_5  history_6  \\\n",
       "0      988.206    988.214    988.226    988.199    988.220    988.212   \n",
       "1      988.214    988.226    988.199    988.220    988.212    988.202   \n",
       "2      988.226    988.199    988.220    988.212    988.202    988.167   \n",
       "3      988.199    988.220    988.212    988.202    988.167    988.167   \n",
       "4      988.220    988.212    988.202    988.167    988.167    988.126   \n",
       "..         ...        ...        ...        ...        ...        ...   \n",
       "995    988.100    988.106    988.131    988.121    988.129    988.129   \n",
       "996    988.106    988.131    988.121    988.129    988.129    988.146   \n",
       "997    988.131    988.121    988.129    988.129    988.146    988.148   \n",
       "998    988.121    988.129    988.129    988.146    988.148    988.131   \n",
       "999    988.129    988.129    988.146    988.148    988.131    988.130   \n",
       "\n",
       "     history_7  history_8  history_9  history_10  history_11  history_12  \\\n",
       "0      988.202    988.167    988.167     988.126     988.129     988.132   \n",
       "1      988.167    988.167    988.126     988.129     988.132     988.151   \n",
       "2      988.167    988.126    988.129     988.132     988.151     988.135   \n",
       "3      988.126    988.129    988.132     988.151     988.135     988.108   \n",
       "4      988.129    988.132    988.151     988.135     988.108     988.114   \n",
       "..         ...        ...        ...         ...         ...         ...   \n",
       "995    988.146    988.148    988.131     988.130     988.145     988.112   \n",
       "996    988.148    988.131    988.130     988.145     988.112     988.127   \n",
       "997    988.131    988.130    988.145     988.112     988.127     988.140   \n",
       "998    988.130    988.145    988.112     988.127     988.140     988.114   \n",
       "999    988.145    988.112    988.127     988.140     988.114     988.122   \n",
       "\n",
       "     history_13  history_14  history_15  history_16  history_17  history_18  \\\n",
       "0       988.151     988.135     988.108     988.114     988.129     988.169   \n",
       "1       988.135     988.108     988.114     988.129     988.169     988.162   \n",
       "2       988.108     988.114     988.129     988.169     988.162     988.147   \n",
       "3       988.114     988.129     988.169     988.162     988.147     988.143   \n",
       "4       988.129     988.169     988.162     988.147     988.143     988.146   \n",
       "..          ...         ...         ...         ...         ...         ...   \n",
       "995     988.127     988.140     988.114     988.122     988.151     988.164   \n",
       "996     988.140     988.114     988.122     988.151     988.164     988.140   \n",
       "997     988.114     988.122     988.151     988.164     988.140     988.143   \n",
       "998     988.122     988.151     988.164     988.140     988.143     988.146   \n",
       "999     988.151     988.164     988.140     988.143     988.146     988.132   \n",
       "\n",
       "     history_19  history_20  \n",
       "0       988.162     988.147  \n",
       "1       988.147     988.143  \n",
       "2       988.143     988.146  \n",
       "3       988.146     988.142  \n",
       "4       988.142     988.136  \n",
       "..          ...         ...  \n",
       "995     988.140     988.143  \n",
       "996     988.143     988.146  \n",
       "997     988.146     988.132  \n",
       "998     988.132     988.133  \n",
       "999     988.133     988.117  \n",
       "\n",
       "[2000 rows x 20 columns]"
      ]
     },
     "execution_count": 10,
     "metadata": {},
     "output_type": "execute_result"
    }
   ],
   "source": [
    "#Making an empty list to store coulmn values\n",
    "empty_list = []\n",
    "def make_list(DataFrame):\n",
    "    i = 0\n",
    "    for i in range(1000):  \n",
    "        change = tzDF[\"measurements_height\"].iloc[i+1:i+21].to_frame().transpose()\n",
    "        #Names of the columns\n",
    "        change.columns = [\"history_1\",\"history_2\",\"history_3\",\"history_4\",\"history_5\",\n",
    "                          \"history_6\",\"history_7\",\"history_8\",\"history_9\",\"history_10\",\n",
    "                          \"history_11\",\"history_12\",\"history_13\",\"history_14\",\"history_15\",\n",
    "                          \"history_16\",\"history_17\",\"history_18\",\"history_19\",\"history_20\"]\n",
    "        change.index = [i]\n",
    "        empty_list.append(change)\n",
    "    return empty_list\n",
    "# List of all columns values \n",
    "tzDF_list = make_list(tzDF[\"measurements_height\"])\n",
    "tzDF_two_list = make_list(tz2DF[\"measurements_height\"])\n",
    "\n",
    "#List iteration to combine all elements in list\n",
    "finalDF = pd.concat([m for m in tzDF_list])\n",
    "finalDF_two =  pd.concat([m for m in tzDF_two_list])\n",
    "finalDF_two\n"
   ]
  },
  {
   "cell_type": "markdown",
   "metadata": {},
   "source": [
    "# Increased data points for linear regression"
   ]
  },
  {
   "cell_type": "markdown",
   "metadata": {},
   "source": [
    "Below we will take the freshly made data frame finalDF with 200 rows x 20 columns, put the data into a linear regression utilizing the train test split module from the sci kit library. The test sizes of 35, 55, and 75 are used for variability. The x is all of the rows in the new dataframe and columns 1-19 while the y or output is all of the rows and the 19th column that we are predicting."
   ]
  },
  {
   "cell_type": "markdown",
   "metadata": {},
   "source": [
    "# 35% Test Data demensration"
   ]
  },
  {
   "cell_type": "code",
   "execution_count": 11,
   "metadata": {},
   "outputs": [
    {
     "name": "stdout",
     "output_type": "stream",
     "text": [
      "-0.000229563882718529\n"
     ]
    },
    {
     "data": {
      "image/png": "[encoded data removed]",
      "text/plain": [
       "<Figure size 432x288 with 1 Axes>"
      ]
     },
     "metadata": {
      "needs_background": "light"
     },
     "output_type": "display_data"
    }
   ],
   "source": [
    "# \n",
    "input_Data = finalDF.iloc[:,0:19]\n",
    "target_Data = finalDF.iloc[:,19]\n",
    "\n",
    "lm.fit(input_Data,target_Data)\n",
    "y_pred1 = lm.predict(input_Data)\n",
    "plt.scatter(target_Data,y_pred1)\n",
    "plt.xlabel(\"meters\")\n",
    "plt.ylabel(\"distrubution\")\n",
    "plt.scatter\n",
    "# x axis is actual height and y is what lm model is predicting in scatter\n",
    "X_train, X_test, y_train, y_test = train_test_split(input_Data, target_Data, test_size=0.35,random_state=50)\n",
    "\n",
    "lm = LinearRegression()\n",
    "\n",
    "model = lm.fit(X_train,y_train)\n",
    "prediction = lm.predict(X_test)\n",
    "\n",
    "#Series of the difference of the test the leng\n",
    "error_Series = y_test-prediction\n",
    "\n",
    "#average\n",
    "average_Difference = sum(error_Series/len(error_Series))\n",
    "#print(np.corrcoef(y_test,prediction))\n",
    "print(average_Difference)\n"
   ]
  },
  {
   "cell_type": "markdown",
   "metadata": {},
   "source": [
    "In the above cell when y_test-y_prediciton we get an average difference of -0.000229563882718529 from the model."
   ]
  },
  {
   "cell_type": "markdown",
   "metadata": {},
   "source": [
    "# 55% Test Data demenstration"
   ]
  },
  {
   "cell_type": "code",
   "execution_count": 12,
   "metadata": {},
   "outputs": [
    {
     "name": "stdout",
     "output_type": "stream",
     "text": [
      "-0.00030778063659289\n"
     ]
    },
    {
     "data": {
      "image/png": "[encoded data removed]",
      "text/plain": [
       "<Figure size 432x288 with 1 Axes>"
      ]
     },
     "metadata": {
      "needs_background": "light"
     },
     "output_type": "display_data"
    }
   ],
   "source": [
    "# \n",
    "input_Data = finalDF.iloc[:,0:19]\n",
    "target_Data = finalDF.iloc[:,19]\n",
    "\n",
    "lm.fit(input_Data,target_Data)\n",
    "y_pred1 = lm.predict(input_Data)\n",
    "plt.scatter(target_Data,y_pred1)\n",
    "plt.xlabel(\"meters\")\n",
    "plt.ylabel(\"distrubution\")\n",
    "plt.scatter\n",
    "# x axis is actual height and y is what lm model is predicting in scatter\n",
    "X_train, X_test, y_train, y_test = train_test_split(input_Data, target_Data, test_size=0.55,random_state=50)\n",
    "\n",
    "lm = LinearRegression()\n",
    "\n",
    "model = lm.fit(X_train,y_train)\n",
    "prediction = lm.predict(X_test)\n",
    "\n",
    "#Series of the difference of the test the leng\n",
    "error_Series = y_test-prediction\n",
    "\n",
    "#average\n",
    "average_Difference = sum(error_Series/len(error_Series))\n",
    "#print(np.corrcoef(y_test,prediction))\n",
    "print(average_Difference)\n"
   ]
  },
  {
   "cell_type": "markdown",
   "metadata": {},
   "source": [
    "# 75% Test Data demenstration"
   ]
  },
  {
   "cell_type": "code",
   "execution_count": 13,
   "metadata": {},
   "outputs": [
    {
     "name": "stdout",
     "output_type": "stream",
     "text": [
      "-0.00010741432729476694\n"
     ]
    },
    {
     "data": {
      "image/png": "[encoded data removed]",
      "text/plain": [
       "<Figure size 432x288 with 1 Axes>"
      ]
     },
     "metadata": {
      "needs_background": "light"
     },
     "output_type": "display_data"
    }
   ],
   "source": [
    "# \n",
    "input_Data = finalDF.iloc[:,0:19]\n",
    "target_Data = finalDF.iloc[:,19]\n",
    "\n",
    "lm.fit(input_Data,target_Data)\n",
    "y_pred1 = lm.predict(input_Data)\n",
    "plt.scatter(target_Data,y_pred1)\n",
    "plt.xlabel(\"meters\")\n",
    "plt.ylabel(\"distrubution\")\n",
    "plt.scatter\n",
    "# x axis is actual height and y is what lm model is predicting in scatter\n",
    "X_train, X_test, y_train, y_test = train_test_split(input_Data, target_Data, test_size=0.75,random_state=50)\n",
    "\n",
    "lm = LinearRegression()\n",
    "\n",
    "model = lm.fit(X_train,y_train)\n",
    "prediction = lm.predict(X_test)\n",
    "\n",
    "#Series of the difference of the test the leng\n",
    "error_Series = y_test-prediction\n",
    "\n",
    "#average\n",
    "average_Difference = sum(error_Series/len(error_Series))\n",
    "#print(np.corrcoef(y_test,prediction))\n",
    "print(average_Difference)\n"
   ]
  },
  {
   "cell_type": "markdown",
   "metadata": {},
   "source": [
    "# Use one day's data to predict a different days data"
   ]
  },
  {
   "cell_type": "markdown",
   "metadata": {},
   "source": [
    "#change \n",
    "The demenstations below utilize the second dataframe now named finalDF_two the December 16, 2020 dates data will be trained to predict the April 17,2020 dates data. The test size increases by ten percent in the for the range of 20-90 for varaibility. We will be using the Mean Squared value the value that shows the error for linear regression so we can view the accruacy of the model."
   ]
  },
  {
   "cell_type": "markdown",
   "metadata": {},
   "source": [
    "# Prediction from 20% test size data"
   ]
  },
  {
   "cell_type": "markdown",
   "metadata": {},
   "source": [
    "In the cell below december_Series_X and decemeber_Series_Y will be the data that is used to train the model. April_Series_X and april_Series_Y will be the different day and data that we predict it points from. We will display a historgram to view the error distrbution between the actual and predicted data as well as "
   ]
  },
  {
   "cell_type": "code",
   "execution_count": 14,
   "metadata": {},
   "outputs": [
    {
     "ename": "NameError",
     "evalue": "name 'm' is not defined",
     "output_type": "error",
     "traceback": [
      "\u001b[0;31m---------------------------------------------------------------------------\u001b[0m",
      "\u001b[0;31mNameError\u001b[0m                                 Traceback (most recent call last)",
      "\u001b[0;32m<ipython-input-14-62bc921a104f>\u001b[0m in \u001b[0;36m<module>\u001b[0;34m\u001b[0m\n\u001b[1;32m      4\u001b[0m \u001b[0mapril_Series_Y\u001b[0m \u001b[0;34m=\u001b[0m \u001b[0mfinalDF_two\u001b[0m\u001b[0;34m.\u001b[0m\u001b[0miloc\u001b[0m\u001b[0;34m[\u001b[0m\u001b[0;34m:\u001b[0m\u001b[0;34m,\u001b[0m\u001b[0;36m19\u001b[0m\u001b[0;34m]\u001b[0m\u001b[0;34m\u001b[0m\u001b[0;34m\u001b[0m\u001b[0m\n\u001b[1;32m      5\u001b[0m \u001b[0;34m\u001b[0m\u001b[0m\n\u001b[0;32m----> 6\u001b[0;31m \u001b[0mlm\u001b[0m\u001b[0;34m.\u001b[0m\u001b[0mfit\u001b[0m\u001b[0;34m(\u001b[0m\u001b[0mm\u001b[0m\u001b[0;34m,\u001b[0m\u001b[0mdecember_Series_Y\u001b[0m\u001b[0;34m)\u001b[0m\u001b[0;34m\u001b[0m\u001b[0;34m\u001b[0m\u001b[0m\n\u001b[0m\u001b[1;32m      7\u001b[0m \u001b[0my_pred1\u001b[0m \u001b[0;34m=\u001b[0m \u001b[0mlm\u001b[0m\u001b[0;34m.\u001b[0m\u001b[0mpredict\u001b[0m\u001b[0;34m(\u001b[0m\u001b[0mdecember_Series_X\u001b[0m\u001b[0;34m)\u001b[0m\u001b[0;34m\u001b[0m\u001b[0;34m\u001b[0m\u001b[0m\n\u001b[1;32m      8\u001b[0m \u001b[0;31m#plt.scatter(n,y_pred1)\u001b[0m\u001b[0;34m\u001b[0m\u001b[0;34m\u001b[0m\u001b[0;34m\u001b[0m\u001b[0m\n",
      "\u001b[0;31mNameError\u001b[0m: name 'm' is not defined"
     ]
    }
   ],
   "source": [
    "\n",
    "december_Series_X  = finalDF.iloc[:,0:19]\n",
    "december_Series_Y = finalDF.iloc[:,19]\n",
    "april_Series_X  = finalDF_two.iloc[:,0:19]\n",
    "april_Series_Y = finalDF_two.iloc[:,19]\n",
    "\n",
    "lm.fit(m,december_Series_Y)\n",
    "y_pred1 = lm.predict(december_Series_X)\n",
    "#plt.scatter(n,y_pred1)\n",
    "\n",
    "#train_test_split_module\n",
    "X_train, X_test, y_train, y_test = train_test_split(december_Series_X , december_Series_Y, test_size=0.20,random_state=50)\n",
    "model = lm.fit(X_train,y_train)\n",
    "model.intercept_\n",
    "model.coef_\n",
    "\n",
    "\n",
    "\n",
    "\n",
    "\n",
    "#setting the prediciton variable \n",
    "\n",
    "april_Prediction = model.predict(april_Series_X )\n",
    "\n",
    "#Distrubution of Errors pred vs actual\n",
    "plt.hist(april_Prediction-april_Series_Y,bins = 50)\n",
    "plt.xlabel(\"meters\")\n",
    "plt.ylabel(\"distrubution\")\n",
    "plt.title(\"Distrbution of predicted minus actual(m)\")\n",
    "plt.show()\n",
    "\n",
    "#Displaying Mean Squared Error\n",
    "twenty_MSE = mean_squared_error(april_Series_Y,april_Prediction)\n",
    "print(\"The mean squared error for this model is\",twenty_MSE,\"%\")"
   ]
  },
  {
   "cell_type": "markdown",
   "metadata": {},
   "source": [
    "In the above cell the hitsogram displyaed displays the error from the prediciton minus the series. Most of the distrbution of the data is centered around zero displaying the performance of the model. The MSE is extremly low showing the accuracy of the model."
   ]
  },
  {
   "cell_type": "markdown",
   "metadata": {},
   "source": [
    "# Prediction from 30% test size data"
   ]
  },
  {
   "cell_type": "markdown",
   "metadata": {},
   "source": [
    "In the cell below our we will be inputting in 30% test data "
   ]
  },
  {
   "cell_type": "code",
   "execution_count": null,
   "metadata": {},
   "outputs": [],
   "source": [
    "\n",
    "december_Series_X  = finalDF.iloc[:,0:19]\n",
    "december_Series_Y = finalDF.iloc[:,19]\n",
    "april_Series_X  = finalDF_two.iloc[:,0:19]\n",
    "april_Series_Y = finalDF_two.iloc[:,19]\n",
    "\n",
    "lm.fit(m,december_Series_Y)\n",
    "y_pred1 = lm.predict(december_Series_X)\n",
    "#plt.scatter(n,y_pred1)\n",
    "\n",
    "#train_test_split_module\n",
    "X_train, X_test, y_train, y_test = train_test_split(december_Series_X , december_Series_Y, test_size=0.30,random_state=50)\n",
    "model = lm.fit(X_train,y_train)\n",
    "model.intercept_\n",
    "model.coef_\n",
    "\n",
    "\n",
    "\n",
    "\n",
    "\n",
    "#setting the prediciton variable \n",
    "\n",
    "april_Prediction = model.predict(april_Series_X )\n",
    "\n",
    "#Distrubution of Errors pred vs actual\n",
    "plt.hist(april_Prediction-april_Series_Y,bins = 50)\n",
    "plt.xlabel(\"meters\")\n",
    "plt.ylabel(\"distrubution\")\n",
    "plt.title(\"Distrbution of predicted minus actual(m)\")\n",
    "plt.show()\n",
    "\n",
    "#Displaying Mean Squared Error\n",
    "twenty_MSE = mean_squared_error(april_Series_Y,april_Prediction)\n",
    "print(\"The mean squared error for this model is\",twenty_MSE,\"%\")"
   ]
  },
  {
   "cell_type": "markdown",
   "metadata": {},
   "source": [
    "# Prediction from 40% test size data"
   ]
  },
  {
   "cell_type": "code",
   "execution_count": null,
   "metadata": {
    "scrolled": true
   },
   "outputs": [],
   "source": [
    "\n",
    "december_Series_X  = finalDF.iloc[:,0:19]\n",
    "december_Series_Y = finalDF.iloc[:,19]\n",
    "april_Series_X  = finalDF_two.iloc[:,0:19]\n",
    "april_Series_Y = finalDF_two.iloc[:,19]\n",
    "\n",
    "lm.fit(m,december_Series_Y)\n",
    "y_pred1 = lm.predict(december_Series_X)\n",
    "#plt.scatter(n,y_pred1)\n",
    "\n",
    "#train_test_split_module\n",
    "X_train, X_test, y_train, y_test = train_test_split(december_Series_X , december_Series_Y, test_size=0.40,random_state=50)\n",
    "model = lm.fit(X_train,y_train)\n",
    "model.intercept_\n",
    "model.coef_\n",
    "\n",
    "\n",
    "\n",
    "\n",
    "\n",
    "#setting the prediciton variable \n",
    "\n",
    "april_Prediction = model.predict(april_Series_X )\n",
    "\n",
    "#Distrubution of Errors pred vs actual\n",
    "plt.hist(april_Prediction-april_Series_Y,bins = 50)\n",
    "plt.xlabel(\"meters\")\n",
    "plt.ylabel(\"distrubution\")\n",
    "plt.title(\"Distrbution of predicted minus actual(m)\")\n",
    "plt.show()\n",
    "\n",
    "#Displaying Mean Squared Error\n",
    "twenty_MSE = mean_squared_error(april_Series_Y,april_Prediction)\n",
    "print(\"The mean squared error for this model is\",twenty_MSE,\"%\")"
   ]
  },
  {
   "cell_type": "markdown",
   "metadata": {},
   "source": [
    "# Prediction from 50% test size data"
   ]
  },
  {
   "cell_type": "code",
   "execution_count": null,
   "metadata": {},
   "outputs": [],
   "source": [
    "\n",
    "december_Series_X  = finalDF.iloc[:,0:19]\n",
    "december_Series_Y = finalDF.iloc[:,19]\n",
    "april_Series_X  = finalDF_two.iloc[:,0:19]\n",
    "april_Series_Y = finalDF_two.iloc[:,19]\n",
    "\n",
    "lm.fit(m,december_Series_Y)\n",
    "y_pred1 = lm.predict(december_Series_X)\n",
    "#plt.scatter(n,y_pred1)\n",
    "\n",
    "#train_test_split_module\n",
    "X_train, X_test, y_train, y_test = train_test_split(december_Series_X , december_Series_Y, test_size=0.50,random_state=50)\n",
    "model = lm.fit(X_train,y_train)\n",
    "model.intercept_\n",
    "model.coef_\n",
    "\n",
    "\n",
    "\n",
    "\n",
    "\n",
    "#setting the prediciton variable \n",
    "\n",
    "april_Prediction = model.predict(april_Series_X )\n",
    "\n",
    "#Distrubution of Errors pred vs actual\n",
    "plt.hist(april_Prediction-april_Series_Y,bins = 50)\n",
    "plt.xlabel(\"meters\")\n",
    "plt.ylabel(\"distrubution\")\n",
    "plt.title(\"Distrbution of predicted minus actual(m)\")\n",
    "plt.show()\n",
    "\n",
    "#Displaying Mean Squared Error\n",
    "twenty_MSE = mean_squared_error(april_Series_Y,april_Prediction)\n",
    "print(\"The mean squared error for this model is\",twenty_MSE,\"%\")"
   ]
  },
  {
   "cell_type": "markdown",
   "metadata": {},
   "source": [
    "# Prediction from 60% test size data"
   ]
  },
  {
   "cell_type": "code",
   "execution_count": null,
   "metadata": {},
   "outputs": [],
   "source": [
    "\n",
    "december_Series_X  = finalDF.iloc[:,0:19]\n",
    "december_Series_Y = finalDF.iloc[:,19]\n",
    "april_Series_X  = finalDF_two.iloc[:,0:19]\n",
    "april_Series_Y = finalDF_two.iloc[:,19]\n",
    "\n",
    "lm.fit(m,december_Series_Y)\n",
    "y_pred1 = lm.predict(december_Series_X)\n",
    "#plt.scatter(n,y_pred1)\n",
    "\n",
    "#train_test_split_module\n",
    "X_train, X_test, y_train, y_test = train_test_split(december_Series_X , december_Series_Y, test_size=0.60,random_state=50)\n",
    "model = lm.fit(X_train,y_train)\n",
    "model.intercept_\n",
    "model.coef_\n",
    "\n",
    "\n",
    "\n",
    "\n",
    "\n",
    "#setting the prediciton variable \n",
    "\n",
    "april_Prediction = model.predict(april_Series_X )\n",
    "\n",
    "#Distrubution of Errors pred vs actual\n",
    "plt.hist(april_Prediction-april_Series_Y,bins = 50)\n",
    "plt.xlabel(\"meters\")\n",
    "plt.ylabel(\"distrubution\")\n",
    "plt.title(\"Distrbution of predicted minus actual(m)\")\n",
    "plt.show()\n",
    "\n",
    "#Displaying Mean Squared Error\n",
    "twenty_MSE = mean_squared_error(april_Series_Y,april_Prediction)\n",
    "print(\"The mean squared error for this model is\",twenty_MSE,\"%\")"
   ]
  },
  {
   "cell_type": "markdown",
   "metadata": {},
   "source": [
    "# Prediction from 70% test size data"
   ]
  },
  {
   "cell_type": "code",
   "execution_count": null,
   "metadata": {},
   "outputs": [],
   "source": [
    "\n",
    "december_Series_X  = finalDF.iloc[:,0:19]\n",
    "december_Series_Y = finalDF.iloc[:,19]\n",
    "april_Series_X  = finalDF_two.iloc[:,0:19]\n",
    "april_Series_Y = finalDF_two.iloc[:,19]\n",
    "\n",
    "lm.fit(m,december_Series_Y)\n",
    "y_pred1 = lm.predict(december_Series_X)\n",
    "#plt.scatter(n,y_pred1)\n",
    "\n",
    "#train_test_split_module\n",
    "X_train, X_test, y_train, y_test = train_test_split(december_Series_X , december_Series_Y, test_size=0.70,random_state=50)\n",
    "model = lm.fit(X_train,y_train)\n",
    "model.intercept_\n",
    "model.coef_\n",
    "\n",
    "\n",
    "\n",
    "\n",
    "\n",
    "#setting the prediciton variable \n",
    "\n",
    "april_Prediction = model.predict(april_Series_X )\n",
    "\n",
    "#Distrubution of Errors pred vs actual\n",
    "plt.hist(april_Prediction-april_Series_Y,bins = 50)\n",
    "plt.xlabel(\"meters\")\n",
    "plt.ylabel(\"distrubution\")\n",
    "plt.title(\"Distrbution of predicted minus actual(m)\")\n",
    "plt.show()\n",
    "\n",
    "#Displaying Mean Squared Error\n",
    "twenty_MSE = mean_squared_error(april_Series_Y,april_Prediction)\n",
    "print(\"The mean squared error for this model is\",twenty_MSE,\"%\")"
   ]
  },
  {
   "cell_type": "markdown",
   "metadata": {},
   "source": [
    "# Prediction from 80% test size data"
   ]
  },
  {
   "cell_type": "code",
   "execution_count": null,
   "metadata": {},
   "outputs": [],
   "source": [
    "\n",
    "december_Series_X  = finalDF.iloc[:,0:19]\n",
    "december_Series_Y = finalDF.iloc[:,19]\n",
    "april_Series_X  = finalDF_two.iloc[:,0:19]\n",
    "april_Series_Y = finalDF_two.iloc[:,19]\n",
    "\n",
    "lm.fit(m,december_Series_Y)\n",
    "y_pred1 = lm.predict(december_Series_X)\n",
    "#plt.scatter(n,y_pred1)\n",
    "\n",
    "#train_test_split_module\n",
    "X_train, X_test, y_train, y_test = train_test_split(december_Series_X , december_Series_Y, test_size=0.80,random_state=50)\n",
    "model = lm.fit(X_train,y_train)\n",
    "model.intercept_\n",
    "model.coef_\n",
    "\n",
    "\n",
    "\n",
    "\n",
    "\n",
    "#setting the prediciton variable \n",
    "\n",
    "april_Prediction = model.predict(april_Series_X )\n",
    "\n",
    "#Distrubution of Errors pred vs actual\n",
    "plt.hist(april_Prediction-april_Series_Y,bins = 50)\n",
    "plt.xlabel(\"meters\")\n",
    "plt.ylabel(\"distrubution\")\n",
    "plt.title(\"Distrbution of predicted minus actual(m)\")\n",
    "plt.show()\n",
    "\n",
    "#Displaying Mean Squared Error\n",
    "twenty_MSE = mean_squared_error(april_Series_Y,april_Prediction)\n",
    "print(\"The mean squared error for this model is\",twenty_MSE,\"%\")"
   ]
  },
  {
   "cell_type": "markdown",
   "metadata": {},
   "source": [
    "# Prediciton from 90% test size data"
   ]
  },
  {
   "cell_type": "code",
   "execution_count": null,
   "metadata": {},
   "outputs": [],
   "source": [
    "\n",
    "december_Series_X  = finalDF.iloc[:,0:19]\n",
    "december_Series_Y = finalDF.iloc[:,19]\n",
    "april_Series_X  = finalDF_two.iloc[:,0:19]\n",
    "april_Series_Y = finalDF_two.iloc[:,19]\n",
    "\n",
    "lm.fit(m,december_Series_Y)\n",
    "y_pred1 = lm.predict(december_Series_X)\n",
    "#plt.scatter(n,y_pred1)\n",
    "\n",
    "#train_test_split_module\n",
    "X_train, X_test, y_train, y_test = train_test_split(december_Series_X , december_Series_Y, test_size=0.90,random_state=50)\n",
    "model = lm.fit(X_train,y_train)\n",
    "model.intercept_\n",
    "model.coef_\n",
    "\n",
    "\n",
    "\n",
    "\n",
    "\n",
    "#setting the prediciton variable \n",
    "\n",
    "april_Prediction = model.predict(april_Series_X )\n",
    "\n",
    "#Distrubution of Errors pred vs actual\n",
    "plt.hist(april_Prediction-april_Series_Y,bins = 50)\n",
    "plt.xlabel(\"meters\")\n",
    "plt.ylabel(\"distrubution\")\n",
    "plt.title(\"Distrbution of predicted minus actual(m)\")\n",
    "plt.show()\n",
    "\n",
    "#Displaying Mean Squared Error\n",
    "twenty_MSE = mean_squared_error(april_Series_Y,april_Prediction)\n",
    "print(\"The mean squared error for this model is\",twenty_MSE,\"%\")"
   ]
  },
  {
   "cell_type": "markdown",
   "metadata": {},
   "source": [
    "# References\n",
    "\n"
   ]
  },
  {
   "cell_type": "markdown",
   "metadata": {},
   "source": [
    "Stamps, D. S., Saria, E., Ji, K. H., Jones, J. R., Ntambila, D., Daniels, M. D., &amp; Mencin, D. (2016). <i>Real-time data from the Tanzania Volcano Observatory at the Ol Doinyo Lengai volcano in Tanzania (TZVOLCANO).</i> UCAR/NCAR - EarthCube. https://doi.org/10.5065/D6P849BM"
   ]
  }
 ],
 "metadata": {
  "kernelspec": {
   "display_name": "Python 3",
   "language": "python",
   "name": "python3"
  },
  "language_info": {
   "codemirror_mode": {
    "name": "ipython",
    "version": 3
   },
   "file_extension": ".py",
   "mimetype": "text/x-python",
   "name": "python",
   "nbconvert_exporter": "python",
   "pygments_lexer": "ipython3",
   "version": "3.8.5"
  },
  "toc": {
   "base_numbering": 1,
   "nav_menu": {},
   "number_sections": true,
   "sideBar": true,
   "skip_h1_title": false,
   "title_cell": "Table of Contents",
   "title_sidebar": "Contents",
   "toc_cell": false,
   "toc_position": {
    "height": "calc(100% - 180px)",
    "left": "10px",
    "top": "150px",
    "width": "248.182px"
   },
   "toc_section_display": true,
   "toc_window_display": true
  }
 },
 "nbformat": 4,
 "nbformat_minor": 4
}
