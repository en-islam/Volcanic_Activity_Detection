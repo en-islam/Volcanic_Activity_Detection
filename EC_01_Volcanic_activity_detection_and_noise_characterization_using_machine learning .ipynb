{
 "cells": [
  {
   "cell_type": "markdown",
   "metadata": {},
   "source": [
    "# EC_01_Volcanic_activity_detection_and_noise_characterization_using_machine learning \n"
   ]
  },
  {
   "cell_type": "markdown",
   "metadata": {},
   "source": [
    "## Author(s)\n",
    "\n",
    "\n",
    "- Author1 = {\"name\": \"Myles Mason\", \"affiliation\": \"student\", \"email\": \"mylesm18@vt.edu\", \"orcid\": \"orcid\"}\n",
    "- Author2 = {\"name\": \"Dr.Wenskovitch\", \"affiliation\": \"affiliation\", \"email\": \"jw87@vt.edu\", \"orcid\": \"orcid\"}\n",
    "- Author3 = {\"name\": \"Dr.Sarah Stamps\", \"affiliation\": \"Professor\", \"email\": \"dstamps@vt.edu\", \"orcid\": \"orcid\"}\n",
    "- Author4 = {\"name\": \"Dr.Jones\", \"affiliation\": \"Professor\", \"email\": \"joshj55@vt.edu\", \"orcid\": \"orcid\"}\n",
    "\n",
    "    "
   ]
  },
  {
   "cell_type": "markdown",
   "metadata": {},
   "source": [
    "## Purpose\n",
    "\n",
    "This Jupyter notebook aims to explore methods towards characterizing noise and eventually predicting volcanic activity for Ol Doinyo Lengai (a volcano in Tanzania) with machine learning. Machine learning is a powerful tool that enables the automatization of complex mathematical and analytical models. In the case of this Jupyter notebook, the components are height, latitude, and longitude. The predicted component values are the next heights. This project uses Global Navigation Satellite System  (GNSS) data from the EarthCube CHORDS portal TZVOLCANO, which is the online interface for obtaining open-access real-time positioning data collected around Ol Doinyo Lengai (http://tzvolcano.chordsrt.com).\n",
    "\n",
    "## Technical contributions\n",
    "- The training of the models and anaylze uses basic Linear Albera and stastics \n",
    "- The main libraries used (numpy and pandas) are both libraries for data manipulation and linear algebra \n",
    "- The CHORDS site linked above is the location of the data and the interface of CHORDS\n",
    "\n",
    "## Methodology\n",
    "The data being anaylzed is from the first station labled as OLO1. The two JSON imports for the data are from 12/06/2020 and 04/16/2021. These specific days were choosen because the date seperation is four months which allows for variation in the data. \n",
    "#Say that I went throgh data pre processing steps , did basic exploration to see if LR models could be used went to bigger data sets to see if they were usable so it leads up to me to talk about results site\n",
    "\n",
    "## Results\n",
    "Describe and comment on the most important results. Include images and URLs as necessary. \n",
    "\n",
    "## Funding\n",
    "\n",
    "- Award1 = {\"agency\": \"National Science Foundation EarthCube Program\", \"award_code\": \"1639554\", \"award_URL\": \"https://www.nsf.gov/awardsearch/showAward?AWD_ID=1639554&HistoricalAwards=false\"}\n",
    "- Award2 = {\"agency\": \"Virginia Tech Academy of Integrated Sciences Hamlett Undergraduate Research Award\", \"award_code\": \"44672\", \"award_URL\": \"award_URL\"}\n",
    "\n",
    "## Keywords\n",
    "Include up to 5 keywords, using the template below.\n",
    "\n",
    "keywords=[\"tzDF\", \"LinearRegression\", \"Concat\", \"JSON\", \"Model\"]\n",
    "\n",
    "## Citation\n",
    "Include recommended citation for the notebook.\n",
    "#cite machine learning\n",
    "\n",
    "## Work In Progress - improvements\n",
    "Use this section only if the notebook is not final.\n",
    "# mention things like generating sysnthetic data that will mimic volcanic activity\n",
    "Notable TODOs:\n",
    "# Talk about how the existing work will lead me to predict volcanic activity\n",
    "- todo 1;\n",
    "- todo 2;\n",
    "\n",
    "## Suggested next steps\n",
    "Next steps for this notebook will be increasing the inputs for the prediction model. More anaylsis on the noise will be a crucial point in the next step for further volcanic activit prediciton.\n",
    "## Acknowledgements \n",
    "Include any relevant acknowledgements, apart from funding (which was in section 1.6)\n"
   ]
  },
  {
   "cell_type": "markdown",
   "metadata": {},
   "source": [
    "# Setup\n",
    "\n",
    "## Library import\n",
    "Import all the required Python libraries.\n",
    "\n",
    "The code cell below is an example."
   ]
  },
  {
   "cell_type": "code",
   "execution_count": 2,
   "metadata": {},
   "outputs": [],
   "source": [
    "# Data manipulation\n",
    "import pandas as pd\n",
    "import json\n",
    "import numpy as np\n",
    "from datetime import datetime as dt\n",
    "\n",
    "# Visualizations\n",
    "import matplotlib.pyplot as plt\n",
    "import seaborn as sns\n",
    "\n",
    "# Modeling\n",
    "from sklearn.linear_model import LinearRegression\n",
    "from sklearn.model_selection import train_test_split\n",
    "\n"
   ]
  },
  {
   "cell_type": "markdown",
   "metadata": {},
   "source": [
    "## Local library import\n",
    "Import all the required local libraries.\n"
   ]
  },
  {
   "cell_type": "code",
   "execution_count": 3,
   "metadata": {},
   "outputs": [],
   "source": [
    "# Include local library paths\n",
    "import sys\n",
    "# sys.path.append('path/to/local/lib') # uncomment and fill to import local libraries\n",
    "\n",
    "# Import local libraries"
   ]
  },
  {
   "cell_type": "markdown",
   "metadata": {},
   "source": [
    "# Parameter definitions\n",
    "timestamp- time series to integer\n",
    "# map to the function \n",
    "#talk about the data in the dataframe specilll the data in the data frame\n",
    "Dataframe - "
   ]
  },
  {
   "cell_type": "markdown",
   "metadata": {},
   "source": [
    "\n",
    "# Data import\n"
   ]
  },
  {
   "cell_type": "code",
   "execution_count": 4,
   "metadata": {},
   "outputs": [],
   "source": [
    "#Import for JSON files for manipulation\n",
    "''' Both files are station one, but the first date is December 16,2020\n",
    "    while the second date is April 16 2021.\n",
    "'''\n",
    "with open('OLO1_12_16_20.geojson', 'r', encoding=\"utf-8\") as infile:\n",
    "    tzList = json.load(infile)\n",
    "\n",
    "with open('OLO1_4_16_21.geojson', 'r', encoding=\"utf-8\") as infile:\n",
    "    tz2List = json.load(infile)"
   ]
  },
  {
   "cell_type": "markdown",
   "metadata": {},
   "source": [
    "# Data processing and analysis\n"
   ]
  },
  {
   "cell_type": "code",
   "execution_count": 5,
   "metadata": {},
   "outputs": [
    {
     "data": {
      "text/html": [
       "<div>\n",
       "<style scoped>\n",
       "    .dataframe tbody tr th:only-of-type {\n",
       "        vertical-align: middle;\n",
       "    }\n",
       "\n",
       "    .dataframe tbody tr th {\n",
       "        vertical-align: top;\n",
       "    }\n",
       "\n",
       "    .dataframe thead th {\n",
       "        text-align: right;\n",
       "    }\n",
       "</style>\n",
       "<table border=\"1\" class=\"dataframe\">\n",
       "  <thead>\n",
       "    <tr style=\"text-align: right;\">\n",
       "      <th></th>\n",
       "      <th>measurements_lat</th>\n",
       "      <th>measurements_height</th>\n",
       "      <th>measurements_lon</th>\n",
       "    </tr>\n",
       "  </thead>\n",
       "  <tbody>\n",
       "    <tr>\n",
       "      <th>count</th>\n",
       "      <td>5.990000e+03</td>\n",
       "      <td>5990.000000</td>\n",
       "      <td>5.990000e+03</td>\n",
       "    </tr>\n",
       "    <tr>\n",
       "      <th>mean</th>\n",
       "      <td>2.734205e+00</td>\n",
       "      <td>988.153415</td>\n",
       "      <td>3.595022e+01</td>\n",
       "    </tr>\n",
       "    <tr>\n",
       "      <th>std</th>\n",
       "      <td>2.869056e-13</td>\n",
       "      <td>0.020116</td>\n",
       "      <td>1.547341e-07</td>\n",
       "    </tr>\n",
       "    <tr>\n",
       "      <th>min</th>\n",
       "      <td>2.734205e+00</td>\n",
       "      <td>988.095000</td>\n",
       "      <td>3.595022e+01</td>\n",
       "    </tr>\n",
       "    <tr>\n",
       "      <th>25%</th>\n",
       "      <td>2.734205e+00</td>\n",
       "      <td>988.139000</td>\n",
       "      <td>3.595022e+01</td>\n",
       "    </tr>\n",
       "    <tr>\n",
       "      <th>50%</th>\n",
       "      <td>2.734205e+00</td>\n",
       "      <td>988.152000</td>\n",
       "      <td>3.595022e+01</td>\n",
       "    </tr>\n",
       "    <tr>\n",
       "      <th>75%</th>\n",
       "      <td>2.734205e+00</td>\n",
       "      <td>988.167000</td>\n",
       "      <td>3.595022e+01</td>\n",
       "    </tr>\n",
       "    <tr>\n",
       "      <th>max</th>\n",
       "      <td>2.734205e+00</td>\n",
       "      <td>988.226000</td>\n",
       "      <td>3.595022e+01</td>\n",
       "    </tr>\n",
       "  </tbody>\n",
       "</table>\n",
       "</div>"
      ],
      "text/plain": [
       "       measurements_lat  measurements_height  measurements_lon\n",
       "count      5.990000e+03          5990.000000      5.990000e+03\n",
       "mean       2.734205e+00           988.153415      3.595022e+01\n",
       "std        2.869056e-13             0.020116      1.547341e-07\n",
       "min        2.734205e+00           988.095000      3.595022e+01\n",
       "25%        2.734205e+00           988.139000      3.595022e+01\n",
       "50%        2.734205e+00           988.152000      3.595022e+01\n",
       "75%        2.734205e+00           988.167000      3.595022e+01\n",
       "max        2.734205e+00           988.226000      3.595022e+01"
      ]
     },
     "execution_count": 5,
     "metadata": {},
     "output_type": "execute_result"
    }
   ],
   "source": [
    "#Convert the dataset into a partially-flattened pandas DataFrame   \n",
    "tzDF =  pd.json_normalize(tzList[\"features\"][0][\"properties\"][\"data\"], sep='_')\n",
    "tz2DF =  pd.json_normalize(tzList[\"features\"][0][\"properties\"][\"data\"], sep='_')\n",
    "tzDF.describe()"
   ]
  },
  {
   "cell_type": "markdown",
   "metadata": {},
   "source": [
    "Function to convert timestamp coulmn of tzDF and tz2DF from timeseries to an integer for easy manipulation."
   ]
  },
  {
   "cell_type": "code",
   "execution_count": 6,
   "metadata": {},
   "outputs": [],
   "source": [
    "def timeconvertfunc(timestamp):\n",
    "  ts = pd.Timestamp(timestamp, tz=None).to_pydatetime()\n",
    "  ts = 3600*ts.hour + 60*ts.minute + ts.second\n",
    "\n",
    "  return ts\n",
    "\n",
    "tzDF[\"timeconvert\"] = tzDF[\"time\"].apply(timeconvertfunc)\n",
    "tz2DF[\"timeconvert\"] = tzDF[\"time\"].apply(timeconvertfunc)"
   ]
  },
  {
   "cell_type": "markdown",
   "metadata": {},
   "source": [
    "Visulization of basic stastics from measurements_height"
   ]
  },
  {
   "cell_type": "code",
   "execution_count": 7,
   "metadata": {},
   "outputs": [
    {
     "data": {
      "image/png": "[encoded data removed]",
      "text/plain": [
       "<Figure size 432x288 with 1 Axes>"
      ]
     },
     "metadata": {
      "needs_background": "light"
     },
     "output_type": "display_data"
    },
    {
     "name": "stdout",
     "output_type": "stream",
     "text": [
      "This is the b value [[0.83655979]]\n",
      "This is the m value [161.50298089]\n",
      "This is the R^2 0.7395011512205776\n"
     ]
    }
   ],
   "source": [
    "\n",
    "one_Through_Twenty = tzDF[\"measurements_height\"].loc[1:21].values.reshape(-1,1)\n",
    "two_Through_Twenty_One= tzDF[\"measurements_height\"].loc[2:22].values.reshape(-1,1)\n",
    "three_Through_Twenty_Two =tzDF[\"measurements_height\"].loc[3:23].values.reshape(-1,1)\n",
    "four_Through_Twenty_Four = tzDF[\"measurements_height\"].loc[4:24].values.reshape(-1,1)\n",
    "\n",
    "#Linear Regression model on columns 1-20 and 2-21\n",
    "\n",
    "lm = LinearRegression()\n",
    "lm.fit(one_Through_Twenty ,two_Through_Twenty_One)\n",
    "y_pred = lm.predict(one_Through_Twenty)\n",
    "plt.scatter(one_Through_Twenty,two_Through_Twenty_One)\n",
    "plt.plot(one_Through_Twenty,y_pred,color=\"red\")\n",
    "plt.show()\n",
    "\n",
    "print(\"This is the b value\",lm.coef_,)\n",
    "print(\"This is the m value\",lm.intercept_)\n",
    "print(\"This is the R^2\",lm.score(one_Through_Twenty,two_Through_Twenty_One))\n",
    "\n",
    "\n"
   ]
  },
  {
   "cell_type": "markdown",
   "metadata": {},
   "source": [
    "From the above model with using the first through twentith column and second through twenty second column we yeild a Coefficent of Correlation (R^2) value of about 0.73 which shows positive correlation between the two inputs. The code snippets below will plot the rest of the displays with the model inputs."
   ]
  },
  {
   "cell_type": "markdown",
   "metadata": {},
   "source": [
    "## two_through_Twenty_One and three_through_Twenty_Two"
   ]
  },
  {
   "cell_type": "code",
   "execution_count": 8,
   "metadata": {},
   "outputs": [
    {
     "data": {
      "image/png": "[encoded data removed]",
      "text/plain": [
       "<Figure size 432x288 with 1 Axes>"
      ]
     },
     "metadata": {
      "needs_background": "light"
     },
     "output_type": "display_data"
    },
    {
     "name": "stdout",
     "output_type": "stream",
     "text": [
      "This is the b value [[0.81020583]]\n",
      "This is the m value [187.5439221]\n",
      "This is the R^2 0.7256865812125708\n"
     ]
    }
   ],
   "source": [
    "lm1 = LinearRegression()\n",
    "lm1.fit(two_Through_Twenty_One ,three_Through_Twenty_Two)\n",
    "y_pred1 = lm1.predict(two_Through_Twenty_One)\n",
    "plt.scatter(two_Through_Twenty_One,three_Through_Twenty_Two)\n",
    "plt.plot(two_Through_Twenty_One,y_pred1,color=\"green\")\n",
    "plt.show()\n",
    "print(\"This is the b value\",lm1.coef_,)\n",
    "print(\"This is the m value\",lm1.intercept_)\n",
    "print(\"This is the R^2\",lm1.score(two_Through_Twenty_One,three_Through_Twenty_Two))"
   ]
  },
  {
   "cell_type": "markdown",
   "metadata": {},
   "source": [
    "From the above model with using the first through twentith column and second through twenty second column we yeild a Coefficent of Correlation (R^2) value of about 0.73 which shows positive correlation between the two inputs. The code snippets below will plot the rest of the displays with the model inputs."
   ]
  },
  {
   "cell_type": "markdown",
   "metadata": {},
   "source": [
    "# Multiple Linear Regression"
   ]
  },
  {
   "cell_type": "markdown",
   "metadata": {},
   "source": [
    "The following code chunk uses Multiple Linear Regression(MLR) specifically with rows of height measurmet one_Through_Twenty,two_Through_Twenty_One, and \n",
    "three_Through_Twenty_Two."
   ]
  },
  {
   "cell_type": "code",
   "execution_count": 11,
   "metadata": {},
   "outputs": [
    {
     "data": {
      "image/png": "[encoded data removed]",
      "text/plain": [
       "<Figure size 432x288 with 1 Axes>"
      ]
     },
     "metadata": {
      "needs_background": "light"
     },
     "output_type": "display_data"
    },
    {
     "name": "stdout",
     "output_type": "stream",
     "text": [
      "This is the b value [ 0.01941175  0.00288402 -0.01502782  0.01923043  0.0293583   0.01371064\n",
      "  0.01946735  0.01795902 -0.01988713 -0.01506736  0.00316758  0.03718794\n",
      "  0.00365534 -0.02615274 -0.03705783 -0.01022212  0.03107098  0.00797899\n",
      " -0.00674407 -0.00187173]\n",
      "This is the m value 915.9507871815277\n",
      "This is the R^2 1.0\n"
     ]
    },
    {
     "data": {
      "text/html": [
       "<div>\n",
       "<style scoped>\n",
       "    .dataframe tbody tr th:only-of-type {\n",
       "        vertical-align: middle;\n",
       "    }\n",
       "\n",
       "    .dataframe tbody tr th {\n",
       "        vertical-align: top;\n",
       "    }\n",
       "\n",
       "    .dataframe thead th {\n",
       "        text-align: right;\n",
       "    }\n",
       "</style>\n",
       "<table border=\"1\" class=\"dataframe\">\n",
       "  <thead>\n",
       "    <tr style=\"text-align: right;\">\n",
       "      <th></th>\n",
       "      <th>1</th>\n",
       "      <th>2</th>\n",
       "      <th>3</th>\n",
       "      <th>4</th>\n",
       "      <th>5</th>\n",
       "      <th>6</th>\n",
       "      <th>7</th>\n",
       "      <th>8</th>\n",
       "      <th>9</th>\n",
       "      <th>10</th>\n",
       "      <th>...</th>\n",
       "      <th>12</th>\n",
       "      <th>13</th>\n",
       "      <th>14</th>\n",
       "      <th>15</th>\n",
       "      <th>16</th>\n",
       "      <th>17</th>\n",
       "      <th>18</th>\n",
       "      <th>19</th>\n",
       "      <th>20</th>\n",
       "      <th>21</th>\n",
       "    </tr>\n",
       "  </thead>\n",
       "  <tbody>\n",
       "    <tr>\n",
       "      <th>measurements_height</th>\n",
       "      <td>988.206</td>\n",
       "      <td>988.214</td>\n",
       "      <td>988.226</td>\n",
       "      <td>988.199</td>\n",
       "      <td>988.220</td>\n",
       "      <td>988.212</td>\n",
       "      <td>988.202</td>\n",
       "      <td>988.167</td>\n",
       "      <td>988.167</td>\n",
       "      <td>988.126</td>\n",
       "      <td>...</td>\n",
       "      <td>988.132</td>\n",
       "      <td>988.151</td>\n",
       "      <td>988.135</td>\n",
       "      <td>988.108</td>\n",
       "      <td>988.114</td>\n",
       "      <td>988.129</td>\n",
       "      <td>988.169</td>\n",
       "      <td>988.162</td>\n",
       "      <td>988.147</td>\n",
       "      <td>988.143</td>\n",
       "    </tr>\n",
       "    <tr>\n",
       "      <th>measurements_height</th>\n",
       "      <td>988.214</td>\n",
       "      <td>988.226</td>\n",
       "      <td>988.199</td>\n",
       "      <td>988.220</td>\n",
       "      <td>988.212</td>\n",
       "      <td>988.202</td>\n",
       "      <td>988.167</td>\n",
       "      <td>988.167</td>\n",
       "      <td>988.126</td>\n",
       "      <td>988.129</td>\n",
       "      <td>...</td>\n",
       "      <td>988.151</td>\n",
       "      <td>988.135</td>\n",
       "      <td>988.108</td>\n",
       "      <td>988.114</td>\n",
       "      <td>988.129</td>\n",
       "      <td>988.169</td>\n",
       "      <td>988.162</td>\n",
       "      <td>988.147</td>\n",
       "      <td>988.143</td>\n",
       "      <td>988.146</td>\n",
       "    </tr>\n",
       "    <tr>\n",
       "      <th>measurements_height</th>\n",
       "      <td>988.226</td>\n",
       "      <td>988.199</td>\n",
       "      <td>988.220</td>\n",
       "      <td>988.212</td>\n",
       "      <td>988.202</td>\n",
       "      <td>988.167</td>\n",
       "      <td>988.167</td>\n",
       "      <td>988.126</td>\n",
       "      <td>988.129</td>\n",
       "      <td>988.132</td>\n",
       "      <td>...</td>\n",
       "      <td>988.135</td>\n",
       "      <td>988.108</td>\n",
       "      <td>988.114</td>\n",
       "      <td>988.129</td>\n",
       "      <td>988.169</td>\n",
       "      <td>988.162</td>\n",
       "      <td>988.147</td>\n",
       "      <td>988.143</td>\n",
       "      <td>988.146</td>\n",
       "      <td>988.142</td>\n",
       "    </tr>\n",
       "    <tr>\n",
       "      <th>measurements_height</th>\n",
       "      <td>988.199</td>\n",
       "      <td>988.220</td>\n",
       "      <td>988.212</td>\n",
       "      <td>988.202</td>\n",
       "      <td>988.167</td>\n",
       "      <td>988.167</td>\n",
       "      <td>988.126</td>\n",
       "      <td>988.129</td>\n",
       "      <td>988.132</td>\n",
       "      <td>988.151</td>\n",
       "      <td>...</td>\n",
       "      <td>988.108</td>\n",
       "      <td>988.114</td>\n",
       "      <td>988.129</td>\n",
       "      <td>988.169</td>\n",
       "      <td>988.162</td>\n",
       "      <td>988.147</td>\n",
       "      <td>988.143</td>\n",
       "      <td>988.146</td>\n",
       "      <td>988.142</td>\n",
       "      <td>988.136</td>\n",
       "    </tr>\n",
       "  </tbody>\n",
       "</table>\n",
       "<p>4 rows × 21 columns</p>\n",
       "</div>"
      ],
      "text/plain": [
       "                          1        2        3        4        5        6   \\\n",
       "measurements_height  988.206  988.214  988.226  988.199  988.220  988.212   \n",
       "measurements_height  988.214  988.226  988.199  988.220  988.212  988.202   \n",
       "measurements_height  988.226  988.199  988.220  988.212  988.202  988.167   \n",
       "measurements_height  988.199  988.220  988.212  988.202  988.167  988.167   \n",
       "\n",
       "                          7        8        9        10  ...       12  \\\n",
       "measurements_height  988.202  988.167  988.167  988.126  ...  988.132   \n",
       "measurements_height  988.167  988.167  988.126  988.129  ...  988.151   \n",
       "measurements_height  988.167  988.126  988.129  988.132  ...  988.135   \n",
       "measurements_height  988.126  988.129  988.132  988.151  ...  988.108   \n",
       "\n",
       "                          13       14       15       16       17       18  \\\n",
       "measurements_height  988.151  988.135  988.108  988.114  988.129  988.169   \n",
       "measurements_height  988.135  988.108  988.114  988.129  988.169  988.162   \n",
       "measurements_height  988.108  988.114  988.129  988.169  988.162  988.147   \n",
       "measurements_height  988.114  988.129  988.169  988.162  988.147  988.143   \n",
       "\n",
       "                          19       20       21  \n",
       "measurements_height  988.162  988.147  988.143  \n",
       "measurements_height  988.147  988.143  988.146  \n",
       "measurements_height  988.143  988.146  988.142  \n",
       "measurements_height  988.146  988.142  988.136  \n",
       "\n",
       "[4 rows x 21 columns]"
      ]
     },
     "execution_count": 11,
     "metadata": {},
     "output_type": "execute_result"
    }
   ],
   "source": [
    "one_Through_Twenty = tzDF[\"measurements_height\"].loc[1:21]\n",
    "two_Through_Twenty_One= tzDF[\"measurements_height\"].loc[2:22]\n",
    "three_Through_Twenty_Two =tzDF[\"measurements_height\"].loc[3:23]\n",
    "four_Through_Twenty_Four = tzDF[\"measurements_height\"].loc[4:24]\n",
    "\n",
    "#Column partions\n",
    "one_Through_Twenty.rename({\"measurements_height\":\"w\"},axis =1,inplace=True)\n",
    "two_Through_Twenty_One.rename({\"measurements_height\":\"x\"},axis =1,inplace=True)\n",
    "three_Through_Twenty_Two.rename({\"measurements_height\":\"y\"},axis =1,inplace=True)\n",
    "four_Through_Twenty_Four.rename({\"measurements_height\":\"z\"},axis =1,inplace=True)\n",
    "\n",
    "#Concating the columns to combine to one dataframe\n",
    "result_DF = pd.concat([one_Through_Twenty,two_Through_Twenty_One,three_Through_Twenty_Two,four_Through_Twenty_Four],axis=1)\n",
    "\n",
    "\n",
    "#Fixing the new dataframe created\n",
    "result_DF.iloc[:,1] = result.iloc[:,1].shift(-1)\n",
    "result_DF.iloc[:,2] = result.iloc[:,2].shift(-2)\n",
    "result_DF.iloc[:,3] = result.iloc[:,3].shift(-3)\n",
    "result_DF = result.dropna()\n",
    "result_DF = result.transpose()\n",
    "result_DF\n",
    "\n",
    "lm = LinearRegression()\n",
    "x = result_DF.iloc[:,0:20]\n",
    "y = result_DF.iloc[:,20]\n",
    "lm.fit(x,y)\n",
    "y_pred1 = lm.predict(x)\n",
    "plt.scatter(y,y_pred1)\n",
    "plt.show()\n",
    "print(\"This is the b value\",lm.coef_,)\n",
    "print(\"This is the m value\",lm.intercept_)\n",
    "print(\"This is the R^2\",lm.score(x,y)) \n",
    "result"
   ]
  },
  {
   "cell_type": "markdown",
   "metadata": {},
   "source": [
    "## Prediction of one point"
   ]
  },
  {
   "cell_type": "code",
   "execution_count": 16,
   "metadata": {},
   "outputs": [
    {
     "name": "stdout",
     "output_type": "stream",
     "text": [
      "Error of model is [-0.01270647]\n"
     ]
    },
    {
     "data": {
      "image/png": "[encoded data removed]",
      "text/plain": [
       "<Figure size 432x288 with 1 Axes>"
      ]
     },
     "metadata": {
      "needs_background": "light"
     },
     "output_type": "display_data"
    }
   ],
   "source": [
    "#Training the first through third rows and all columns\n",
    "train_x = x.iloc[0:3,:]\n",
    "train_y = y.iloc[0:3]\n",
    "\n",
    "test_x = x.iloc[3,:]\n",
    "test_y = y.iloc[3]\n",
    "test_x = test_x.values.reshape(1,-1)\n",
    "lm.fit(train_x,train_y)\n",
    "y_pred2 = lm.predict(test_x)\n",
    "plt.scatter(test_y,y_pred2)\n",
    "\n",
    "print(\"Error of model is\",test_y-y_pred2)"
   ]
  },
  {
   "cell_type": "markdown",
   "metadata": {},
   "source": [
    "Analyze"
   ]
  },
  {
   "cell_type": "markdown",
   "metadata": {},
   "source": [
    "Method that takes in a dataframe and makes thousand rows for increased sample size"
   ]
  },
  {
   "cell_type": "code",
   "execution_count": 18,
   "metadata": {},
   "outputs": [
    {
     "data": {
      "text/html": [
       "<div>\n",
       "<style scoped>\n",
       "    .dataframe tbody tr th:only-of-type {\n",
       "        vertical-align: middle;\n",
       "    }\n",
       "\n",
       "    .dataframe tbody tr th {\n",
       "        vertical-align: top;\n",
       "    }\n",
       "\n",
       "    .dataframe thead th {\n",
       "        text-align: right;\n",
       "    }\n",
       "</style>\n",
       "<table border=\"1\" class=\"dataframe\">\n",
       "  <thead>\n",
       "    <tr style=\"text-align: right;\">\n",
       "      <th></th>\n",
       "      <th>history_1</th>\n",
       "      <th>history_2</th>\n",
       "      <th>history_3</th>\n",
       "      <th>history_4</th>\n",
       "      <th>history_5</th>\n",
       "      <th>history_6</th>\n",
       "      <th>history_7</th>\n",
       "      <th>history_8</th>\n",
       "      <th>history_9</th>\n",
       "      <th>history_10</th>\n",
       "      <th>history_11</th>\n",
       "      <th>history_12</th>\n",
       "      <th>history_13</th>\n",
       "      <th>history_14</th>\n",
       "      <th>history_15</th>\n",
       "      <th>history_16</th>\n",
       "      <th>history_17</th>\n",
       "      <th>history_18</th>\n",
       "      <th>history_19</th>\n",
       "      <th>history_20</th>\n",
       "    </tr>\n",
       "  </thead>\n",
       "  <tbody>\n",
       "    <tr>\n",
       "      <th>0</th>\n",
       "      <td>988.206</td>\n",
       "      <td>988.214</td>\n",
       "      <td>988.226</td>\n",
       "      <td>988.199</td>\n",
       "      <td>988.220</td>\n",
       "      <td>988.212</td>\n",
       "      <td>988.202</td>\n",
       "      <td>988.167</td>\n",
       "      <td>988.167</td>\n",
       "      <td>988.126</td>\n",
       "      <td>988.129</td>\n",
       "      <td>988.132</td>\n",
       "      <td>988.151</td>\n",
       "      <td>988.135</td>\n",
       "      <td>988.108</td>\n",
       "      <td>988.114</td>\n",
       "      <td>988.129</td>\n",
       "      <td>988.169</td>\n",
       "      <td>988.162</td>\n",
       "      <td>988.147</td>\n",
       "    </tr>\n",
       "    <tr>\n",
       "      <th>1</th>\n",
       "      <td>988.214</td>\n",
       "      <td>988.226</td>\n",
       "      <td>988.199</td>\n",
       "      <td>988.220</td>\n",
       "      <td>988.212</td>\n",
       "      <td>988.202</td>\n",
       "      <td>988.167</td>\n",
       "      <td>988.167</td>\n",
       "      <td>988.126</td>\n",
       "      <td>988.129</td>\n",
       "      <td>988.132</td>\n",
       "      <td>988.151</td>\n",
       "      <td>988.135</td>\n",
       "      <td>988.108</td>\n",
       "      <td>988.114</td>\n",
       "      <td>988.129</td>\n",
       "      <td>988.169</td>\n",
       "      <td>988.162</td>\n",
       "      <td>988.147</td>\n",
       "      <td>988.143</td>\n",
       "    </tr>\n",
       "    <tr>\n",
       "      <th>2</th>\n",
       "      <td>988.226</td>\n",
       "      <td>988.199</td>\n",
       "      <td>988.220</td>\n",
       "      <td>988.212</td>\n",
       "      <td>988.202</td>\n",
       "      <td>988.167</td>\n",
       "      <td>988.167</td>\n",
       "      <td>988.126</td>\n",
       "      <td>988.129</td>\n",
       "      <td>988.132</td>\n",
       "      <td>988.151</td>\n",
       "      <td>988.135</td>\n",
       "      <td>988.108</td>\n",
       "      <td>988.114</td>\n",
       "      <td>988.129</td>\n",
       "      <td>988.169</td>\n",
       "      <td>988.162</td>\n",
       "      <td>988.147</td>\n",
       "      <td>988.143</td>\n",
       "      <td>988.146</td>\n",
       "    </tr>\n",
       "    <tr>\n",
       "      <th>3</th>\n",
       "      <td>988.199</td>\n",
       "      <td>988.220</td>\n",
       "      <td>988.212</td>\n",
       "      <td>988.202</td>\n",
       "      <td>988.167</td>\n",
       "      <td>988.167</td>\n",
       "      <td>988.126</td>\n",
       "      <td>988.129</td>\n",
       "      <td>988.132</td>\n",
       "      <td>988.151</td>\n",
       "      <td>988.135</td>\n",
       "      <td>988.108</td>\n",
       "      <td>988.114</td>\n",
       "      <td>988.129</td>\n",
       "      <td>988.169</td>\n",
       "      <td>988.162</td>\n",
       "      <td>988.147</td>\n",
       "      <td>988.143</td>\n",
       "      <td>988.146</td>\n",
       "      <td>988.142</td>\n",
       "    </tr>\n",
       "    <tr>\n",
       "      <th>4</th>\n",
       "      <td>988.220</td>\n",
       "      <td>988.212</td>\n",
       "      <td>988.202</td>\n",
       "      <td>988.167</td>\n",
       "      <td>988.167</td>\n",
       "      <td>988.126</td>\n",
       "      <td>988.129</td>\n",
       "      <td>988.132</td>\n",
       "      <td>988.151</td>\n",
       "      <td>988.135</td>\n",
       "      <td>988.108</td>\n",
       "      <td>988.114</td>\n",
       "      <td>988.129</td>\n",
       "      <td>988.169</td>\n",
       "      <td>988.162</td>\n",
       "      <td>988.147</td>\n",
       "      <td>988.143</td>\n",
       "      <td>988.146</td>\n",
       "      <td>988.142</td>\n",
       "      <td>988.136</td>\n",
       "    </tr>\n",
       "    <tr>\n",
       "      <th>...</th>\n",
       "      <td>...</td>\n",
       "      <td>...</td>\n",
       "      <td>...</td>\n",
       "      <td>...</td>\n",
       "      <td>...</td>\n",
       "      <td>...</td>\n",
       "      <td>...</td>\n",
       "      <td>...</td>\n",
       "      <td>...</td>\n",
       "      <td>...</td>\n",
       "      <td>...</td>\n",
       "      <td>...</td>\n",
       "      <td>...</td>\n",
       "      <td>...</td>\n",
       "      <td>...</td>\n",
       "      <td>...</td>\n",
       "      <td>...</td>\n",
       "      <td>...</td>\n",
       "      <td>...</td>\n",
       "      <td>...</td>\n",
       "    </tr>\n",
       "    <tr>\n",
       "      <th>995</th>\n",
       "      <td>988.100</td>\n",
       "      <td>988.106</td>\n",
       "      <td>988.131</td>\n",
       "      <td>988.121</td>\n",
       "      <td>988.129</td>\n",
       "      <td>988.129</td>\n",
       "      <td>988.146</td>\n",
       "      <td>988.148</td>\n",
       "      <td>988.131</td>\n",
       "      <td>988.130</td>\n",
       "      <td>988.145</td>\n",
       "      <td>988.112</td>\n",
       "      <td>988.127</td>\n",
       "      <td>988.140</td>\n",
       "      <td>988.114</td>\n",
       "      <td>988.122</td>\n",
       "      <td>988.151</td>\n",
       "      <td>988.164</td>\n",
       "      <td>988.140</td>\n",
       "      <td>988.143</td>\n",
       "    </tr>\n",
       "    <tr>\n",
       "      <th>996</th>\n",
       "      <td>988.106</td>\n",
       "      <td>988.131</td>\n",
       "      <td>988.121</td>\n",
       "      <td>988.129</td>\n",
       "      <td>988.129</td>\n",
       "      <td>988.146</td>\n",
       "      <td>988.148</td>\n",
       "      <td>988.131</td>\n",
       "      <td>988.130</td>\n",
       "      <td>988.145</td>\n",
       "      <td>988.112</td>\n",
       "      <td>988.127</td>\n",
       "      <td>988.140</td>\n",
       "      <td>988.114</td>\n",
       "      <td>988.122</td>\n",
       "      <td>988.151</td>\n",
       "      <td>988.164</td>\n",
       "      <td>988.140</td>\n",
       "      <td>988.143</td>\n",
       "      <td>988.146</td>\n",
       "    </tr>\n",
       "    <tr>\n",
       "      <th>997</th>\n",
       "      <td>988.131</td>\n",
       "      <td>988.121</td>\n",
       "      <td>988.129</td>\n",
       "      <td>988.129</td>\n",
       "      <td>988.146</td>\n",
       "      <td>988.148</td>\n",
       "      <td>988.131</td>\n",
       "      <td>988.130</td>\n",
       "      <td>988.145</td>\n",
       "      <td>988.112</td>\n",
       "      <td>988.127</td>\n",
       "      <td>988.140</td>\n",
       "      <td>988.114</td>\n",
       "      <td>988.122</td>\n",
       "      <td>988.151</td>\n",
       "      <td>988.164</td>\n",
       "      <td>988.140</td>\n",
       "      <td>988.143</td>\n",
       "      <td>988.146</td>\n",
       "      <td>988.132</td>\n",
       "    </tr>\n",
       "    <tr>\n",
       "      <th>998</th>\n",
       "      <td>988.121</td>\n",
       "      <td>988.129</td>\n",
       "      <td>988.129</td>\n",
       "      <td>988.146</td>\n",
       "      <td>988.148</td>\n",
       "      <td>988.131</td>\n",
       "      <td>988.130</td>\n",
       "      <td>988.145</td>\n",
       "      <td>988.112</td>\n",
       "      <td>988.127</td>\n",
       "      <td>988.140</td>\n",
       "      <td>988.114</td>\n",
       "      <td>988.122</td>\n",
       "      <td>988.151</td>\n",
       "      <td>988.164</td>\n",
       "      <td>988.140</td>\n",
       "      <td>988.143</td>\n",
       "      <td>988.146</td>\n",
       "      <td>988.132</td>\n",
       "      <td>988.133</td>\n",
       "    </tr>\n",
       "    <tr>\n",
       "      <th>999</th>\n",
       "      <td>988.129</td>\n",
       "      <td>988.129</td>\n",
       "      <td>988.146</td>\n",
       "      <td>988.148</td>\n",
       "      <td>988.131</td>\n",
       "      <td>988.130</td>\n",
       "      <td>988.145</td>\n",
       "      <td>988.112</td>\n",
       "      <td>988.127</td>\n",
       "      <td>988.140</td>\n",
       "      <td>988.114</td>\n",
       "      <td>988.122</td>\n",
       "      <td>988.151</td>\n",
       "      <td>988.164</td>\n",
       "      <td>988.140</td>\n",
       "      <td>988.143</td>\n",
       "      <td>988.146</td>\n",
       "      <td>988.132</td>\n",
       "      <td>988.133</td>\n",
       "      <td>988.117</td>\n",
       "    </tr>\n",
       "  </tbody>\n",
       "</table>\n",
       "<p>2000 rows × 20 columns</p>\n",
       "</div>"
      ],
      "text/plain": [
       "     history_1  history_2  history_3  history_4  history_5  history_6  \\\n",
       "0      988.206    988.214    988.226    988.199    988.220    988.212   \n",
       "1      988.214    988.226    988.199    988.220    988.212    988.202   \n",
       "2      988.226    988.199    988.220    988.212    988.202    988.167   \n",
       "3      988.199    988.220    988.212    988.202    988.167    988.167   \n",
       "4      988.220    988.212    988.202    988.167    988.167    988.126   \n",
       "..         ...        ...        ...        ...        ...        ...   \n",
       "995    988.100    988.106    988.131    988.121    988.129    988.129   \n",
       "996    988.106    988.131    988.121    988.129    988.129    988.146   \n",
       "997    988.131    988.121    988.129    988.129    988.146    988.148   \n",
       "998    988.121    988.129    988.129    988.146    988.148    988.131   \n",
       "999    988.129    988.129    988.146    988.148    988.131    988.130   \n",
       "\n",
       "     history_7  history_8  history_9  history_10  history_11  history_12  \\\n",
       "0      988.202    988.167    988.167     988.126     988.129     988.132   \n",
       "1      988.167    988.167    988.126     988.129     988.132     988.151   \n",
       "2      988.167    988.126    988.129     988.132     988.151     988.135   \n",
       "3      988.126    988.129    988.132     988.151     988.135     988.108   \n",
       "4      988.129    988.132    988.151     988.135     988.108     988.114   \n",
       "..         ...        ...        ...         ...         ...         ...   \n",
       "995    988.146    988.148    988.131     988.130     988.145     988.112   \n",
       "996    988.148    988.131    988.130     988.145     988.112     988.127   \n",
       "997    988.131    988.130    988.145     988.112     988.127     988.140   \n",
       "998    988.130    988.145    988.112     988.127     988.140     988.114   \n",
       "999    988.145    988.112    988.127     988.140     988.114     988.122   \n",
       "\n",
       "     history_13  history_14  history_15  history_16  history_17  history_18  \\\n",
       "0       988.151     988.135     988.108     988.114     988.129     988.169   \n",
       "1       988.135     988.108     988.114     988.129     988.169     988.162   \n",
       "2       988.108     988.114     988.129     988.169     988.162     988.147   \n",
       "3       988.114     988.129     988.169     988.162     988.147     988.143   \n",
       "4       988.129     988.169     988.162     988.147     988.143     988.146   \n",
       "..          ...         ...         ...         ...         ...         ...   \n",
       "995     988.127     988.140     988.114     988.122     988.151     988.164   \n",
       "996     988.140     988.114     988.122     988.151     988.164     988.140   \n",
       "997     988.114     988.122     988.151     988.164     988.140     988.143   \n",
       "998     988.122     988.151     988.164     988.140     988.143     988.146   \n",
       "999     988.151     988.164     988.140     988.143     988.146     988.132   \n",
       "\n",
       "     history_19  history_20  \n",
       "0       988.162     988.147  \n",
       "1       988.147     988.143  \n",
       "2       988.143     988.146  \n",
       "3       988.146     988.142  \n",
       "4       988.142     988.136  \n",
       "..          ...         ...  \n",
       "995     988.140     988.143  \n",
       "996     988.143     988.146  \n",
       "997     988.146     988.132  \n",
       "998     988.132     988.133  \n",
       "999     988.133     988.117  \n",
       "\n",
       "[2000 rows x 20 columns]"
      ]
     },
     "execution_count": 18,
     "metadata": {},
     "output_type": "execute_result"
    }
   ],
   "source": [
    "empty_list = []\n",
    "def make_list(DataFrame):\n",
    "    i = 0\n",
    "    for i in range(1000):  \n",
    "        change = tzDF[\"measurements_height\"].iloc[i+1:i+21].to_frame().transpose()\n",
    "\n",
    "        change.columns = [\"history_1\",\"history_2\",\"history_3\",\"history_4\",\"history_5\",\n",
    "                          \"history_6\",\"history_7\",\"history_8\",\"history_9\",\"history_10\",\n",
    "                          \"history_11\",\"history_12\",\"history_13\",\"history_14\",\"history_15\",\n",
    "                          \"history_16\",\"history_17\",\"history_18\",\"history_19\",\"history_20\"]\n",
    "        change.index = [i]\n",
    "        empty_list.append(change)\n",
    "    return empty_list\n",
    "tzDF_list = make_list(tzDF[\"measurements_height\"])\n",
    "tzDF_two_list = make_list(tz2DF[\"measurements_height\"])\n",
    "\n",
    "#List iteration to combine all elements in list\n",
    "finalDF = pd.concat([m for m in tzDF_list])\n",
    "finalDF_two =  pd.concat([m for m in tzDF_two_list])\n",
    "finalDF_two\n",
    "        "
   ]
  },
  {
   "cell_type": "markdown",
   "metadata": {},
   "source": [
    "# 35% Test Data demensration"
   ]
  },
  {
   "cell_type": "code",
   "execution_count": null,
   "metadata": {},
   "outputs": [],
   "source": [
    "\n",
    "w = finalDF.iloc[:,0:19]\n",
    "z = finalDF.iloc[:,19]\n",
    "\n",
    "lm.fit(w,z)\n",
    "y_pred1 = lm.predict(w)\n",
    "plt.scatter(z,y_pred1)\n",
    "# x axis is actual height and y is what lm model is predicting in scatter \n",
    "X_train, X_test, y_train, y_test = train_test_split(w, z, test_size=0.35,random_state=50)\n",
    "\n",
    "lm = LinearRegression()\n",
    "\n",
    "model = lm.fit(X_train,y_train)\n",
    "prediction = lm.predict(X_test)\n",
    "print(y_test-prediction)\n",
    "print(np.corrcoef(y_test,prediction))\n"
   ]
  },
  {
   "cell_type": "code",
   "execution_count": null,
   "metadata": {},
   "outputs": [],
   "source": []
  },
  {
   "cell_type": "markdown",
   "metadata": {},
   "source": [
    "# 55% Test Data demenstration"
   ]
  },
  {
   "cell_type": "code",
   "execution_count": 19,
   "metadata": {},
   "outputs": [
    {
     "name": "stdout",
     "output_type": "stream",
     "text": [
      "565   -0.006137\n",
      "223    0.003267\n",
      "581   -0.007901\n",
      "959   -0.002990\n",
      "974    0.003694\n",
      "         ...   \n",
      "876    0.003388\n",
      "554   -0.006918\n",
      "720   -0.007705\n",
      "473    0.007467\n",
      "826   -0.000659\n",
      "Name: history_20, Length: 1100, dtype: float64\n",
      "[[1.         0.83930277]\n",
      " [0.83930277 1.        ]]\n"
     ]
    },
    {
     "data": {
      "image/png": "[encoded data removed]",
      "text/plain": [
       "<Figure size 432x288 with 1 Axes>"
      ]
     },
     "metadata": {
      "needs_background": "light"
     },
     "output_type": "display_data"
    }
   ],
   "source": [
    "h = finalDF.iloc[:,0:19]\n",
    "i = finalDF.iloc[:,19]\n",
    "\n",
    "lm.fit(h,i)\n",
    "y_pred1 = lm.predict(h)\n",
    "plt.scatter(i,y_pred1)\n",
    "\n",
    "X_train, X_test, y_train, y_test = train_test_split(h, i, test_size=0.55,random_state=50)\n",
    "\n",
    "lm = LinearRegression()\n",
    "\n",
    "model = lm.fit(X_train,y_train)\n",
    "prediction = lm.predict(X_test)\n",
    "print(y_test-prediction)\n",
    "print(np.corrcoef(y_test,prediction))"
   ]
  },
  {
   "cell_type": "markdown",
   "metadata": {},
   "source": [
    "# 75% Test Data demenstration"
   ]
  },
  {
   "cell_type": "code",
   "execution_count": 20,
   "metadata": {},
   "outputs": [
    {
     "name": "stdout",
     "output_type": "stream",
     "text": [
      "565   -0.007793\n",
      "223    0.004301\n",
      "581   -0.006390\n",
      "959   -0.001682\n",
      "974    0.003250\n",
      "         ...   \n",
      "797   -0.013820\n",
      "607    0.007500\n",
      "315   -0.004192\n",
      "513   -0.000566\n",
      "934    0.013100\n",
      "Name: history_20, Length: 1500, dtype: float64\n",
      "[[1.         0.83262424]\n",
      " [0.83262424 1.        ]]\n"
     ]
    },
    {
     "data": {
      "image/png": "[encoded data removed]",
      "text/plain": [
       "<Figure size 432x288 with 1 Axes>"
      ]
     },
     "metadata": {
      "needs_background": "light"
     },
     "output_type": "display_data"
    }
   ],
   "source": [
    "\n",
    "from sklearn.model_selection import train_test_split\n",
    "#\n",
    "m = finalDF.iloc[:,0:19]\n",
    "n = finalDF.iloc[:,19]\n",
    "\n",
    "lm.fit(m,n)\n",
    "y_pred1 = lm.predict(m)\n",
    "plt.scatter(n,y_pred1)\n",
    "\n",
    "X_train, X_test, y_train, y_test = train_test_split(m, n, test_size=0.75,random_state=50)\n",
    "\n",
    "lm = LinearRegression()\n",
    "\n",
    "model = lm.fit(X_train,y_train)\n",
    "prediction = lm.predict(X_test)\n",
    "print(y_test-prediction)\n",
    "print(np.corrcoef(y_test,prediction))\n",
    "\n",
    "\n"
   ]
  },
  {
   "cell_type": "markdown",
   "metadata": {},
   "source": [
    "# Prediction from 20%"
   ]
  },
  {
   "cell_type": "code",
   "execution_count": null,
   "metadata": {},
   "outputs": [],
   "source": [
    "\n",
    "from sklearn.model_selection import train_test_split\n",
    "# o & p correspond to the 17th\n",
    "m = finalDF.iloc[:,0:19]\n",
    "n = finalDF.iloc[:,19]\n",
    "l = finalDF_two.iloc[:,0:19]\n",
    "z = finalDF_two.iloc[:,19]\n",
    "\n",
    "lm.fit(m,n)\n",
    "y_pred1 = lm.predict(m)\n",
    "#plt.scatter(n,y_pred1)\n",
    "\n",
    "X_train, X_test, y_train, y_test = train_test_split(m, n, test_size=0.20,random_state=50)\n",
    "model = lm.fit(X_train,y_train)\n",
    "model.intercept_\n",
    "model.coef_\n",
    "\n",
    "\n",
    "#ht = model.intercept_ + model.coef_ * \n",
    "#ht\n",
    "#model.predict(l)[0]\n",
    "\n",
    "model.predict(l)[0] - z\n",
    "\n",
    " \n",
    "\n",
    "x = model.predict(l)\n",
    "#plt.scatter(x,z,color=\"black\")\n",
    "#Distrubution of Errors pred vs actual\n",
    "plt.hist(x-z,bins = 50)\n",
    "plt.xlabel(\"meters\")\n",
    "plt.ylabel(\"distrubution\")\n",
    "plt.show()\n",
    "print(model.predict(l)[0] - z)\n",
    "\n",
    "\n",
    "\n"
   ]
  },
  {
   "cell_type": "markdown",
   "metadata": {},
   "source": [
    "# Prediction from 30%"
   ]
  },
  {
   "cell_type": "code",
   "execution_count": null,
   "metadata": {},
   "outputs": [],
   "source": [
    "X_train, X_test, y_train, y_test = train_test_split(m, n, test_size=0.30,random_state=50)\n",
    "third_pred_x = finalDF_two.iloc[:,0:19]\n",
    "third_pred_y = finalDF_two.iloc[:,19]\n",
    "model = lm.fit(X_train,y_train)\n",
    "model.intercept_\n",
    "model.coef_\n",
    "model = lm.fit(X_train,y_train)\n",
    "model.intercept_\n",
    "model.coef_\n",
    "\n",
    "\n",
    "model.predict(third_pred_x)\n",
    "model.predict(third_pred_x) - tz2DF[\"measurements_height\"][0]\n",
    "model.predict(third_pred_x)[0] - third_pred_y\n",
    "\n",
    "x = model.predict(third_pred_x)\n",
    "#plt.scatter(x,z,color=\"black\")\n",
    "#Distrubution of Errors pred vs actual\n",
    "plt.hist(x-third_pred_y,bins = 50)\n",
    "plt.show()\n",
    "\n"
   ]
  },
  {
   "cell_type": "markdown",
   "metadata": {},
   "source": [
    "# Prediction from 40%"
   ]
  },
  {
   "cell_type": "code",
   "execution_count": 21,
   "metadata": {},
   "outputs": [
    {
     "ename": "NameError",
     "evalue": "name 'z' is not defined",
     "output_type": "error",
     "traceback": [
      "\u001b[0;31m---------------------------------------------------------------------------\u001b[0m",
      "\u001b[0;31mNameError\u001b[0m                                 Traceback (most recent call last)",
      "\u001b[0;32m<ipython-input-21-4c4986bd4468>\u001b[0m in \u001b[0;36m<module>\u001b[0;34m\u001b[0m\n\u001b[1;32m     14\u001b[0m \u001b[0;31m#model.predict(fourth_pred_x)[0] -\u001b[0m\u001b[0;34m\u001b[0m\u001b[0;34m\u001b[0m\u001b[0;34m\u001b[0m\u001b[0m\n\u001b[1;32m     15\u001b[0m \u001b[0mx\u001b[0m \u001b[0;34m=\u001b[0m \u001b[0mmodel\u001b[0m\u001b[0;34m.\u001b[0m\u001b[0mpredict\u001b[0m\u001b[0;34m(\u001b[0m\u001b[0mfourth_pred_x\u001b[0m\u001b[0;34m)\u001b[0m\u001b[0;34m\u001b[0m\u001b[0;34m\u001b[0m\u001b[0m\n\u001b[0;32m---> 16\u001b[0;31m \u001b[0mplt\u001b[0m\u001b[0;34m.\u001b[0m\u001b[0mscatter\u001b[0m\u001b[0;34m(\u001b[0m\u001b[0mx\u001b[0m\u001b[0;34m,\u001b[0m\u001b[0mz\u001b[0m\u001b[0;34m,\u001b[0m\u001b[0mcolor\u001b[0m\u001b[0;34m=\u001b[0m\u001b[0;34m\"black\"\u001b[0m\u001b[0;34m)\u001b[0m\u001b[0;34m\u001b[0m\u001b[0;34m\u001b[0m\u001b[0m\n\u001b[0m\u001b[1;32m     17\u001b[0m \u001b[0;31m#Distrubution of Errors pred vs actual\u001b[0m\u001b[0;34m\u001b[0m\u001b[0;34m\u001b[0m\u001b[0;34m\u001b[0m\u001b[0m\n\u001b[1;32m     18\u001b[0m \u001b[0;31m#plt.hist(x-fourth_pred_y,bins = 50)\u001b[0m\u001b[0;34m\u001b[0m\u001b[0;34m\u001b[0m\u001b[0;34m\u001b[0m\u001b[0m\n",
      "\u001b[0;31mNameError\u001b[0m: name 'z' is not defined"
     ]
    }
   ],
   "source": [
    "X_train, X_test, y_train, y_test = train_test_split(m, n, test_size=0.40,random_state=50)\n",
    "fourth_pred_x = finalDF_two.iloc[:,0:19]\n",
    "fourth_pred_y = finalDF_two.iloc[:,19]\n",
    "model = lm.fit(X_train,y_train)\n",
    "model.intercept_\n",
    "model.coef_\n",
    "model = lm.fit(X_train,y_train)\n",
    "model.intercept_\n",
    "model.coef_\n",
    "\n",
    "\n",
    "model.predict(fourth_pred_x)\n",
    "\n",
    "#model.predict(fourth_pred_x)[0] - \n",
    "x = model.predict(fourth_pred_x)\n",
    "plt.scatter(x,z,color=\"black\")\n",
    "#Distrubution of Errors pred vs actual\n",
    "#plt.hist(x-fourth_pred_y,bins = 50)\n",
    "plt.show()\n"
   ]
  },
  {
   "cell_type": "markdown",
   "metadata": {},
   "source": [
    "# Prediction from 50%"
   ]
  },
  {
   "cell_type": "code",
   "execution_count": 22,
   "metadata": {},
   "outputs": [
    {
     "data": {
      "image/png": "[encoded data removed]",
      "text/plain": [
       "<Figure size 432x288 with 1 Axes>"
      ]
     },
     "metadata": {
      "needs_background": "light"
     },
     "output_type": "display_data"
    }
   ],
   "source": [
    "X_train, X_test, y_train, y_test = train_test_split(m, n, test_size=0.50,random_state=50)\n",
    "fifth_pred_x = finalDF_two.iloc[:,0:19]\n",
    "fifth_pred_y = finalDF_two.iloc[:,19]\n",
    "model = lm.fit(X_train,y_train)\n",
    "model.intercept_\n",
    "model.coef_\n",
    "model = lm.fit(X_train,y_train)\n",
    "model.intercept_\n",
    "model.coef_\n",
    "\n",
    "\n",
    "model.predict(fifth_pred_x)\n",
    "#model.predict(fifth_pred_x)[0] - tz2DF[\"measurements_height\"][0]\n",
    "\n",
    "x = model.predict(fifth_pred_x)\n",
    "plt.scatter(x,fifth_pred_y,color=\"black\")\n",
    "#Distrubution of Errors pred vs actual\n",
    "#plt.hist(x-fifth_pred_y,bins = 50)\n",
    "plt.show()\n"
   ]
  },
  {
   "cell_type": "markdown",
   "metadata": {},
   "source": [
    "# Prediction from 60%"
   ]
  },
  {
   "cell_type": "code",
   "execution_count": 23,
   "metadata": {},
   "outputs": [
    {
     "data": {
      "image/png": "[encoded data removed]",
      "text/plain": [
       "<Figure size 432x288 with 1 Axes>"
      ]
     },
     "metadata": {
      "needs_background": "light"
     },
     "output_type": "display_data"
    }
   ],
   "source": [
    "X_train, X_test, y_train, y_test = train_test_split(m, n, test_size=0.60,random_state=50)\n",
    "sixth_pred_x = finalDF_two.iloc[:,0:19]\n",
    "sixth_pred_y = finalDF_two.iloc[:,19]\n",
    "model = lm.fit(X_train,y_train)\n",
    "model.intercept_\n",
    "model.coef_\n",
    "model = lm.fit(X_train,y_train)\n",
    "model.intercept_\n",
    "model.coef_\n",
    "\n",
    "\n",
    "model.predict(sixth_pred_x)\n",
    "model.predict(sixth_pred_x)[0] - tz2DF[\"measurements_height\"][0]\n",
    "\n",
    "x = model.predict(sixth_pred_x)\n",
    "#plt.scatter(x,z,color=\"black\")\n",
    "#Distrubution of Errors pred vs actual\n",
    "plt.hist(x-sixth_pred_y,bins = 50)\n",
    "plt.show()\n",
    "\n"
   ]
  },
  {
   "cell_type": "markdown",
   "metadata": {},
   "source": [
    "# Prediciton from 70%"
   ]
  },
  {
   "cell_type": "code",
   "execution_count": 24,
   "metadata": {},
   "outputs": [
    {
     "data": {
      "image/png": "[encoded data removed]",
      "text/plain": [
       "<Figure size 432x288 with 1 Axes>"
      ]
     },
     "metadata": {
      "needs_background": "light"
     },
     "output_type": "display_data"
    }
   ],
   "source": [
    "X_train, X_test, y_train, y_test = train_test_split(m, n, test_size=0.70,random_state=50)\n",
    "seventh_pred_x = finalDF_two.iloc[:,0:19]\n",
    "seventh_pred_y = finalDF_two.iloc[:,19]\n",
    "model = lm.fit(X_train,y_train)\n",
    "model.intercept_\n",
    "model.coef_\n",
    "model = lm.fit(X_train,y_train)\n",
    "model.intercept_\n",
    "model.coef_\n",
    "\n",
    "\n",
    "model.predict(seventh_pred_x)\n",
    "model.predict(seventh_pred_x)[0] - tz2DF[\"measurements_height\"][0]\n",
    "\n",
    "x = model.predict(seventh_pred_x)\n",
    "#plt.scatter(x,z,color=\"black\")\n",
    "#Distrubution of Errors pred vs actual\n",
    "plt.hist(x-seventh_pred_y,bins = 50)\n",
    "plt.show()\n"
   ]
  },
  {
   "cell_type": "markdown",
   "metadata": {},
   "source": [
    "# Prediciton from 80%"
   ]
  },
  {
   "cell_type": "code",
   "execution_count": 25,
   "metadata": {},
   "outputs": [
    {
     "data": {
      "image/png": "[encoded data removed]",
      "text/plain": [
       "<Figure size 432x288 with 1 Axes>"
      ]
     },
     "metadata": {
      "needs_background": "light"
     },
     "output_type": "display_data"
    }
   ],
   "source": [
    "X_train, X_test, y_train, y_test = train_test_split(m, n, test_size=0.80,random_state=50)\n",
    "eigth_pred_x = finalDF_two.iloc[:,0:19]\n",
    "eigth_pred_y = finalDF_two.iloc[:,19]\n",
    "model = lm.fit(X_train,y_train)\n",
    "model.intercept_\n",
    "model.coef_\n",
    "model = lm.fit(X_train,y_train)\n",
    "model.intercept_\n",
    "model.coef_\n",
    "\n",
    "\n",
    "model.predict(eigth_pred_x)\n",
    "model.predict(eigth_pred_x)[0] - tz2DF[\"measurements_height\"][0]\n",
    "\n",
    "x = model.predict(eigth_pred_x)\n",
    "#plt.scatter(x,z,color=\"black\")\n",
    "#Distrubution of Errors pred vs actual\n",
    "plt.hist(x-eigth_pred_y,bins = 50)\n",
    "plt.show()\n"
   ]
  },
  {
   "cell_type": "markdown",
   "metadata": {},
   "source": [
    "# References\n",
    "List relevant references:\n"
   ]
  },
  {
   "cell_type": "code",
   "execution_count": null,
   "metadata": {},
   "outputs": [],
   "source": []
  }
 ],
 "metadata": {
  "kernelspec": {
   "display_name": "Python 3",
   "language": "python",
   "name": "python3"
  },
  "language_info": {
   "codemirror_mode": {
    "name": "ipython",
    "version": 3
   },
   "file_extension": ".py",
   "mimetype": "text/x-python",
   "name": "python",
   "nbconvert_exporter": "python",
   "pygments_lexer": "ipython3",
   "version": "3.8.5"
  },
  "toc": {
   "base_numbering": 1,
   "nav_menu": {},
   "number_sections": true,
   "sideBar": true,
   "skip_h1_title": false,
   "title_cell": "Table of Contents",
   "title_sidebar": "Contents",
   "toc_cell": false,
   "toc_position": {
    "height": "calc(100% - 180px)",
    "left": "10px",
    "top": "150px",
    "width": "248.182px"
   },
   "toc_section_display": true,
   "toc_window_display": true
  }
 },
 "nbformat": 4,
 "nbformat_minor": 4
}
